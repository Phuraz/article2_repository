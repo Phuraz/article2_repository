{
 "cells": [
  {
   "cell_type": "code",
   "execution_count": 1,
   "id": "86e6349a-b930-4229-b87b-346ca38ecd99",
   "metadata": {},
   "outputs": [],
   "source": [
    "import numpy as np\n",
    "import pandas as pd\n",
    "import pymc as pm\n",
    "import numpy as np\n",
    "import pandas as pd\n",
    "import arviz as az\n",
    "from scipy.stats import kstest\n",
    "from sklearn.ensemble import HistGradientBoostingClassifier\n",
    "from sklearn.calibration import CalibratedClassifierCV\n",
    "from IPython.display import Latex, display"
   ]
  },
  {
   "cell_type": "code",
   "execution_count": 2,
   "id": "23ba1433-f3f2-40d6-ac79-49bd92eec92d",
   "metadata": {},
   "outputs": [
    {
     "name": "stdout",
     "output_type": "stream",
     "text": [
      "Number of rows using .shape[0]: 15000\n"
     ]
    }
   ],
   "source": [
    "file_path = 'bitcoin_blocks_and_transactions_sorted.csv'\n",
    "pd.set_option('display.max_columns', None)\n",
    "df = pd.read_csv(file_path,index_col=False)\n",
    "num_rows = df.shape[0]\n",
    "print(f\"Number of rows using .shape[0]: {num_rows}\")"
   ]
  },
  {
   "cell_type": "code",
   "execution_count": 3,
   "id": "457f8ff6-e2e9-4e2b-9c6c-3f5775e153d7",
   "metadata": {},
   "outputs": [
    {
     "data": {
      "text/plain": [
       "'df_head = df.head()\\n\\nlatex_table_string = df_head.to_latex(\\n    index=False,\\n    caption=\"First 5 rows of DataFrame\",\\n    label=\"tab:dataframe_head\"\\n)\\n\\ndisplay(Latex(latex_table_string))'"
      ]
     },
     "execution_count": 3,
     "metadata": {},
     "output_type": "execute_result"
    }
   ],
   "source": [
    "\n",
    "\"\"\"df_head = df.head()\n",
    "\n",
    "latex_table_string = df_head.to_latex(\n",
    "    index=False,\n",
    "    caption=\"First 5 rows of DataFrame\",\n",
    "    label=\"tab:dataframe_head\"\n",
    ")\n",
    "\n",
    "display(Latex(latex_table_string))\"\"\""
   ]
  },
  {
   "cell_type": "code",
   "execution_count": 4,
   "id": "899fa39b-2a3c-4da3-a41a-a086e1f682bf",
   "metadata": {
    "scrolled": true
   },
   "outputs": [
    {
     "data": {
      "text/html": [
       "<div>\n",
       "<style scoped>\n",
       "    .dataframe tbody tr th:only-of-type {\n",
       "        vertical-align: middle;\n",
       "    }\n",
       "\n",
       "    .dataframe tbody tr th {\n",
       "        vertical-align: top;\n",
       "    }\n",
       "\n",
       "    .dataframe thead th {\n",
       "        text-align: right;\n",
       "    }\n",
       "</style>\n",
       "<table border=\"1\" class=\"dataframe\">\n",
       "  <thead>\n",
       "    <tr style=\"text-align: right;\">\n",
       "      <th></th>\n",
       "      <th>id</th>\n",
       "      <th>height</th>\n",
       "      <th>version</th>\n",
       "      <th>timestamp</th>\n",
       "      <th>tx_count</th>\n",
       "      <th>size</th>\n",
       "      <th>weight</th>\n",
       "      <th>merkle_root</th>\n",
       "      <th>previousblockhash</th>\n",
       "      <th>mediantime</th>\n",
       "      <th>nonce</th>\n",
       "      <th>bits</th>\n",
       "      <th>difficulty</th>\n",
       "      <th>total_trans_fees</th>\n",
       "      <th>input_count</th>\n",
       "      <th>output_count</th>\n",
       "      <th>input_value</th>\n",
       "    </tr>\n",
       "  </thead>\n",
       "  <tbody>\n",
       "    <tr>\n",
       "      <th>0</th>\n",
       "      <td>00000000000000000001c827e4d9c2360756e5d76e492b...</td>\n",
       "      <td>862501</td>\n",
       "      <td>603979776</td>\n",
       "      <td>1727084204</td>\n",
       "      <td>2277</td>\n",
       "      <td>1856961</td>\n",
       "      <td>3992901</td>\n",
       "      <td>17d01c5d7b8441565de2ccf4db0e8163403b0899007f07...</td>\n",
       "      <td>00000000000000000002d5b4f115ca2458acb75a13422e...</td>\n",
       "      <td>1727081265</td>\n",
       "      <td>978191335</td>\n",
       "      <td>386075020</td>\n",
       "      <td>9.267158e+13</td>\n",
       "      <td>4271007</td>\n",
       "      <td>10932.0</td>\n",
       "      <td>1.021110e+11</td>\n",
       "      <td>1.017980e+11</td>\n",
       "    </tr>\n",
       "    <tr>\n",
       "      <th>1</th>\n",
       "      <td>0000000000000000000165f7b6a0c0ef25ea3cae79c865...</td>\n",
       "      <td>862502</td>\n",
       "      <td>738197504</td>\n",
       "      <td>1727084749</td>\n",
       "      <td>2341</td>\n",
       "      <td>1839000</td>\n",
       "      <td>3993360</td>\n",
       "      <td>47ed70e4da0f302114fc572bab062c99c0bbe3070fd315...</td>\n",
       "      <td>00000000000000000001c827e4d9c2360756e5d76e492b...</td>\n",
       "      <td>1727082238</td>\n",
       "      <td>827544669</td>\n",
       "      <td>386075020</td>\n",
       "      <td>9.267158e+13</td>\n",
       "      <td>4302041</td>\n",
       "      <td>10719.0</td>\n",
       "      <td>7.759630e+11</td>\n",
       "      <td>7.756510e+11</td>\n",
       "    </tr>\n",
       "    <tr>\n",
       "      <th>2</th>\n",
       "      <td>00000000000000000001a519c445c0a3f1319630603560...</td>\n",
       "      <td>862503</td>\n",
       "      <td>823279616</td>\n",
       "      <td>1727085461</td>\n",
       "      <td>3137</td>\n",
       "      <td>1645376</td>\n",
       "      <td>3993413</td>\n",
       "      <td>eeff8b0b686006f32aedbe7d4c0eaaa321b6fd73c8c723...</td>\n",
       "      <td>0000000000000000000165f7b6a0c0ef25ea3cae79c865...</td>\n",
       "      <td>1727082320</td>\n",
       "      <td>871041503</td>\n",
       "      <td>386075020</td>\n",
       "      <td>9.267158e+13</td>\n",
       "      <td>5259048</td>\n",
       "      <td>8704.0</td>\n",
       "      <td>1.899960e+11</td>\n",
       "      <td>1.896830e+11</td>\n",
       "    </tr>\n",
       "    <tr>\n",
       "      <th>3</th>\n",
       "      <td>000000000000000000020bce365f1f28bc4d51779fdb02...</td>\n",
       "      <td>862504</td>\n",
       "      <td>536911872</td>\n",
       "      <td>1727086363</td>\n",
       "      <td>3447</td>\n",
       "      <td>1716979</td>\n",
       "      <td>3993739</td>\n",
       "      <td>dc16c1f3d16552542d1a10894dbcc7fda6464ea7f3f055...</td>\n",
       "      <td>00000000000000000001a519c445c0a3f1319630603560...</td>\n",
       "      <td>1727082730</td>\n",
       "      <td>3106376116</td>\n",
       "      <td>386075020</td>\n",
       "      <td>9.267158e+13</td>\n",
       "      <td>5575404</td>\n",
       "      <td>8815.0</td>\n",
       "      <td>2.577620e+12</td>\n",
       "      <td>2.577300e+12</td>\n",
       "    </tr>\n",
       "    <tr>\n",
       "      <th>4</th>\n",
       "      <td>000000000000000000020a8002a7488358d0a7313a00c9...</td>\n",
       "      <td>862505</td>\n",
       "      <td>1073676288</td>\n",
       "      <td>1727087094</td>\n",
       "      <td>3360</td>\n",
       "      <td>1741490</td>\n",
       "      <td>3997772</td>\n",
       "      <td>e0450adca29bf1be837896b4ea3c8ad693079529bc80e2...</td>\n",
       "      <td>000000000000000000020bce365f1f28bc4d51779fdb02...</td>\n",
       "      <td>1727083818</td>\n",
       "      <td>610837269</td>\n",
       "      <td>386075020</td>\n",
       "      <td>9.267158e+13</td>\n",
       "      <td>5149822</td>\n",
       "      <td>8926.0</td>\n",
       "      <td>5.237330e+11</td>\n",
       "      <td>5.234210e+11</td>\n",
       "    </tr>\n",
       "  </tbody>\n",
       "</table>\n",
       "</div>"
      ],
      "text/plain": [
       "                                                  id  height     version  \\\n",
       "0  00000000000000000001c827e4d9c2360756e5d76e492b...  862501   603979776   \n",
       "1  0000000000000000000165f7b6a0c0ef25ea3cae79c865...  862502   738197504   \n",
       "2  00000000000000000001a519c445c0a3f1319630603560...  862503   823279616   \n",
       "3  000000000000000000020bce365f1f28bc4d51779fdb02...  862504   536911872   \n",
       "4  000000000000000000020a8002a7488358d0a7313a00c9...  862505  1073676288   \n",
       "\n",
       "    timestamp  tx_count     size   weight  \\\n",
       "0  1727084204      2277  1856961  3992901   \n",
       "1  1727084749      2341  1839000  3993360   \n",
       "2  1727085461      3137  1645376  3993413   \n",
       "3  1727086363      3447  1716979  3993739   \n",
       "4  1727087094      3360  1741490  3997772   \n",
       "\n",
       "                                         merkle_root  \\\n",
       "0  17d01c5d7b8441565de2ccf4db0e8163403b0899007f07...   \n",
       "1  47ed70e4da0f302114fc572bab062c99c0bbe3070fd315...   \n",
       "2  eeff8b0b686006f32aedbe7d4c0eaaa321b6fd73c8c723...   \n",
       "3  dc16c1f3d16552542d1a10894dbcc7fda6464ea7f3f055...   \n",
       "4  e0450adca29bf1be837896b4ea3c8ad693079529bc80e2...   \n",
       "\n",
       "                                   previousblockhash  mediantime       nonce  \\\n",
       "0  00000000000000000002d5b4f115ca2458acb75a13422e...  1727081265   978191335   \n",
       "1  00000000000000000001c827e4d9c2360756e5d76e492b...  1727082238   827544669   \n",
       "2  0000000000000000000165f7b6a0c0ef25ea3cae79c865...  1727082320   871041503   \n",
       "3  00000000000000000001a519c445c0a3f1319630603560...  1727082730  3106376116   \n",
       "4  000000000000000000020bce365f1f28bc4d51779fdb02...  1727083818   610837269   \n",
       "\n",
       "        bits    difficulty  total_trans_fees  input_count  output_count  \\\n",
       "0  386075020  9.267158e+13           4271007      10932.0  1.021110e+11   \n",
       "1  386075020  9.267158e+13           4302041      10719.0  7.759630e+11   \n",
       "2  386075020  9.267158e+13           5259048       8704.0  1.899960e+11   \n",
       "3  386075020  9.267158e+13           5575404       8815.0  2.577620e+12   \n",
       "4  386075020  9.267158e+13           5149822       8926.0  5.237330e+11   \n",
       "\n",
       "    input_value  \n",
       "0  1.017980e+11  \n",
       "1  7.756510e+11  \n",
       "2  1.896830e+11  \n",
       "3  2.577300e+12  \n",
       "4  5.234210e+11  "
      ]
     },
     "execution_count": 4,
     "metadata": {},
     "output_type": "execute_result"
    }
   ],
   "source": [
    "df.head()\n",
    "\n"
   ]
  },
  {
   "cell_type": "code",
   "execution_count": 5,
   "id": "6551255a-9a22-48e2-a6da-c4204e4f1f73",
   "metadata": {},
   "outputs": [],
   "source": [
    "columns_to_drop = ['id','height', 'merkle_root','previousblockhash','mediantime']\n",
    "df = df.drop(columns_to_drop, axis=1)"
   ]
  },
  {
   "cell_type": "code",
   "execution_count": 6,
   "id": "bffd72ca-243d-453d-b093-5e5ef278681a",
   "metadata": {},
   "outputs": [],
   "source": [
    "df.insert(0, 'formatted_timestamp', pd.to_datetime(df['timestamp'],unit='s'))"
   ]
  },
  {
   "cell_type": "code",
   "execution_count": 7,
   "id": "0237f969-018d-4193-a32e-40dd4e9f15ce",
   "metadata": {},
   "outputs": [],
   "source": [
    "df= df.sort_values(by='formatted_timestamp', ascending=True)"
   ]
  },
  {
   "cell_type": "code",
   "execution_count": 8,
   "id": "b7284350-2349-4f39-8f04-d780fc967569",
   "metadata": {},
   "outputs": [],
   "source": [
    "delay_interval = round(pd.to_datetime(df['timestamp'],unit='s').diff().dt.total_seconds())\n",
    "df.insert(0, 'delay_interval', delay_interval)"
   ]
  },
  {
   "cell_type": "code",
   "execution_count": 9,
   "id": "949dac7d-5c33-4bcc-8de0-9eb7d0e3e695",
   "metadata": {},
   "outputs": [
    {
     "data": {
      "text/plain": [
       "'\\ndf_head = df.head()\\n\\nlatex_table_string = df_head.to_latex(\\n    index=False,\\n    caption=\"First 5 rows of DataFrame\",\\n    label=\"tab:dataframe_head\"\\n)\\n\\ndisplay(Latex(latex_table_string)) '"
      ]
     },
     "execution_count": 9,
     "metadata": {},
     "output_type": "execute_result"
    }
   ],
   "source": [
    "\n",
    "\"\"\"\n",
    "df_head = df.head()\n",
    "\n",
    "latex_table_string = df_head.to_latex(\n",
    "    index=False,\n",
    "    caption=\"First 5 rows of DataFrame\",\n",
    "    label=\"tab:dataframe_head\"\n",
    ")\n",
    "\n",
    "display(Latex(latex_table_string)) \"\"\""
   ]
  },
  {
   "cell_type": "code",
   "execution_count": 10,
   "id": "805bfd39-489b-4882-831e-d459caad3b03",
   "metadata": {},
   "outputs": [
    {
     "data": {
      "text/html": [
       "<div>\n",
       "<style scoped>\n",
       "    .dataframe tbody tr th:only-of-type {\n",
       "        vertical-align: middle;\n",
       "    }\n",
       "\n",
       "    .dataframe tbody tr th {\n",
       "        vertical-align: top;\n",
       "    }\n",
       "\n",
       "    .dataframe thead th {\n",
       "        text-align: right;\n",
       "    }\n",
       "</style>\n",
       "<table border=\"1\" class=\"dataframe\">\n",
       "  <thead>\n",
       "    <tr style=\"text-align: right;\">\n",
       "      <th></th>\n",
       "      <th>delay_interval</th>\n",
       "      <th>formatted_timestamp</th>\n",
       "      <th>version</th>\n",
       "      <th>timestamp</th>\n",
       "      <th>tx_count</th>\n",
       "      <th>size</th>\n",
       "      <th>weight</th>\n",
       "      <th>nonce</th>\n",
       "      <th>bits</th>\n",
       "      <th>difficulty</th>\n",
       "      <th>total_trans_fees</th>\n",
       "      <th>input_count</th>\n",
       "      <th>output_count</th>\n",
       "      <th>input_value</th>\n",
       "    </tr>\n",
       "  </thead>\n",
       "  <tbody>\n",
       "    <tr>\n",
       "      <th>0</th>\n",
       "      <td>NaN</td>\n",
       "      <td>2024-09-23 09:36:44</td>\n",
       "      <td>603979776</td>\n",
       "      <td>1727084204</td>\n",
       "      <td>2277</td>\n",
       "      <td>1856961</td>\n",
       "      <td>3992901</td>\n",
       "      <td>978191335</td>\n",
       "      <td>386075020</td>\n",
       "      <td>9.267158e+13</td>\n",
       "      <td>4271007</td>\n",
       "      <td>10932.0</td>\n",
       "      <td>1.021110e+11</td>\n",
       "      <td>1.017980e+11</td>\n",
       "    </tr>\n",
       "    <tr>\n",
       "      <th>1</th>\n",
       "      <td>545.0</td>\n",
       "      <td>2024-09-23 09:45:49</td>\n",
       "      <td>738197504</td>\n",
       "      <td>1727084749</td>\n",
       "      <td>2341</td>\n",
       "      <td>1839000</td>\n",
       "      <td>3993360</td>\n",
       "      <td>827544669</td>\n",
       "      <td>386075020</td>\n",
       "      <td>9.267158e+13</td>\n",
       "      <td>4302041</td>\n",
       "      <td>10719.0</td>\n",
       "      <td>7.759630e+11</td>\n",
       "      <td>7.756510e+11</td>\n",
       "    </tr>\n",
       "    <tr>\n",
       "      <th>2</th>\n",
       "      <td>712.0</td>\n",
       "      <td>2024-09-23 09:57:41</td>\n",
       "      <td>823279616</td>\n",
       "      <td>1727085461</td>\n",
       "      <td>3137</td>\n",
       "      <td>1645376</td>\n",
       "      <td>3993413</td>\n",
       "      <td>871041503</td>\n",
       "      <td>386075020</td>\n",
       "      <td>9.267158e+13</td>\n",
       "      <td>5259048</td>\n",
       "      <td>8704.0</td>\n",
       "      <td>1.899960e+11</td>\n",
       "      <td>1.896830e+11</td>\n",
       "    </tr>\n",
       "    <tr>\n",
       "      <th>3</th>\n",
       "      <td>902.0</td>\n",
       "      <td>2024-09-23 10:12:43</td>\n",
       "      <td>536911872</td>\n",
       "      <td>1727086363</td>\n",
       "      <td>3447</td>\n",
       "      <td>1716979</td>\n",
       "      <td>3993739</td>\n",
       "      <td>3106376116</td>\n",
       "      <td>386075020</td>\n",
       "      <td>9.267158e+13</td>\n",
       "      <td>5575404</td>\n",
       "      <td>8815.0</td>\n",
       "      <td>2.577620e+12</td>\n",
       "      <td>2.577300e+12</td>\n",
       "    </tr>\n",
       "    <tr>\n",
       "      <th>4</th>\n",
       "      <td>731.0</td>\n",
       "      <td>2024-09-23 10:24:54</td>\n",
       "      <td>1073676288</td>\n",
       "      <td>1727087094</td>\n",
       "      <td>3360</td>\n",
       "      <td>1741490</td>\n",
       "      <td>3997772</td>\n",
       "      <td>610837269</td>\n",
       "      <td>386075020</td>\n",
       "      <td>9.267158e+13</td>\n",
       "      <td>5149822</td>\n",
       "      <td>8926.0</td>\n",
       "      <td>5.237330e+11</td>\n",
       "      <td>5.234210e+11</td>\n",
       "    </tr>\n",
       "  </tbody>\n",
       "</table>\n",
       "</div>"
      ],
      "text/plain": [
       "   delay_interval formatted_timestamp     version   timestamp  tx_count  \\\n",
       "0             NaN 2024-09-23 09:36:44   603979776  1727084204      2277   \n",
       "1           545.0 2024-09-23 09:45:49   738197504  1727084749      2341   \n",
       "2           712.0 2024-09-23 09:57:41   823279616  1727085461      3137   \n",
       "3           902.0 2024-09-23 10:12:43   536911872  1727086363      3447   \n",
       "4           731.0 2024-09-23 10:24:54  1073676288  1727087094      3360   \n",
       "\n",
       "      size   weight       nonce       bits    difficulty  total_trans_fees  \\\n",
       "0  1856961  3992901   978191335  386075020  9.267158e+13           4271007   \n",
       "1  1839000  3993360   827544669  386075020  9.267158e+13           4302041   \n",
       "2  1645376  3993413   871041503  386075020  9.267158e+13           5259048   \n",
       "3  1716979  3993739  3106376116  386075020  9.267158e+13           5575404   \n",
       "4  1741490  3997772   610837269  386075020  9.267158e+13           5149822   \n",
       "\n",
       "   input_count  output_count   input_value  \n",
       "0      10932.0  1.021110e+11  1.017980e+11  \n",
       "1      10719.0  7.759630e+11  7.756510e+11  \n",
       "2       8704.0  1.899960e+11  1.896830e+11  \n",
       "3       8815.0  2.577620e+12  2.577300e+12  \n",
       "4       8926.0  5.237330e+11  5.234210e+11  "
      ]
     },
     "execution_count": 10,
     "metadata": {},
     "output_type": "execute_result"
    }
   ],
   "source": [
    "df.head()"
   ]
  },
  {
   "cell_type": "code",
   "execution_count": 11,
   "id": "4d14cf8f-7c46-401a-a71c-0e2e95895615",
   "metadata": {},
   "outputs": [],
   "source": [
    "df.iat[0, 0] = 0\n",
    "df['difficulty'] = pd.to_numeric(df['difficulty'], errors='coerce')"
   ]
  },
  {
   "cell_type": "code",
   "execution_count": 12,
   "id": "bb958887-ebb5-43cf-ae06-9eddf78fc378",
   "metadata": {},
   "outputs": [
    {
     "data": {
      "text/plain": [
       "'df_head = df.head()\\n\\nlatex_table_string = df_head.to_latex(\\n    index=False,\\n    caption=\"First 5 rows of DataFrame\",\\n    label=\"tab:dataframe_head\"\\n)\\n\\ndisplay(Latex(latex_table_string))'"
      ]
     },
     "execution_count": 12,
     "metadata": {},
     "output_type": "execute_result"
    }
   ],
   "source": [
    "\"\"\"df_head = df.head()\n",
    "\n",
    "latex_table_string = df_head.to_latex(\n",
    "    index=False,\n",
    "    caption=\"First 5 rows of DataFrame\",\n",
    "    label=\"tab:dataframe_head\"\n",
    ")\n",
    "\n",
    "display(Latex(latex_table_string))\"\"\""
   ]
  },
  {
   "cell_type": "code",
   "execution_count": 13,
   "id": "2c0eb2ef-93b8-4542-a6f5-d5b84cd8de45",
   "metadata": {},
   "outputs": [
    {
     "data": {
      "text/html": [
       "<div>\n",
       "<style scoped>\n",
       "    .dataframe tbody tr th:only-of-type {\n",
       "        vertical-align: middle;\n",
       "    }\n",
       "\n",
       "    .dataframe tbody tr th {\n",
       "        vertical-align: top;\n",
       "    }\n",
       "\n",
       "    .dataframe thead th {\n",
       "        text-align: right;\n",
       "    }\n",
       "</style>\n",
       "<table border=\"1\" class=\"dataframe\">\n",
       "  <thead>\n",
       "    <tr style=\"text-align: right;\">\n",
       "      <th></th>\n",
       "      <th>delay_interval</th>\n",
       "      <th>formatted_timestamp</th>\n",
       "      <th>version</th>\n",
       "      <th>timestamp</th>\n",
       "      <th>tx_count</th>\n",
       "      <th>size</th>\n",
       "      <th>weight</th>\n",
       "      <th>nonce</th>\n",
       "      <th>bits</th>\n",
       "      <th>difficulty</th>\n",
       "      <th>total_trans_fees</th>\n",
       "      <th>input_count</th>\n",
       "      <th>output_count</th>\n",
       "      <th>input_value</th>\n",
       "    </tr>\n",
       "  </thead>\n",
       "  <tbody>\n",
       "    <tr>\n",
       "      <th>0</th>\n",
       "      <td>0.0</td>\n",
       "      <td>2024-09-23 09:36:44</td>\n",
       "      <td>603979776</td>\n",
       "      <td>1727084204</td>\n",
       "      <td>2277</td>\n",
       "      <td>1856961</td>\n",
       "      <td>3992901</td>\n",
       "      <td>978191335</td>\n",
       "      <td>386075020</td>\n",
       "      <td>9.267158e+13</td>\n",
       "      <td>4271007</td>\n",
       "      <td>10932.0</td>\n",
       "      <td>1.021110e+11</td>\n",
       "      <td>1.017980e+11</td>\n",
       "    </tr>\n",
       "    <tr>\n",
       "      <th>1</th>\n",
       "      <td>545.0</td>\n",
       "      <td>2024-09-23 09:45:49</td>\n",
       "      <td>738197504</td>\n",
       "      <td>1727084749</td>\n",
       "      <td>2341</td>\n",
       "      <td>1839000</td>\n",
       "      <td>3993360</td>\n",
       "      <td>827544669</td>\n",
       "      <td>386075020</td>\n",
       "      <td>9.267158e+13</td>\n",
       "      <td>4302041</td>\n",
       "      <td>10719.0</td>\n",
       "      <td>7.759630e+11</td>\n",
       "      <td>7.756510e+11</td>\n",
       "    </tr>\n",
       "    <tr>\n",
       "      <th>2</th>\n",
       "      <td>712.0</td>\n",
       "      <td>2024-09-23 09:57:41</td>\n",
       "      <td>823279616</td>\n",
       "      <td>1727085461</td>\n",
       "      <td>3137</td>\n",
       "      <td>1645376</td>\n",
       "      <td>3993413</td>\n",
       "      <td>871041503</td>\n",
       "      <td>386075020</td>\n",
       "      <td>9.267158e+13</td>\n",
       "      <td>5259048</td>\n",
       "      <td>8704.0</td>\n",
       "      <td>1.899960e+11</td>\n",
       "      <td>1.896830e+11</td>\n",
       "    </tr>\n",
       "    <tr>\n",
       "      <th>3</th>\n",
       "      <td>902.0</td>\n",
       "      <td>2024-09-23 10:12:43</td>\n",
       "      <td>536911872</td>\n",
       "      <td>1727086363</td>\n",
       "      <td>3447</td>\n",
       "      <td>1716979</td>\n",
       "      <td>3993739</td>\n",
       "      <td>3106376116</td>\n",
       "      <td>386075020</td>\n",
       "      <td>9.267158e+13</td>\n",
       "      <td>5575404</td>\n",
       "      <td>8815.0</td>\n",
       "      <td>2.577620e+12</td>\n",
       "      <td>2.577300e+12</td>\n",
       "    </tr>\n",
       "    <tr>\n",
       "      <th>4</th>\n",
       "      <td>731.0</td>\n",
       "      <td>2024-09-23 10:24:54</td>\n",
       "      <td>1073676288</td>\n",
       "      <td>1727087094</td>\n",
       "      <td>3360</td>\n",
       "      <td>1741490</td>\n",
       "      <td>3997772</td>\n",
       "      <td>610837269</td>\n",
       "      <td>386075020</td>\n",
       "      <td>9.267158e+13</td>\n",
       "      <td>5149822</td>\n",
       "      <td>8926.0</td>\n",
       "      <td>5.237330e+11</td>\n",
       "      <td>5.234210e+11</td>\n",
       "    </tr>\n",
       "  </tbody>\n",
       "</table>\n",
       "</div>"
      ],
      "text/plain": [
       "   delay_interval formatted_timestamp     version   timestamp  tx_count  \\\n",
       "0             0.0 2024-09-23 09:36:44   603979776  1727084204      2277   \n",
       "1           545.0 2024-09-23 09:45:49   738197504  1727084749      2341   \n",
       "2           712.0 2024-09-23 09:57:41   823279616  1727085461      3137   \n",
       "3           902.0 2024-09-23 10:12:43   536911872  1727086363      3447   \n",
       "4           731.0 2024-09-23 10:24:54  1073676288  1727087094      3360   \n",
       "\n",
       "      size   weight       nonce       bits    difficulty  total_trans_fees  \\\n",
       "0  1856961  3992901   978191335  386075020  9.267158e+13           4271007   \n",
       "1  1839000  3993360   827544669  386075020  9.267158e+13           4302041   \n",
       "2  1645376  3993413   871041503  386075020  9.267158e+13           5259048   \n",
       "3  1716979  3993739  3106376116  386075020  9.267158e+13           5575404   \n",
       "4  1741490  3997772   610837269  386075020  9.267158e+13           5149822   \n",
       "\n",
       "   input_count  output_count   input_value  \n",
       "0      10932.0  1.021110e+11  1.017980e+11  \n",
       "1      10719.0  7.759630e+11  7.756510e+11  \n",
       "2       8704.0  1.899960e+11  1.896830e+11  \n",
       "3       8815.0  2.577620e+12  2.577300e+12  \n",
       "4       8926.0  5.237330e+11  5.234210e+11  "
      ]
     },
     "execution_count": 13,
     "metadata": {},
     "output_type": "execute_result"
    }
   ],
   "source": [
    " df.head()"
   ]
  },
  {
   "cell_type": "code",
   "execution_count": 14,
   "id": "afe98149-99dd-471e-872b-e8f0401a2d93",
   "metadata": {},
   "outputs": [],
   "source": [
    "def zscore_safe(a):\n",
    "    a = np.asarray(a, float)\n",
    "    m = np.nanmean(a)\n",
    "    s = np.nanstd(a)\n",
    "    if not np.isfinite(s) or s == 0:\n",
    "        # column is constant or degenerate -> use zeros (no signal, no NaNs)\n",
    "        return np.zeros_like(a)\n",
    "    return (a - m) / s"
   ]
  },
  {
   "cell_type": "code",
   "execution_count": 15,
   "id": "1b768285-afe4-4951-a947-d0dec2891ef4",
   "metadata": {},
   "outputs": [],
   "source": [
    "x_diff = zscore_safe(df['difficulty'])\n",
    "x_tx = zscore_safe(df['tx_count'])\n",
    "x_size = zscore_safe(df['size'])\n",
    "x_weight = zscore_safe(df['weight'])\n",
    "#x_input = zscore(df['input_count'])\n",
    "x_input = zscore_safe(df['input_count'])\n",
    "x_fees = zscore_safe(df['total_trans_fees'])"
   ]
  },
  {
   "cell_type": "code",
   "execution_count": 16,
   "id": "6f2c2e2b-15e8-4918-907b-f1bf5d532a70",
   "metadata": {},
   "outputs": [],
   "source": [
    "times_data = np.cumsum(df['delay_interval']).astype(float)"
   ]
  },
  {
   "cell_type": "code",
   "execution_count": 17,
   "id": "682c80f5-0208-4ed0-a67d-d9340a8f5a9d",
   "metadata": {},
   "outputs": [
    {
     "data": {
      "text/plain": [
       "15000"
      ]
     },
     "execution_count": 17,
     "metadata": {},
     "output_type": "execute_result"
    }
   ],
   "source": [
    "N=len(times_data) \n",
    "N"
   ]
  },
  {
   "cell_type": "code",
   "execution_count": 18,
   "id": "55a2c198-4d2d-4815-94b8-ac6cd87a7fc3",
   "metadata": {},
   "outputs": [],
   "source": [
    "# Build design matrix (N x 6). Make sure each vector has length N == len(dt)\n",
    "X = np.column_stack([\n",
    "    np.asarray(x_diff,  float),\n",
    "    np.asarray(x_tx,    float)\n",
    "    #np.asarray(x_size,  float),\n",
    "    #np.asarray(x_weight,float),\n",
    "    #np.asarray(x_input, float),\n",
    "    #np.asarray(x_fees,  float),\n",
    "])"
   ]
  },
  {
   "cell_type": "code",
   "execution_count": 19,
   "id": "2489c6d5-75d8-49f6-82e5-9df61650023b",
   "metadata": {},
   "outputs": [],
   "source": [
    "col_medians = np.nanmedian(X, axis=0)"
   ]
  },
  {
   "cell_type": "code",
   "execution_count": 20,
   "id": "19c073af-3e8f-4473-9fb9-3f9a2b702942",
   "metadata": {},
   "outputs": [],
   "source": [
    "X = np.where(np.isfinite(X), X, col_medians)\n",
    "\n",
    "assert np.all(np.isfinite(X))"
   ]
  },
  {
   "cell_type": "code",
   "execution_count": 21,
   "id": "8e8add77-744c-4775-a7bf-f62ca1ecfc21",
   "metadata": {},
   "outputs": [],
   "source": [
    "def make_intervals(times_data):\n",
    "    t = np.asarray(times_data, float)\n",
    "    t = t[np.isfinite(t)]\n",
    "    t = np.sort(t)\n",
    "    if t.size == 0:\n",
    "        raise ValueError(\"No events\")\n",
    "\n",
    "    # gaps: from 0→t0, then between events\n",
    "    dt = np.empty_like(t)\n",
    "    dt[0]  = t[0]                 # gap from 0 to first event\n",
    "    di     = np.diff(t)\n",
    "    # robust tiny epsilon to avoid zeros/negatives everywhere\n",
    "    med    = np.median(di[di>0]) if np.any(di>0) else max(t[0], 600.0)\n",
    "    eps    = max(1e-12, 1e-9*med)\n",
    "    dt[1:] = np.where(di > 0, di, eps)\n",
    "    # clip the first gap too (in case t[0]==0)\n",
    "    dt[0]  = max(dt[0], eps)\n",
    "\n",
    "    return t, dt, eps\n",
    "\n",
    "times, dt, eps = make_intervals(times_data)   # <-- use your times_data here\n",
    "N = dt.size\n",
    "coords = {\"interval\": np.arange(N)}"
   ]
  },
  {
   "cell_type": "code",
   "execution_count": 49,
   "id": "9b6ff8dc-05e1-4866-ab89-892c27e07f41",
   "metadata": {},
   "outputs": [
    {
     "name": "stderr",
     "output_type": "stream",
     "text": [
      "Initializing NUTS using adapt_diag...\n",
      "Multiprocess sampling (4 chains in 4 jobs)\n",
      "NUTS: [beta0, b]\n"
     ]
    },
    {
     "data": {
      "application/vnd.jupyter.widget-view+json": {
       "model_id": "58dd9cef49d046cc99edc49784ef9060",
       "version_major": 2,
       "version_minor": 0
      },
      "text/plain": [
       "Output()"
      ]
     },
     "metadata": {},
     "output_type": "display_data"
    },
    {
     "data": {
      "text/html": [
       "<pre style=\"white-space:pre;overflow-x:auto;line-height:normal;font-family:Menlo,'DejaVu Sans Mono',consolas,'Courier New',monospace\"></pre>\n"
      ],
      "text/plain": []
     },
     "metadata": {},
     "output_type": "display_data"
    },
    {
     "name": "stderr",
     "output_type": "stream",
     "text": [
      "Sampling 4 chains for 1_000 tune and 1_000 draw iterations (4_000 + 4_000 draws total) took 33 seconds.\n"
     ]
    }
   ],
   "source": [
    "#feat_names = [\"diff\",\"tx\",\"size\",\"weight\",\"input\",\"fees\"]\n",
    "feat_names = [\"diff\",\"tx\"]\n",
    "\n",
    "# If your coords already exist, just ensure they include the 'feat' axis:\n",
    "coords = {\n",
    "    \"interval\": np.arange(len(dt)),\n",
    "    \"feat\": feat_names,\n",
    "}\n",
    "p  = X.shape[1]   \n",
    "with pm.Model(coords={\"interval\": np.arange(N), \"feat\": np.arange(p)}) as ip_m:\n",
    "    dt_c = pm.Data(\"dt\", dt, dims=[\"interval\"])\n",
    "    X_c  = pm.Data(\"X\",  X,  dims=[\"interval\",\"feat\"])\n",
    "\n",
    "    beta0 = pm.Normal(\"beta0\", 0., 1.)\n",
    "    b     = pm.Normal(\"b\", 0., 1., dims=[\"feat\"])\n",
    "\n",
    "    lin   = pm.math.clip(beta0 + pm.math.dot(X_c, b), -40, 40)\n",
    "    lam   = pm.math.exp(lin)\n",
    "    ll_i  = pm.math.log(lam) - lam * dt_c\n",
    "    pm.Deterministic(\"ll_interval\", ll_i, dims=[\"interval\"])\n",
    "    pm.Potential(\"sum_ll\", ll_i.sum())\n",
    "\n",
    "    id_ip = pm.sample(1000, tune=1000, chains=4, target_accept=0.9,\n",
    "                      return_inferencedata=True, init=\"adapt_diag\", random_seed=42)\n",
    "\n",
    "# Expose pointwise log-lik for ArviZ (idempotent)\n",
    "try:\n",
    "    id_ip.add_groups({\"log_likelihood\": {\"interval\": id_ip.posterior[\"ll_interval\"]}})\n",
    "except ValueError:\n",
    "    # group exists -> just assign/overwrite the variable\n",
    "    id_ip.log_likelihood[\"interval\"] = id_ip.posterior[\"ll_interval\"]"
   ]
  },
  {
   "cell_type": "code",
   "execution_count": 50,
   "id": "c07898b1-0923-4f71-af96-0e21479da328",
   "metadata": {},
   "outputs": [
    {
     "data": {
      "text/plain": [
       "Shape.0"
      ]
     },
     "execution_count": 50,
     "metadata": {},
     "output_type": "execute_result"
    }
   ],
   "source": [
    "X_c.shape"
   ]
  },
  {
   "cell_type": "code",
   "execution_count": 51,
   "id": "50a0096c-8cf2-42e9-b439-eeba9b6c08de",
   "metadata": {},
   "outputs": [
    {
     "name": "stderr",
     "output_type": "stream",
     "text": [
      "Initializing NUTS using adapt_diag...\n",
      "Multiprocess sampling (4 chains in 4 jobs)\n",
      "NUTS: [mu]\n"
     ]
    },
    {
     "data": {
      "application/vnd.jupyter.widget-view+json": {
       "model_id": "a3c91d95dbc849fd83e87c9416b3f61a",
       "version_major": 2,
       "version_minor": 0
      },
      "text/plain": [
       "Output()"
      ]
     },
     "metadata": {},
     "output_type": "display_data"
    },
    {
     "data": {
      "text/html": [
       "<pre style=\"white-space:pre;overflow-x:auto;line-height:normal;font-family:Menlo,'DejaVu Sans Mono',consolas,'Courier New',monospace\"></pre>\n"
      ],
      "text/plain": []
     },
     "metadata": {},
     "output_type": "display_data"
    },
    {
     "name": "stderr",
     "output_type": "stream",
     "text": [
      "Sampling 4 chains for 1_000 tune and 1_000 draw iterations (4_000 + 4_000 draws total) took 7 seconds.\n"
     ]
    }
   ],
   "source": [
    "with pm.Model(coords=coords) as pois_m:\n",
    "    dt_c = pm.Data(\"dt\", dt, dims=[\"interval\"])\n",
    "    mu   = pm.HalfNormal(\"mu\", 1.0)\n",
    "    lam  = pm.math.clip(mu, 1e-12, 1e12)\n",
    "    ll_i = pm.math.log(lam) - lam * dt_c\n",
    "    pm.Deterministic(\"ll_interval\", ll_i, dims=[\"interval\"])\n",
    "    pm.Potential(\"sum_ll\", ll_i.sum())\n",
    "    id_pois = pm.sample(1000, tune=1000, chains=4, target_accept=0.9,\n",
    "                        return_inferencedata=True, init=\"adapt_diag\", random_seed=42)\n",
    "\n",
    "# expose pointwise loglik for ArviZ\n",
    "id_pois.add_groups({\"log_likelihood\": {\"interval\": id_pois.posterior[\"ll_interval\"]}})"
   ]
  },
  {
   "cell_type": "code",
   "execution_count": 24,
   "id": "bb75ea42-7bc9-46f0-b43f-33449c2574ce",
   "metadata": {},
   "outputs": [
    {
     "name": "stderr",
     "output_type": "stream",
     "text": [
      "Initializing NUTS using adapt_diag...\n",
      "Multiprocess sampling (4 chains in 4 jobs)\n",
      "NUTS: [k, scale]\n"
     ]
    },
    {
     "data": {
      "application/vnd.jupyter.widget-view+json": {
       "model_id": "7c9100db601a42afacab55c78adf691e",
       "version_major": 2,
       "version_minor": 0
      },
      "text/plain": [
       "Output()"
      ]
     },
     "metadata": {},
     "output_type": "display_data"
    },
    {
     "data": {
      "text/html": [
       "<pre style=\"white-space:pre;overflow-x:auto;line-height:normal;font-family:Menlo,'DejaVu Sans Mono',consolas,'Courier New',monospace\"></pre>\n"
      ],
      "text/plain": []
     },
     "metadata": {},
     "output_type": "display_data"
    },
    {
     "name": "stderr",
     "output_type": "stream",
     "text": [
      "Sampling 4 chains for 1_000 tune and 1_000 draw iterations (4_000 + 4_000 draws total) took 36 seconds.\n"
     ]
    }
   ],
   "source": [
    "with pm.Model(coords=coords) as weib_m:\n",
    "    k     = pm.Exponential(\"k\", 1.0)        # shape > 0\n",
    "    scale = pm.Exponential(\"scale\", 1.0)    # scale > 0\n",
    "    y     = pm.Weibull(\"y\", alpha=k, beta=scale, observed=dt, dims=[\"interval\"])\n",
    "    id_weib = pm.sample(1000, tune=1000, chains=4, target_accept=0.95,\n",
    "                        return_inferencedata=True, init=\"adapt_diag\",idata_kwargs={\"log_likelihood\": True}, random_seed=42)\n",
    "\n",
    "id_weib.log_likelihood[\"interval\"] = id_weib.log_likelihood[\"y\"]"
   ]
  },
  {
   "cell_type": "code",
   "execution_count": 25,
   "id": "54265ffd-5a1f-4474-a4be-f08ca391553f",
   "metadata": {},
   "outputs": [
    {
     "name": "stderr",
     "output_type": "stream",
     "text": [
      "Initializing NUTS using adapt_diag...\n",
      "Multiprocess sampling (4 chains in 4 jobs)\n",
      "NUTS: [k, rate]\n"
     ]
    },
    {
     "data": {
      "application/vnd.jupyter.widget-view+json": {
       "model_id": "698fc9540a01427b9fd3f63daa9f2805",
       "version_major": 2,
       "version_minor": 0
      },
      "text/plain": [
       "Output()"
      ]
     },
     "metadata": {},
     "output_type": "display_data"
    },
    {
     "data": {
      "text/html": [
       "<pre style=\"white-space:pre;overflow-x:auto;line-height:normal;font-family:Menlo,'DejaVu Sans Mono',consolas,'Courier New',monospace\"></pre>\n"
      ],
      "text/plain": []
     },
     "metadata": {},
     "output_type": "display_data"
    },
    {
     "name": "stderr",
     "output_type": "stream",
     "text": [
      "Sampling 4 chains for 1_000 tune and 1_000 draw iterations (4_000 + 4_000 draws total) took 7 seconds.\n"
     ]
    }
   ],
   "source": [
    "with pm.Model(coords=coords) as gam_m:\n",
    "    # use built-in likelihood so ArviZ records ll per obs automatically\n",
    "    k    = pm.Exponential(\"k\", 1.0)         # shape > 0\n",
    "    rate = pm.Exponential(\"rate\", 1.0)      # rate > 0  (1/scale)\n",
    "    y    = pm.Gamma(\"y\", alpha=k, beta=rate, observed=dt, dims=[\"interval\"])\n",
    "    id_gamma = pm.sample(1000, tune=1000, chains=4, target_accept=0.95,\n",
    "                         return_inferencedata=True, init=\"adapt_diag\", idata_kwargs={\"log_likelihood\": True}, random_seed=42)\n",
    "\n",
    "# alias to a common name\n",
    "id_gamma.log_likelihood[\"interval\"] = id_gamma.log_likelihood[\"y\"]"
   ]
  },
  {
   "cell_type": "code",
   "execution_count": 26,
   "id": "9e64cbd6-a051-4a09-9d5c-4ee0b0ab9943",
   "metadata": {},
   "outputs": [
    {
     "name": "stderr",
     "output_type": "stream",
     "text": [
      "Multiprocess sampling (4 chains in 4 jobs)\n",
      "CompoundStep\n",
      ">Metropolis: [mu]\n",
      ">Metropolis: [beta]\n",
      ">Metropolis: [rho]\n"
     ]
    },
    {
     "data": {
      "application/vnd.jupyter.widget-view+json": {
       "model_id": "a0f0d650970d41f4a04bd96d068347fa",
       "version_major": 2,
       "version_minor": 0
      },
      "text/plain": [
       "Output()"
      ]
     },
     "metadata": {},
     "output_type": "display_data"
    },
    {
     "name": "stderr",
     "output_type": "stream",
     "text": [
      "/home/phumz/miniconda3/envs/bayes310/lib/python3.10/site-packages/pymc/step_methods/metropolis.py:321: RuntimeWarning: overflow encountered in exp\n",
      "  \"accept\": np.mean(np.exp(self.accept_rate_iter)),\n",
      "/home/phumz/miniconda3/envs/bayes310/lib/python3.10/site-packages/pymc/step_methods/metropolis.py:321: RuntimeWarning: overflow encountered in exp\n",
      "  \"accept\": np.mean(np.exp(self.accept_rate_iter)),\n",
      "/home/phumz/miniconda3/envs/bayes310/lib/python3.10/site-packages/pymc/step_methods/metropolis.py:321: RuntimeWarning: overflow encountered in exp\n",
      "  \"accept\": np.mean(np.exp(self.accept_rate_iter)),\n",
      "/home/phumz/miniconda3/envs/bayes310/lib/python3.10/site-packages/pymc/step_methods/metropolis.py:321: RuntimeWarning: overflow encountered in exp\n",
      "  \"accept\": np.mean(np.exp(self.accept_rate_iter)),\n"
     ]
    },
    {
     "data": {
      "text/html": [
       "<pre style=\"white-space:pre;overflow-x:auto;line-height:normal;font-family:Menlo,'DejaVu Sans Mono',consolas,'Courier New',monospace\"></pre>\n"
      ],
      "text/plain": []
     },
     "metadata": {},
     "output_type": "display_data"
    },
    {
     "name": "stderr",
     "output_type": "stream",
     "text": [
      "Sampling 4 chains for 1_000 tune and 1_000 draw iterations (4_000 + 4_000 draws total) took 946 seconds.\n",
      "The rhat statistic is larger than 1.01 for some parameters. This indicates problems during sampling. See https://arxiv.org/abs/1903.08008 for details\n",
      "The effective sample size per chain is smaller than 100 for some parameters.  A higher number is needed for reliable rhat and ess computation. See https://arxiv.org/abs/1903.08008 for details\n"
     ]
    }
   ],
   "source": [
    "import pytensor.tensor as pt\n",
    "from pytensor.scan.basic import scan\n",
    "\n",
    "def hawkes_ll_interval_pt(dt, mu, alpha, beta, eps=1e-12):\n",
    "    dt = pt.as_tensor_variable(dt)\n",
    "    mu    = pt.clip(mu, eps, 1e12)\n",
    "    alpha = pt.clip(alpha, eps, 1e12)\n",
    "    beta  = pt.clip(beta, eps, 1e12)\n",
    "\n",
    "    def step(dti, s_prev, mu, alpha, beta):\n",
    "        s_i   = pt.exp(-beta*dti) * (s_prev + 1.0)\n",
    "        lam_i = mu + alpha*s_i\n",
    "        log_term = pt.log(pt.clip(lam_i, eps, 1e12))\n",
    "        integ    = mu*dti + (alpha/beta) * s_prev * (1.0 - pt.exp(-beta*dti))\n",
    "        return s_i, (log_term - integ)\n",
    "\n",
    "    (s_seq, contrib_seq), _ = scan(\n",
    "        fn=step,\n",
    "        sequences=[dt],\n",
    "        outputs_info=[pt.as_tensor_variable(0.0).astype(dt.dtype), None],\n",
    "        non_sequences=[mu, alpha, beta],\n",
    "    )\n",
    "    return contrib_seq\n",
    "\n",
    "with pm.Model(coords=coords) as hawkes_m:\n",
    "    dt_c  = pm.Data(\"dt\", dt, dims=[\"interval\"])\n",
    "    mu    = pm.HalfNormal(\"mu\", 1.0)\n",
    "    beta  = pm.HalfNormal(\"beta\", 1.0)\n",
    "    rho   = pm.Beta(\"rho\", 2, 5)\n",
    "    alpha = pm.Deterministic(\"alpha\", rho*beta)\n",
    "\n",
    "    # optional soft stationarity constraint (alpha/beta < 1)\n",
    "    pm.Potential(\"stability\", pm.math.switch(alpha/beta < 0.98, 0.0, -np.inf))\n",
    "\n",
    "    ll_i = hawkes_ll_interval_pt(dt_c, mu, alpha, beta)\n",
    "    pm.Deterministic(\"ll_interval\", ll_i, dims=[\"interval\"])\n",
    "    pm.Potential(\"sum_ll\", ll_i.sum())\n",
    "\n",
    "    # Use Metropolis for robustness (no gradients through scan)\n",
    "    id_hawkes = pm.sample(1000, tune=1000, chains=4, step=pm.Metropolis(),\n",
    "                          return_inferencedata=True, init=\"adapt_diag\",idata_kwargs={\"log_likelihood\": True}, random_seed=42)\n",
    "\n",
    "#id_hawkes.log_likelihood[\"interval\"] = id_hawkes.posterior[\"ll_interval\"]\n",
    "id_hawkes.add_groups({\"log_likelihood\": {\"interval\": id_hawkes.posterior[\"ll_interval\"]}})"
   ]
  },
  {
   "cell_type": "code",
   "execution_count": 28,
   "id": "7a1aab6f-5208-43c0-8ba0-10864afeb1bb",
   "metadata": {},
   "outputs": [
    {
     "name": "stdout",
     "output_type": "stream",
     "text": [
      "pois ('chain', 'draw', 'interval_dim_0') (4, 1000, 15000)\n",
      "ip ('chain', 'draw', 'interval_dim_0') (4, 1000, 15000)\n",
      "gamma ('chain', 'draw', 'interval') (4, 1000, 15000)\n",
      "weibull ('chain', 'draw', 'interval') (4, 1000, 15000)\n",
      "hawkes ('chain', 'draw', 'interval_dim_0') (4, 1000, 15000)\n"
     ]
    }
   ],
   "source": [
    "def show_shape(name, idata):\n",
    "    ll = idata.log_likelihood[\"interval\"]\n",
    "    print(name, ll.dims, ll.shape)\n",
    "\n",
    "for nm, idt in [(\"pois\", id_pois), (\"ip\", id_ip), (\"gamma\", id_gamma),\n",
    "                (\"weibull\", id_weib), (\"hawkes\", id_hawkes)]:\n",
    "    show_shape(nm, idt)"
   ]
  },
  {
   "cell_type": "code",
   "execution_count": 52,
   "id": "3de02825-f652-4ee3-94ff-1142cb5f7267",
   "metadata": {},
   "outputs": [
    {
     "data": {
      "text/html": [
       "<div>\n",
       "<style scoped>\n",
       "    .dataframe tbody tr th:only-of-type {\n",
       "        vertical-align: middle;\n",
       "    }\n",
       "\n",
       "    .dataframe tbody tr th {\n",
       "        vertical-align: top;\n",
       "    }\n",
       "\n",
       "    .dataframe thead th {\n",
       "        text-align: right;\n",
       "    }\n",
       "</style>\n",
       "<table border=\"1\" class=\"dataframe\">\n",
       "  <thead>\n",
       "    <tr style=\"text-align: right;\">\n",
       "      <th></th>\n",
       "      <th>rank</th>\n",
       "      <th>elpd_loo</th>\n",
       "      <th>p_loo</th>\n",
       "      <th>elpd_diff</th>\n",
       "      <th>weight</th>\n",
       "      <th>se</th>\n",
       "      <th>dse</th>\n",
       "      <th>warning</th>\n",
       "      <th>scale</th>\n",
       "    </tr>\n",
       "  </thead>\n",
       "  <tbody>\n",
       "    <tr>\n",
       "      <th>hawkes</th>\n",
       "      <td>0</td>\n",
       "      <td>-104990.719336</td>\n",
       "      <td>1.274078</td>\n",
       "      <td>0.000000</td>\n",
       "      <td>1.000000e+00</td>\n",
       "      <td>152.942897</td>\n",
       "      <td>0.000000</td>\n",
       "      <td>False</td>\n",
       "      <td>log</td>\n",
       "    </tr>\n",
       "    <tr>\n",
       "      <th>ip</th>\n",
       "      <td>1</td>\n",
       "      <td>-110481.544652</td>\n",
       "      <td>2.967393</td>\n",
       "      <td>5490.825315</td>\n",
       "      <td>2.650954e-07</td>\n",
       "      <td>120.776248</td>\n",
       "      <td>68.741589</td>\n",
       "      <td>False</td>\n",
       "      <td>log</td>\n",
       "    </tr>\n",
       "    <tr>\n",
       "      <th>gamma</th>\n",
       "      <td>2</td>\n",
       "      <td>-110508.965823</td>\n",
       "      <td>2.000011</td>\n",
       "      <td>5518.246486</td>\n",
       "      <td>7.278911e-07</td>\n",
       "      <td>120.079164</td>\n",
       "      <td>72.484117</td>\n",
       "      <td>False</td>\n",
       "      <td>log</td>\n",
       "    </tr>\n",
       "    <tr>\n",
       "      <th>poisson</th>\n",
       "      <td>3</td>\n",
       "      <td>-110519.971158</td>\n",
       "      <td>0.955678</td>\n",
       "      <td>5529.251821</td>\n",
       "      <td>5.202841e-20</td>\n",
       "      <td>119.912244</td>\n",
       "      <td>68.901498</td>\n",
       "      <td>False</td>\n",
       "      <td>log</td>\n",
       "    </tr>\n",
       "    <tr>\n",
       "      <th>weibull</th>\n",
       "      <td>4</td>\n",
       "      <td>-110522.424197</td>\n",
       "      <td>1.883905</td>\n",
       "      <td>5531.704861</td>\n",
       "      <td>0.000000e+00</td>\n",
       "      <td>124.495296</td>\n",
       "      <td>70.139477</td>\n",
       "      <td>False</td>\n",
       "      <td>log</td>\n",
       "    </tr>\n",
       "  </tbody>\n",
       "</table>\n",
       "</div>"
      ],
      "text/plain": [
       "         rank       elpd_loo     p_loo    elpd_diff        weight          se  \\\n",
       "hawkes      0 -104990.719336  1.274078     0.000000  1.000000e+00  152.942897   \n",
       "ip          1 -110481.544652  2.967393  5490.825315  2.650954e-07  120.776248   \n",
       "gamma       2 -110508.965823  2.000011  5518.246486  7.278911e-07  120.079164   \n",
       "poisson     3 -110519.971158  0.955678  5529.251821  5.202841e-20  119.912244   \n",
       "weibull     4 -110522.424197  1.883905  5531.704861  0.000000e+00  124.495296   \n",
       "\n",
       "               dse  warning scale  \n",
       "hawkes    0.000000    False   log  \n",
       "ip       68.741589    False   log  \n",
       "gamma    72.484117    False   log  \n",
       "poisson  68.901498    False   log  \n",
       "weibull  70.139477    False   log  "
      ]
     },
     "execution_count": 52,
     "metadata": {},
     "output_type": "execute_result"
    }
   ],
   "source": [
    "import arviz as az\n",
    "cmp = az.compare(\n",
    "    {\"poisson\": id_pois, \"ip\": id_ip, \"gamma\": id_gamma, \"weibull\": id_weib, \"hawkes\": id_hawkes},\n",
    "    ic=\"loo\", method=\"stacking\", var_name=\"interval\"\n",
    ")\n",
    "cmp"
   ]
  },
  {
   "cell_type": "code",
   "execution_count": 53,
   "id": "33c320a6-b62f-416c-87c4-1ff7a28d36ad",
   "metadata": {},
   "outputs": [
    {
     "name": "stdout",
     "output_type": "stream",
     "text": [
      "Δt count=14999, tail(>=600.0)=5348\n"
     ]
    }
   ],
   "source": [
    "import numpy as np\n",
    "\n",
    "# Choose your tail threshold (seconds)\n",
    "tau = 600.0  # e.g., 10 minutes\n",
    "\n",
    "times = np.asarray(times_data, float)\n",
    "times = np.sort(times)             # just to be safe\n",
    "\n",
    "# raw gaps (N-1)\n",
    "dt_all = np.diff(times)\n",
    "\n",
    "print(f\"Δt count={dt_all.size}, tail(>={tau})={np.sum(dt_all>tau)}\")"
   ]
  },
  {
   "cell_type": "code",
   "execution_count": 54,
   "id": "c5198cb0-622a-482d-a19a-16f7843318ea",
   "metadata": {},
   "outputs": [],
   "source": [
    "def tail_mask_from_idata(idata, times, tau, prefer=\"interval\", ignore_first_if_needed=True):\n",
    "    \"\"\"\n",
    "    Returns: mask (bool array length = last dim of the model's log_likelihood),\n",
    "             var_name used, and the last-dimension name.\n",
    "    \"\"\"\n",
    "    # pick the log_likelihood var name\n",
    "    if hasattr(idata, \"log_likelihood\"):\n",
    "        if prefer in idata.log_likelihood.data_vars:\n",
    "            vname = prefer\n",
    "        else:\n",
    "            # fallback: first available\n",
    "            vname = list(idata.log_likelihood.data_vars)[0]\n",
    "    else:\n",
    "        raise ValueError(\"This InferenceData has no log_likelihood group.\")\n",
    "\n",
    "    ll = idata.log_likelihood[vname]\n",
    "    obs_dim = ll.dims[-1]\n",
    "    M = ll.sizes[obs_dim]              # number of pointwise terms stored\n",
    "\n",
    "    times = np.asarray(times, float)\n",
    "    N = len(times)\n",
    "\n",
    "    # Build a dt vector that matches M\n",
    "    if M == N - 1:\n",
    "        dt_for_ll = np.diff(times)             # standard inter-arrivals\n",
    "    elif M == N:\n",
    "        # some Hawkes/Poisson impls stored a length-N vector (including a 'leading' term)\n",
    "        dt_for_ll = np.r_[times[0], np.diff(times)]\n",
    "        if ignore_first_if_needed and M == N:\n",
    "            # If you decide the 'leading' pseudo-gap shouldn't be considered tail:\n",
    "            dt_for_ll = dt_for_ll.copy()\n",
    "            dt_for_ll[0] = -np.inf  # ensure it's not selected as tail\n",
    "    else:\n",
    "        raise ValueError(f\"Can't align: ll length {M} vs times length {N}\")\n",
    "\n",
    "    mask = dt_for_ll > tau\n",
    "    return mask, vname, obs_dim"
   ]
  },
  {
   "cell_type": "code",
   "execution_count": 55,
   "id": "78da6549-1bc0-4198-88df-b37a691fead5",
   "metadata": {},
   "outputs": [
    {
     "name": "stdout",
     "output_type": "stream",
     "text": [
      "Tail-only total log scores (higher is better):\n",
      "hawkes  : -44,510.88\n",
      "gamma   : -44,786.47\n",
      "poisson : -44,827.67\n",
      "ip      : -44,833.83\n",
      "weibull : -44,996.57\n"
     ]
    }
   ],
   "source": [
    "from scipy.special import logsumexp\n",
    "\n",
    "def tail_log_score(idata, times, tau, prefer=\"interval\"):\n",
    "    mask, vname, obs_dim = tail_mask_from_idata(idata, times, tau, prefer=prefer)\n",
    "    ll = idata.log_likelihood[vname]                     # (chain, draw, obs)\n",
    "    arr = np.asarray(ll)                                 # to ndarray\n",
    "    C, D, M = arr.shape\n",
    "    S = C * D\n",
    "    arr2 = arr.reshape(S, M)                             # (samples, obs)\n",
    "\n",
    "    idx = np.where(mask)[0]\n",
    "    if idx.size == 0:\n",
    "        raise ValueError(\"No tail observations under this τ; choose a smaller τ.\")\n",
    "\n",
    "    # log p(y_i) ≈ logsumexp over samples - log(S)\n",
    "    lp_i = logsumexp(arr2[:, idx], axis=0) - np.log(S)   # per-tail-obs log score\n",
    "    return float(lp_i.sum()), lp_i, idx\n",
    "\n",
    "# Run it for each model\n",
    "scores = {}\n",
    "details = {}\n",
    "for name, idt in [(\"poisson\", id_pois), (\"ip\", id_ip), (\"gamma\", id_gamma),\n",
    "                  (\"weibull\", id_weib), (\"hawkes\", id_hawkes)]:\n",
    "    s, lp_i, idx = tail_log_score(idt, times, tau)\n",
    "    scores[name]  = s\n",
    "    details[name] = (lp_i, idx)\n",
    "\n",
    "print(\"Tail-only total log scores (higher is better):\")\n",
    "for k,v in sorted(scores.items(), key=lambda kv: -kv[1]):\n",
    "    print(f\"{k:8s}: {v:,.2f}\")"
   ]
  },
  {
   "cell_type": "code",
   "execution_count": 56,
   "id": "51a50e13-6d59-4024-820d-4e240f251906",
   "metadata": {},
   "outputs": [
    {
     "name": "stdout",
     "output_type": "stream",
     "text": [
      "Median per-tail log-score advantage (Hawkes - Poisson): 0.08026968619832076\n"
     ]
    }
   ],
   "source": [
    "lp_h, idx = details[\"hawkes\"][0], details[\"hawkes\"][1]\n",
    "lp_p      = details[\"poisson\"][0]   # same idx order by construction\n",
    "diff_hp   = lp_h - lp_p\n",
    "print(\"Median per-tail log-score advantage (Hawkes - Poisson):\", np.median(diff_hp))"
   ]
  },
  {
   "cell_type": "code",
   "execution_count": 57,
   "id": "e2c5ae2b-ff90-414e-afc7-54b1b1f4f53d",
   "metadata": {},
   "outputs": [
    {
     "data": {
      "text/plain": [
       "{'poisson': Computed from 4000 posterior samples and 5348 observations log-likelihood matrix.\n",
       " \n",
       "          Estimate       SE\n",
       " elpd_loo -44828.37    70.81\n",
       " p_loo        0.70        -\n",
       " ------\n",
       " \n",
       " Pareto k diagnostic values:\n",
       "                          Count   Pct.\n",
       " (-Inf, 0.70]   (good)     5348  100.0%\n",
       "    (0.70, 1]   (bad)         0    0.0%\n",
       "    (1, Inf)   (very bad)    0    0.0%,\n",
       " 'ip': Computed from 4000 posterior samples and 5348 observations log-likelihood matrix.\n",
       " \n",
       "          Estimate       SE\n",
       " elpd_loo -44835.62    71.12\n",
       " p_loo        1.79        -\n",
       " ------\n",
       " \n",
       " Pareto k diagnostic values:\n",
       "                          Count   Pct.\n",
       " (-Inf, 0.70]   (good)     5348  100.0%\n",
       "    (0.70, 1]   (bad)         0    0.0%\n",
       "    (1, Inf)   (very bad)    0    0.0%,\n",
       " 'gamma': Computed from 4000 posterior samples and 5348 observations log-likelihood matrix.\n",
       " \n",
       "          Estimate       SE\n",
       " elpd_loo -44787.45    73.01\n",
       " p_loo        0.98        -\n",
       " ------\n",
       " \n",
       " Pareto k diagnostic values:\n",
       "                          Count   Pct.\n",
       " (-Inf, 0.70]   (good)     5348  100.0%\n",
       "    (0.70, 1]   (bad)         0    0.0%\n",
       "    (1, Inf)   (very bad)    0    0.0%,\n",
       " 'weibull': Computed from 4000 posterior samples and 5348 observations log-likelihood matrix.\n",
       " \n",
       "          Estimate       SE\n",
       " elpd_loo -44997.70    75.06\n",
       " p_loo        1.12        -\n",
       " ------\n",
       " \n",
       " Pareto k diagnostic values:\n",
       "                          Count   Pct.\n",
       " (-Inf, 0.70]   (good)     5348  100.0%\n",
       "    (0.70, 1]   (bad)         0    0.0%\n",
       "    (1, Inf)   (very bad)    0    0.0%,\n",
       " 'hawkes': Computed from 4000 posterior samples and 5348 observations log-likelihood matrix.\n",
       " \n",
       "          Estimate       SE\n",
       " elpd_loo -44511.38    52.49\n",
       " p_loo        0.51        -\n",
       " ------\n",
       " \n",
       " Pareto k diagnostic values:\n",
       "                          Count   Pct.\n",
       " (-Inf, 0.70]   (good)     5348  100.0%\n",
       "    (0.70, 1]   (bad)         0    0.0%\n",
       "    (1, Inf)   (very bad)    0    0.0%}"
      ]
     },
     "execution_count": 57,
     "metadata": {},
     "output_type": "execute_result"
    }
   ],
   "source": [
    "import arviz as az\n",
    "import xarray as xr\n",
    "\n",
    "def tail_loo(idata, times, tau, prefer=\"interval\"):\n",
    "    mask, vname, obs_dim = tail_mask_from_idata(idata, times, tau, prefer=prefer)\n",
    "    idx = np.where(mask)[0]\n",
    "    if idx.size == 0:\n",
    "        raise ValueError(\"No tail observations under this τ; choose a smaller τ.\")\n",
    "\n",
    "    # Copy and subset ONLY the log_likelihood group\n",
    "    id2 = idata.copy()\n",
    "    ll_full = id2.log_likelihood[vname]\n",
    "    ll_tail = ll_full.isel({obs_dim: idx})\n",
    "\n",
    "    # replace the whole group with the sliced dataset (keeps chain/draw intact)\n",
    "    id2.log_likelihood = xr.Dataset({vname: ll_tail})\n",
    "\n",
    "    # LOO on the restricted set\n",
    "    return az.loo(id2, var_name=vname, pointwise=True)\n",
    "\n",
    "# Example: compute tail LOO for all models\n",
    "loos_tail = {}\n",
    "for name, idt in [(\"poisson\", id_pois), (\"ip\", id_ip), (\"gamma\", id_gamma),\n",
    "                  (\"weibull\", id_weib), (\"hawkes\", id_hawkes)]:\n",
    "    loos_tail[name] = tail_loo(idt, times, tau)\n",
    "\n",
    "loos_tail"
   ]
  },
  {
   "cell_type": "code",
   "execution_count": 58,
   "id": "683dfc70-09aa-4425-913d-e21cf4701e01",
   "metadata": {},
   "outputs": [
    {
     "data": {
      "text/html": [
       "<div>\n",
       "<style scoped>\n",
       "    .dataframe tbody tr th:only-of-type {\n",
       "        vertical-align: middle;\n",
       "    }\n",
       "\n",
       "    .dataframe tbody tr th {\n",
       "        vertical-align: top;\n",
       "    }\n",
       "\n",
       "    .dataframe thead th {\n",
       "        text-align: right;\n",
       "    }\n",
       "</style>\n",
       "<table border=\"1\" class=\"dataframe\">\n",
       "  <thead>\n",
       "    <tr style=\"text-align: right;\">\n",
       "      <th></th>\n",
       "      <th>rank</th>\n",
       "      <th>elpd_loo</th>\n",
       "      <th>p_loo</th>\n",
       "      <th>elpd_diff</th>\n",
       "      <th>weight</th>\n",
       "      <th>se</th>\n",
       "      <th>dse</th>\n",
       "      <th>warning</th>\n",
       "      <th>scale</th>\n",
       "    </tr>\n",
       "  </thead>\n",
       "  <tbody>\n",
       "    <tr>\n",
       "      <th>hawkes</th>\n",
       "      <td>0</td>\n",
       "      <td>-44511.384778</td>\n",
       "      <td>0.508438</td>\n",
       "      <td>0.000000</td>\n",
       "      <td>6.973383e-01</td>\n",
       "      <td>52.492850</td>\n",
       "      <td>0.000000</td>\n",
       "      <td>False</td>\n",
       "      <td>log</td>\n",
       "    </tr>\n",
       "    <tr>\n",
       "      <th>gamma</th>\n",
       "      <td>1</td>\n",
       "      <td>-44787.448431</td>\n",
       "      <td>0.976563</td>\n",
       "      <td>276.063653</td>\n",
       "      <td>3.026617e-01</td>\n",
       "      <td>73.012096</td>\n",
       "      <td>38.582005</td>\n",
       "      <td>False</td>\n",
       "      <td>log</td>\n",
       "    </tr>\n",
       "    <tr>\n",
       "      <th>poisson</th>\n",
       "      <td>2</td>\n",
       "      <td>-44828.369100</td>\n",
       "      <td>0.698497</td>\n",
       "      <td>316.984322</td>\n",
       "      <td>3.645912e-09</td>\n",
       "      <td>70.808481</td>\n",
       "      <td>36.982971</td>\n",
       "      <td>False</td>\n",
       "      <td>log</td>\n",
       "    </tr>\n",
       "    <tr>\n",
       "      <th>ip</th>\n",
       "      <td>3</td>\n",
       "      <td>-44835.621348</td>\n",
       "      <td>1.791159</td>\n",
       "      <td>324.236570</td>\n",
       "      <td>3.772965e-09</td>\n",
       "      <td>71.121805</td>\n",
       "      <td>37.462062</td>\n",
       "      <td>False</td>\n",
       "      <td>log</td>\n",
       "    </tr>\n",
       "    <tr>\n",
       "      <th>weibull</th>\n",
       "      <td>4</td>\n",
       "      <td>-44997.696538</td>\n",
       "      <td>1.124946</td>\n",
       "      <td>486.311760</td>\n",
       "      <td>0.000000e+00</td>\n",
       "      <td>75.055451</td>\n",
       "      <td>40.089662</td>\n",
       "      <td>False</td>\n",
       "      <td>log</td>\n",
       "    </tr>\n",
       "  </tbody>\n",
       "</table>\n",
       "</div>"
      ],
      "text/plain": [
       "         rank      elpd_loo     p_loo   elpd_diff        weight         se  \\\n",
       "hawkes      0 -44511.384778  0.508438    0.000000  6.973383e-01  52.492850   \n",
       "gamma       1 -44787.448431  0.976563  276.063653  3.026617e-01  73.012096   \n",
       "poisson     2 -44828.369100  0.698497  316.984322  3.645912e-09  70.808481   \n",
       "ip          3 -44835.621348  1.791159  324.236570  3.772965e-09  71.121805   \n",
       "weibull     4 -44997.696538  1.124946  486.311760  0.000000e+00  75.055451   \n",
       "\n",
       "               dse  warning scale  \n",
       "hawkes    0.000000    False   log  \n",
       "gamma    38.582005    False   log  \n",
       "poisson  36.982971    False   log  \n",
       "ip       37.462062    False   log  \n",
       "weibull  40.089662    False   log  "
      ]
     },
     "execution_count": 58,
     "metadata": {},
     "output_type": "execute_result"
    }
   ],
   "source": [
    "cmp_tail = az.compare(\n",
    "    {k: v for k,v in loos_tail.items()}, ic=\"loo\", method=\"stacking\", scale=\"log\"\n",
    ")\n",
    "cmp_tail"
   ]
  },
  {
   "cell_type": "code",
   "execution_count": 59,
   "id": "800a8536-8886-469a-b3d9-b70f0cf994aa",
   "metadata": {},
   "outputs": [
    {
     "name": "stdout",
     "output_type": "stream",
     "text": [
      "IP tail exceedance P(Δt>τ): {600: 0.4082420501689126, 900: 0.260873606741964, 1200: 0.16671635235016607}\n"
     ]
    }
   ],
   "source": [
    "import re\n",
    "import numpy as np\n",
    "\n",
    "def _flatten_draws(da):\n",
    "    arr = np.asarray(da)\n",
    "    if arr.ndim == 2:        # (chain, draw)\n",
    "        return arr.reshape(-1)\n",
    "    elif arr.ndim >= 3:      # (chain, draw, ...)\n",
    "        return arr.reshape(arr.shape[0]*arr.shape[1], *arr.shape[2:])\n",
    "    else:\n",
    "        return arr\n",
    "\n",
    "def _detect_ip_params(id_ip, x_future):\n",
    "    post = id_ip.posterior\n",
    "    names = list(post.data_vars)\n",
    "\n",
    "    # try common names\n",
    "    beta0_name = next((n for n in (\"beta0\",\"intercept\",\"const\",\"b0\",\"alpha0\") if n in names), None)\n",
    "    b_name     = next((n for n in (\"b\",\"beta\",\"w\",\"coef\",\"coefs\",\"x_diff\",\"x_tx\") if n in names), None)\n",
    "\n",
    "    p = len(x_future)\n",
    "\n",
    "    # if a vector param with feat dim exists, prefer it\n",
    "    for n in names:\n",
    "        da = post[n]\n",
    "        if \"feat\" in da.dims and da.sizes[\"feat\"] == p:\n",
    "            b_name = n\n",
    "            break\n",
    "\n",
    "    # if still not found, look for any param whose last dim == p\n",
    "    if b_name is None:\n",
    "        for n in names:\n",
    "            da = post[n]\n",
    "            last_dim = da.dims[-1] if da.ndim >= 3 else None\n",
    "            if last_dim and da.sizes[last_dim] == p:\n",
    "                b_name = n\n",
    "                break\n",
    "\n",
    "    # if STILL not found and p==1, allow scalar b\n",
    "    if b_name is None and p == 1:\n",
    "        # pick any scalar var (chain, draw) that looks like a slope\n",
    "        scalars = [n for n in names if (post[n].ndim == 2 and not n.endswith(\"_log__\"))]\n",
    "        if scalars:\n",
    "            b_name = scalars[0]\n",
    "\n",
    "    return b_name, beta0_name\n",
    "\n",
    "def ip_exceed(id_ip, X_future_row, taus):\n",
    "    \"\"\"Return P(Δt > τ | posterior) for an inhomogeneous Poisson (IP) model.\"\"\"\n",
    "    x = np.asarray(X_future_row, float)\n",
    "    x = np.where(np.isfinite(x), x, 0.0)  # fill NaNs with 0 (inputs are z-scored)\n",
    "    p = x.shape[0]\n",
    "\n",
    "    post = id_ip.posterior\n",
    "    b_name, beta0_name = _detect_ip_params(id_ip, x)\n",
    "    if b_name is None:\n",
    "        raise RuntimeError(\"Could not find a coefficient vector in id_ip.posterior\")\n",
    "\n",
    "    # coefficients\n",
    "    b_da = post[b_name]\n",
    "    if \"feat\" in b_da.dims:  # (chain, draw, feat)\n",
    "        b = b_da.transpose(\"chain\",\"draw\",\"feat\").values.reshape(-1, p)\n",
    "    elif b_da.ndim >= 3:     # (chain, draw, something) with last dim == p\n",
    "        b = b_da.transpose(\"chain\",\"draw\", b_da.dims[-1]).values.reshape(-1, p)\n",
    "    elif b_da.ndim == 2 and p == 1:  # scalar slope, 1-feature model\n",
    "        b = b_da.values.reshape(-1, 1)\n",
    "    else:\n",
    "        raise RuntimeError(f\"Param '{b_name}' has unexpected shape {b_da.shape} for p={p}\")\n",
    "\n",
    "    # intercept (optional)\n",
    "    if beta0_name is not None:\n",
    "        beta0 = _flatten_draws(post[beta0_name])  # (ndraws,)\n",
    "    else:\n",
    "        beta0 = np.zeros(b.shape[0], dtype=float)\n",
    "\n",
    "    # check alignment\n",
    "    if beta0.shape[0] != b.shape[0]:\n",
    "        # trim to common ndraws if needed (rare but can happen if groups differ)\n",
    "        nd = min(beta0.shape[0], b.shape[0])\n",
    "        beta0 = beta0[:nd]\n",
    "        b     = b[:nd, :]\n",
    "\n",
    "    # λ = exp(beta0 + x·b)\n",
    "    lin = beta0 + b @ x\n",
    "    lam = np.exp(np.clip(lin, -40, 40))  # (ndraws,)\n",
    "\n",
    "    taus = np.asarray(taus, float)\n",
    "    return np.array([np.mean(np.exp(-lam * t)) for t in taus])\n",
    "\n",
    "# --- example usage ---\n",
    "# choose a covariate row with no NaNs; replace with your choice\n",
    "X_no_nan = X[np.all(np.isfinite(X), axis=1)]\n",
    "X_future = X_no_nan[-1] if len(X_no_nan) else np.nan_to_num(X[-1], nan=0.0)\n",
    "\n",
    "taus = [600, 900, 1200]\n",
    "ex_ip = ip_exceed(id_ip, X_future, taus)\n",
    "print(\"IP tail exceedance P(Δt>τ):\", dict(zip(taus, ex_ip)))"
   ]
  },
  {
   "cell_type": "code",
   "execution_count": 60,
   "id": "7e5704a4-ad5c-4b23-835c-59bb4406226c",
   "metadata": {},
   "outputs": [
    {
     "name": "stdout",
     "output_type": "stream",
     "text": [
      "Posterior vars (name, dims, shape):\n",
      "  beta0                 ('chain', 'draw')  (4, 1000)\n",
      "  b                     ('chain', 'draw', 'feat')  (4, 1000, 2)\n",
      "  ll_interval           ('chain', 'draw', 'interval')  (4, 1000, 15000)\n"
     ]
    }
   ],
   "source": [
    "def peek_posterior_vars(idata):\n",
    "    print(\"Posterior vars (name, dims, shape):\")\n",
    "    for k in idata.posterior.data_vars:\n",
    "        da = idata.posterior[k]\n",
    "        print(f\"  {k:20s}  {tuple(da.dims)}  {tuple(da.shape)}\")\n",
    "\n",
    "peek_posterior_vars(id_ip)"
   ]
  },
  {
   "cell_type": "code",
   "execution_count": 61,
   "id": "4642ff58-378b-47de-a784-8476c372b873",
   "metadata": {},
   "outputs": [
    {
     "name": "stdout",
     "output_type": "stream",
     "text": [
      "Poisson {600.0: 0.357317623709657, 900.0: 0.21359599583326724, 1200.0: 0.12768486220782008}\n",
      "Gamma {600.0: 0.36003803766913384, 900.0: 0.2124025460999062, 1200.0: 0.12493627678698678}\n",
      "Weibull {600.0: 0.3464405176204608, 900.0: 0.2015456572596567, 1200.0: 0.11686342756338476}\n",
      "IP {600.0: 0.4082420501689126, 900.0: 0.260873606741964, 1200.0: 0.16671635235016607}\n",
      "Hawkes {600.0: 0.338535, 900.0: 0.245405, 1200.0: 0.18058}\n"
     ]
    }
   ],
   "source": [
    "import numpy as np\n",
    "from scipy.special import gammaincc  # regularized upper gamma\n",
    "import arviz as az\n",
    "\n",
    "taus = np.array([600, 900, 1200], float)\n",
    "\n",
    "# --- helpers to pull draws no matter how variables were named ---\n",
    "def _get_any(idata, candidates):\n",
    "    post = idata.posterior\n",
    "    for name in candidates:\n",
    "        if name in post:\n",
    "            return np.asarray(post[name]).reshape(-1)  # flatten chain,draw\n",
    "    return None\n",
    "\n",
    "def poisson_exceed(id_pois, taus):\n",
    "    mu = _get_any(id_pois, [\"mu\", \"lam\", \"lambda\"])\n",
    "    assert mu is not None\n",
    "    # P(Δt > τ | μ) = exp(-μ τ)\n",
    "    return np.array([np.mean(np.exp(-mu * t)) for t in taus])\n",
    "\n",
    "def gamma_exceed(id_gamma, taus):\n",
    "    k    = _get_any(id_gamma, [\"k\", \"alpha\", \"shape\"])\n",
    "    rate = _get_any(id_gamma, [\"rate\", \"beta\"])  # PyMC Gamma(alpha=k, beta=rate)\n",
    "    assert k is not None and rate is not None\n",
    "    # Survival = Q(k, rate*τ) = gammaincc(k, rate*τ)\n",
    "    return np.array([np.mean(gammaincc(k, rate*t)) for t in taus])\n",
    "\n",
    "def weibull_exceed(id_weib, taus):\n",
    "    k     = _get_any(id_weib, [\"k\", \"alpha\", \"shape\"])\n",
    "    scale = _get_any(id_weib, [\"lam\", \"lambda\", \"beta\", \"scale\"])\n",
    "    assert k is not None and scale is not None\n",
    "    # Survival = exp(-(τ/scale)^k)\n",
    "    return np.array([np.mean(np.exp(- (t/scale)**k)) for t in taus])\n",
    "\n",
    "\"\"\"def ip_exceed(id_ip, X_future_row, taus):\n",
    "    # IP: λ = exp(β0 + X·b). You choose the covariates for \"next gap\" (e.g., last row).\n",
    "    beta0 = _get_any(id_ip, [\"beta0\", \"intercept\"])\n",
    "    b     = _get_any(id_ip, [\"b\", \"beta\", \"w\",\"b_diff\",\"b_tx\"])\n",
    "    assert beta0 is not None and b is not None\n",
    "    p = b.size // 1   # number of features; assume b is [n_draws, p] flattened\n",
    "    b = b.reshape(-1, p)\n",
    "    lin = beta0 + b.dot(np.asarray(X_future_row, float))\n",
    "    lam = np.exp(np.clip(lin, -40, 40))\n",
    "    return np.array([np.mean(np.exp(-lam * t)) for t in taus])\"\"\"\n",
    "\n",
    "# --- Hawkes (simulate next gap via thinning; conditional on history) ---\n",
    "def hawkes_nextgap_exceed(id_hawkes, times_data, taus, n_sims_per_draw=50, max_propose=10000, seed=123):\n",
    "    rng = np.random.default_rng(seed)\n",
    "    mu   = _get_any(id_hawkes, [\"mu\"])\n",
    "    beta = _get_any(id_hawkes, [\"beta\"])\n",
    "    alpha= _get_any(id_hawkes, [\"alpha\"])\n",
    "    rho  = _get_any(id_hawkes, [\"rho\"])\n",
    "    assert (mu is not None) and (beta is not None) and (alpha is not None or rho is not None)\n",
    "    if alpha is None:\n",
    "        # some fits store rho and beta; alpha = rho*beta\n",
    "        alpha = rho * beta\n",
    "\n",
    "    times = np.asarray(times_data, float)\n",
    "    dt    = np.diff(times)\n",
    "    N     = dt.size\n",
    "\n",
    "    def s_last_post(beta_val):\n",
    "        # s_{i} recursion after event i : s_i = e^{-β Δt_i} (1 + s_{i-1}), s_0=0\n",
    "        s = 0.0\n",
    "        for d in dt:\n",
    "            s = np.exp(-beta_val * d) * (1.0 + s)\n",
    "        return s\n",
    "\n",
    "    def next_gap_sim(mu_val, alpha_val, beta_val, s0, rng):\n",
    "        # intensity(t) = mu + alpha * s0 * exp(-beta t), decreasing in t\n",
    "        # Ogata thinning for monotone decreasing: propose from Exp(M), M = current intensity\n",
    "        t = 0.0\n",
    "        M = mu_val + alpha_val * s0\n",
    "        if M <= 0:\n",
    "            # degenerate safeguard\n",
    "            return np.inf\n",
    "        for _ in range(max_propose):\n",
    "            w = rng.exponential(1.0 / M)\n",
    "            t += w\n",
    "            lam_t = mu_val + alpha_val * s0 * np.exp(-beta_val * t)\n",
    "            if rng.uniform() * M <= lam_t:\n",
    "                return t\n",
    "            # decrease bound to the current (smaller) intensity\n",
    "            M = lam_t\n",
    "        return t  # fallback (should not happen with sensible params)\n",
    "\n",
    "    # Monte Carlo across posterior draws\n",
    "    res = np.zeros_like(taus, dtype=float)\n",
    "    for j in range(len(mu)):\n",
    "        s0 = s_last_post(beta[j])\n",
    "        for _ in range(n_sims_per_draw):\n",
    "            gap = next_gap_sim(mu[j], alpha[j], beta[j], s0, rng)\n",
    "            res += (gap > taus).astype(float)\n",
    "    res /= (len(mu) * n_sims_per_draw)\n",
    "    return res\n",
    "\n",
    "# === run (example) ===\n",
    "taus = np.array([600, 900, 1200], float)\n",
    "X_future = X[-1]  # e.g., use last covariate row for IP\n",
    "\n",
    "ex_pois   = poisson_exceed(id_pois, taus)\n",
    "ex_gamma  = gamma_exceed(id_gamma, taus)\n",
    "ex_weib   = weibull_exceed(id_weib, taus)\n",
    "ex_ip     = ip_exceed(id_ip, X_future, taus)\n",
    "ex_hawkes = hawkes_nextgap_exceed(id_hawkes, times_data, taus, n_sims_per_draw=50)\n",
    "\n",
    "for name, ex in [(\"Poisson\", ex_pois), (\"Gamma\", ex_gamma), (\"Weibull\", ex_weib),\n",
    "                 (\"IP\", ex_ip), (\"Hawkes\", ex_hawkes)]:\n",
    "    print(name, dict(zip(taus, ex)))"
   ]
  },
  {
   "cell_type": "code",
   "execution_count": 62,
   "id": "d74ff20b-fb58-46b2-a9ea-7bd44eb9d63b",
   "metadata": {},
   "outputs": [
    {
     "data": {
      "text/plain": [
       "2"
      ]
     },
     "execution_count": 62,
     "metadata": {},
     "output_type": "execute_result"
    }
   ],
   "source": [
    "len(X_future)"
   ]
  },
  {
   "cell_type": "code",
   "execution_count": 63,
   "id": "799ea623-90cd-4d37-974b-82c94a19ba9e",
   "metadata": {},
   "outputs": [],
   "source": [
    "import numpy as np\n",
    "import xarray as xr\n",
    "import matplotlib.pyplot as plt\n",
    "from scipy.special import gammaincc, gamma as gamma_fn\n",
    "from scipy.stats import gamma as sp_gamma, weibull_min\n",
    "\n",
    "# ---------- small utilities ----------\n",
    "def _get_first(idata, candidates):\n",
    "    # pick the first var name that exists in posterior\n",
    "    names = set(idata.posterior.data_vars)\n",
    "    for n in candidates:\n",
    "        if n in names:\n",
    "            return n\n",
    "    raise KeyError(f\"None of {candidates} found. Posterior vars: {sorted(list(names))[:20]}\")\n",
    "\n",
    "def _draws(idata, name):\n",
    "    \"\"\"\n",
    "    Return posterior draws as a NumPy array with chain/draw flattened.\n",
    "\n",
    "    Shapes:\n",
    "      (chain, draw)               -> (n_draws,)\n",
    "      (chain, draw, p)            -> (n_draws, p)\n",
    "      (chain, draw, p, q, ...)    -> (n_draws, p*q*...)\n",
    "    \"\"\"\n",
    "    arr = np.asarray(idata.posterior[name])  # ensure ndarray\n",
    "    if arr.ndim == 2:\n",
    "        # scalar param per draw\n",
    "        return arr.reshape(-1)\n",
    "    elif arr.ndim >= 3:\n",
    "        # vector/matrix param per draw\n",
    "        n = arr.shape[0] * arr.shape[1]\n",
    "        rest = int(np.prod(arr.shape[2:], dtype=int))\n",
    "        return arr.reshape(n, rest)\n",
    "    else:\n",
    "        # already (n,) — rare, but handle\n",
    "        return arr.reshape(-1)\n",
    "\n",
    "def _bands(S_draws, qs=(5,50,95), axis=0):\n",
    "    # S_draws: [n_draws, len(tau)]\n",
    "    return np.percentile(S_draws, qs, axis=axis)   # [3, len(tau)]\n",
    "\n",
    "def _monotone_decreasing(v):\n",
    "    # enforce non-increasing (numerical cosmetic)\n",
    "    return np.maximum.accumulate(v[::-1])[::-1]\n",
    "\n",
    "# ---------- common inputs ----------\n",
    "times = np.asarray(times_data, float)\n",
    "assert np.all(np.diff(times) > 0), \"times_data must be strictly increasing\"\n",
    "T_last = times[-1]\n",
    "taus = np.linspace(0, 3600, 121)  # 0..60 min, 30s step\n",
    "\n",
    "# choose a covariate row for IP/Hawkes+X \"now\" prediction (e.g., last available)\n",
    "X_future = np.asarray(X[-1], float)   # shape (p,)"
   ]
  },
  {
   "cell_type": "code",
   "execution_count": 64,
   "id": "3695b6e1-dbf6-4477-8cfc-defe1bd3a245",
   "metadata": {},
   "outputs": [],
   "source": [
    "def S_poisson(id_pois, taus):\n",
    "    mu = _draws(id_pois, _get_first(id_pois, [\"mu\", \"lam\", \"lambda\"]))[:, None]  # [n,1]\n",
    "    S = np.exp(-mu * taus[None, :])                                              # [n,len(taus)]\n",
    "    return S, _bands(S, qs=(5,50,95), axis=0)"
   ]
  },
  {
   "cell_type": "code",
   "execution_count": 65,
   "id": "025d85b1-ddc7-4f6c-a9b6-dd1642ad6710",
   "metadata": {},
   "outputs": [],
   "source": [
    "def S_ip(id_ip, X_row, taus):\n",
    "    beta0 = _draws(id_ip, _get_first(id_ip, [\"beta0\", \"intercept\"]))[:, None]    # [n,1]\n",
    "    bname = _get_first(id_ip, [\"b\", \"beta\", \"w\"])\n",
    "    b     = _draws(id_ip, bname)                                                 # [n,p] or [n,1,p]\n",
    "    b     = b.reshape(b.shape[0], -1)\n",
    "    lin   = beta0 + b.dot(X_row.astype(float))[:, None]                           # [n,1]\n",
    "    lam   = np.exp(np.clip(lin, -40, 40))\n",
    "    S     = np.exp(-lam * taus[None, :])\n",
    "    return S, _bands(S, qs=(5,50,95), axis=0)"
   ]
  },
  {
   "cell_type": "code",
   "execution_count": 66,
   "id": "4362951a-b1af-46a0-ae3b-854f93bb4b32",
   "metadata": {},
   "outputs": [],
   "source": [
    "def S_gamma(id_gamma, taus):\n",
    "    k    = _draws(id_gamma, _get_first(id_gamma, [\"k\", \"alpha\"]))[:, None]\n",
    "    rate = _draws(id_gamma, _get_first(id_gamma, [\"rate\", \"beta\"]))[:, None]\n",
    "    S = gammaincc(k, rate * taus[None, :])\n",
    "    return S, _bands(S, qs=(5,50,95), axis=0)"
   ]
  },
  {
   "cell_type": "code",
   "execution_count": 67,
   "id": "5cb0cf20-1679-4352-955e-64c1963ac507",
   "metadata": {},
   "outputs": [],
   "source": [
    "def S_weibull(id_weib, taus):\n",
    "    k   = _draws(id_weib, _get_first(id_weib, [\"k\", \"c\"]))[:, None]\n",
    "    lam = _draws(id_weib, _get_first(id_weib, [\"lam\", \"scale\"]))[:, None]\n",
    "    S = np.exp(- (taus[None, :] / lam)**k)\n",
    "    return S, _bands(S, qs=(5,50,95), axis=0)"
   ]
  },
  {
   "cell_type": "code",
   "execution_count": 68,
   "id": "d1ca12dc-8b55-4ff4-baba-c38600df8bf8",
   "metadata": {},
   "outputs": [],
   "source": [
    "def S_hawkes(id_hawkes, times, taus):\n",
    "    mu   = _draws(id_hawkes, \"mu\")               # [n]\n",
    "    beta = _draws(id_hawkes, \"beta\")             # [n]\n",
    "    rho  = _draws(id_hawkes, \"rho\")              # [n]\n",
    "    alpha = rho * beta                           # [n]\n",
    "\n",
    "    # s0(beta) = sum exp( -beta * (T_last - t_i) )\n",
    "    gaps_to_last = (times[-1] - times[:-1])      # [N-1]\n",
    "    # vectorized: rows=draws, cols=events\n",
    "    s0 = np.exp(-np.outer(beta, gaps_to_last)).sum(axis=1)  # [n]\n",
    "\n",
    "    # broadcast to [n, len(taus)]\n",
    "    tauM = taus[None, :]\n",
    "    S = np.exp(-mu[:,None]*tauM - (alpha[:,None]*s0[:,None]/beta[:,None])*(1.0 - np.exp(-beta[:,None]*tauM)))\n",
    "    return S, _bands(S, qs=(5,50,95), axis=0)"
   ]
  },
  {
   "cell_type": "code",
   "execution_count": 69,
   "id": "1cb23c77-76e1-4a6b-a6ce-36862746a925",
   "metadata": {},
   "outputs": [],
   "source": [
    "def S_hawkes_exo(id_hawkes, id_ip, X_row, times, taus, pair_mode=\"min\"):\n",
    "    mu_h   = _draws(id_hawkes, \"mu\")\n",
    "    beta_h = _draws(id_hawkes, \"beta\")\n",
    "    rho_h  = _draws(id_hawkes, \"rho\")\n",
    "    alpha_h= rho_h * beta_h\n",
    "\n",
    "    beta0 = _draws(id_ip, _get_first(id_ip, [\"beta0\", \"intercept\"]))\n",
    "    bname = _get_first(id_ip, [\"b\", \"beta\", \"w\"])\n",
    "    b     = _draws(id_ip, bname).reshape(-1, X_row.size)\n",
    "\n",
    "    # align draw counts\n",
    "    n = min(len(mu_h), len(beta0)) if pair_mode==\"min\" else len(mu_h)\n",
    "    mu_h, beta_h, alpha_h = mu_h[:n], beta_h[:n], alpha_h[:n]\n",
    "    beta0, b              = beta0[:n], b[:n, :]\n",
    "\n",
    "    mu_exo = np.exp(np.clip(beta0 + b.dot(X_row.astype(float)), -40, 40))  # [n]\n",
    "\n",
    "    # s0 per Hawkes draw\n",
    "    t = np.asarray(times, dtype=float)   # works for Series/Index/list/ndarray\n",
    "    gaps_to_last = t[-1] - t[:-1]\n",
    "    s0 = np.exp(-np.outer(beta_h, gaps_to_last)).sum(axis=1)               # [n]\n",
    "\n",
    "    tauM = taus[None, :]\n",
    "    S = np.exp(-mu_exo[:,None]*tauM - (alpha_h[:,None]*s0[:,None]/beta_h[:,None])*(1.0 - np.exp(-beta_h[:,None]*tauM)))\n",
    "    return S, _bands(S, qs=(5,50,95), axis=0)"
   ]
  },
  {
   "cell_type": "code",
   "execution_count": 70,
   "id": "3d6cef52-2f1a-464a-86eb-5bacd9e11b4b",
   "metadata": {},
   "outputs": [
    {
     "data": {
      "image/png": "[encoded data removed]",
      "text/plain": [
       "<Figure size 800x500 with 1 Axes>"
      ]
     },
     "metadata": {},
     "output_type": "display_data"
    }
   ],
   "source": [
    "S_p,  b_p  = S_poisson(id_pois, taus)\n",
    "S_ip_,b_ip = S_ip(id_ip, X_future, taus)\n",
    "S_g,  b_g  = S_gamma(id_gamma, taus)\n",
    "S_w,  b_w  = S_weibull(id_weib, taus)\n",
    "S_h,  b_h  = S_hawkes(id_hawkes, times, taus)\n",
    "S_hx, b_hx = S_hawkes_exo(id_hawkes, id_ip, X_future, times, taus)\n",
    "\n",
    "plt.figure(figsize=(8,5))\n",
    "def band(x, band, label, color, lw=2, alpha=0.15):\n",
    "    m5,m50,m95 = band\n",
    "    plt.fill_between(x, m5, m95, alpha=alpha, color=color)\n",
    "    plt.plot(x, m50, color=color, lw=lw, label=label)\n",
    "\n",
    "band(taus/60, b_p,  \"Poisson\",          \"tab:blue\")\n",
    "band(taus/60, b_ip, \"IP (covariates)\",  \"tab:orange\")\n",
    "band(taus/60, b_g,  \"Gamma (renewal)\",  \"tab:green\")\n",
    "band(taus/60, b_w,  \"Weibull (renewal)\",\"tab:red\")\n",
    "band(taus/60, b_h,  \"Hawkes\",           \"tab:purple\")\n",
    "band(taus/60, b_hx, \"Hawkes + exog (IP)\",\"tab:brown\")\n",
    "\n",
    "plt.xlabel(\"τ (minutes)\"); plt.ylabel(\"Survival S(τ)=P(Δt>τ)\")\n",
    "plt.ylim(0,1); plt.grid(alpha=0.3); plt.legend()\n",
    "plt.title(\"Next-gap exceedance curves (median + 90% bands)\")\n",
    "plt.show()"
   ]
  },
  {
   "cell_type": "code",
   "execution_count": 71,
   "id": "406a3516-de3b-4b46-a823-ce96a4f1edfe",
   "metadata": {
    "scrolled": true
   },
   "outputs": [
    {
     "name": "stdout",
     "output_type": "stream",
     "text": [
      "Poisson\n",
      "  p= 0.30: RL= 702.2s  (90% [ 692.5,  711.3] s)  ≈ 11.70 min\n",
      "  p= 0.20: RL= 938.6s  (90% [ 925.8,  950.9] s)  ≈ 15.64 min\n",
      "  p= 0.10: RL=1342.7s  (90% [1324.5, 1360.3] s)  ≈ 22.38 min\n",
      "  p= 0.05: RL=1746.8s  (90% [1723.2, 1769.6] s)  ≈ 29.11 min\n",
      "\n",
      "IP (covariates)\n",
      "  p= 0.30: RL= 806.7s  (90% [ 780.1,  833.3] s)  ≈ 13.44 min\n",
      "  p= 0.20: RL=1078.3s  (90% [1043.0, 1113.8] s)  ≈ 17.97 min\n",
      "  p= 0.10: RL=1542.8s  (90% [1492.1, 1593.5] s)  ≈ 25.71 min\n",
      "  p= 0.05: RL=2007.1s  (90% [1941.2, 2073.1] s)  ≈ 33.45 min\n",
      "\n",
      "Gamma\n",
      "  p= 0.30: RL= 704.1s  (90% [ 694.8,  713.5] s)  ≈ 11.73 min\n",
      "  p= 0.20: RL= 934.0s  (90% [ 922.2,  946.7] s)  ≈ 15.57 min\n",
      "  p= 0.10: RL=1325.5s  (90% [1307.9, 1343.8] s)  ≈ 22.09 min\n",
      "  p= 0.05: RL=1715.3s  (90% [1691.7, 1740.1] s)  ≈ 28.59 min\n",
      "\n",
      "Weibull\n",
      "  p= 0.30: RL= 680.1s  (90% [ 671.3,  688.8] s)  ≈ 11.33 min\n",
      "  p= 0.20: RL= 904.2s  (90% [ 893.0,  915.8] s)  ≈ 15.07 min\n",
      "  p= 0.10: RL=1285.4s  (90% [1268.8, 1303.0] s)  ≈ 21.42 min\n",
      "  p= 0.05: RL=1664.7s  (90% [1641.8, 1689.0] s)  ≈ 27.75 min\n",
      "\n",
      "Hawkes\n",
      "  p= 0.30: RL= 706.2s  (90% [ 688.7,  723.6] s)  ≈ 11.77 min\n",
      "  p= 0.20: RL=1099.5s  (90% [1076.5, 1123.0] s)  ≈ 18.32 min\n",
      "  p= 0.10: RL=1789.3s  (90% [1755.3, 1827.6] s)  ≈ 29.82 min\n",
      "  p= 0.05: RL=2481.6s  (90% [2433.0, 2535.3] s)  ≈ 41.36 min\n",
      "\n",
      "Hawkes + exog (IP)\n",
      "  p= 0.30: RL= 491.5s  (90% [ 474.6,  509.3] s)  ≈ 8.19 min\n",
      "  p= 0.20: RL= 743.7s  (90% [ 717.4,  771.4] s)  ≈ 12.40 min\n",
      "  p= 0.10: RL=1201.7s  (90% [1160.7, 1244.5] s)  ≈ 20.03 min\n",
      "  p= 0.05: RL=1665.5s  (90% [1609.4, 1723.4] s)  ≈ 27.76 min\n",
      "\n"
     ]
    }
   ],
   "source": [
    "p_vec = np.array([0.3, 0.2, 0.1, 0.05])  # tail probs\n",
    "\n",
    "def RL_from_grid(taus, S_draws, p_vec):\n",
    "    \"\"\"\n",
    "    taus: 1D array of thresholds (seconds), length M\n",
    "    S_draws: array of survival draws, shape (N, M), decreasing in taus\n",
    "    p_vec: 1D array of tail probabilities to invert, e.g. [0.3, 0.2, 0.1, 0.05]\n",
    "    Returns: (RL, med, lo, hi)\n",
    "      RL  : (N, len(p_vec)) return levels per draw\n",
    "      med : median across draws\n",
    "      lo  : 5th percentile\n",
    "      hi  : 95th percentile\n",
    "    \"\"\"\n",
    "    taus = np.asarray(taus, float)\n",
    "    S    = np.asarray(S_draws, float)\n",
    "\n",
    "    # Ensure taus increasing and S aligned\n",
    "    order = np.argsort(taus)\n",
    "    taus  = taus[order]\n",
    "    S     = S[:, order]\n",
    "\n",
    "    # Enforce monotone ↓ in taus to avoid wiggles from MC noise\n",
    "    S = np.minimum.accumulate(S, axis=1)\n",
    "\n",
    "    # Invert S(τ)=p per draw by interpolating on reversed arrays\n",
    "    taus_rev = taus[::-1]   # increasing in S\n",
    "    S_rev    = S[:, ::-1]   # for each draw, xp=S_rev[i] is increasing\n",
    "\n",
    "    def invert_one_p(p):\n",
    "        # Row-wise 1D interpolation\n",
    "        return np.array([np.interp(p, S_rev[i], taus_rev) for i in range(S_rev.shape[0])])\n",
    "\n",
    "    RL_cols = [invert_one_p(float(p)) for p in np.asarray(p_vec, float)]\n",
    "    RL  = np.column_stack(RL_cols)          # (N, len(p_vec))\n",
    "    med = np.median(RL, axis=0)\n",
    "    lo  = np.percentile(RL, 5,  axis=0)\n",
    "    hi  = np.percentile(RL, 95, axis=0)\n",
    "    return RL, med, lo, hi\n",
    "    \n",
    "# Compute per model\n",
    "RL_p,  med_p,  lo_p,  hi_p  = RL_from_grid(taus, S_p,  p_vec)\n",
    "RL_ip, med_ip, lo_ip, hi_ip = RL_from_grid(taus, S_ip_,p_vec)\n",
    "RL_g,  med_g,  lo_g,  hi_g  = RL_from_grid(taus, S_g,  p_vec)\n",
    "RL_w,  med_w,  lo_w,  hi_w  = RL_from_grid(taus, S_w,  p_vec)\n",
    "RL_h,  med_h,  lo_h,  hi_h  = RL_from_grid(taus, S_h,  p_vec)\n",
    "RL_hx, med_hx, lo_hx, hi_hx = RL_from_grid(taus, S_hx, p_vec)\n",
    "\n",
    "def pretty_rl(name, med, lo, hi, p_vec):\n",
    "    print(name)\n",
    "    for p, m, l, h in zip(p_vec, med, lo, hi):\n",
    "        print(f\"  p={p:>5.2f}: RL={m:6.1f}s  (90% [{l:6.1f}, {h:6.1f}] s)  ≈ {m/60:4.2f} min\")\n",
    "    print()\n",
    "\n",
    "pretty_rl(\"Poisson\",           med_p,  lo_p,  hi_p,  p_vec)\n",
    "pretty_rl(\"IP (covariates)\",   med_ip, lo_ip, hi_ip, p_vec)\n",
    "pretty_rl(\"Gamma\",             med_g,  lo_g,  hi_g,  p_vec)\n",
    "pretty_rl(\"Weibull\",           med_w,  lo_w,  hi_w,  p_vec)\n",
    "pretty_rl(\"Hawkes\",            med_h,  lo_h,  hi_h,  p_vec)\n",
    "pretty_rl(\"Hawkes + exog (IP)\",med_hx, lo_hx, hi_hx, p_vec)\n"
   ]
  },
  {
   "cell_type": "code",
   "execution_count": 72,
   "id": "e69745a1-95f7-4e97-b2ee-8181a28fd659",
   "metadata": {},
   "outputs": [
    {
     "name": "stdout",
     "output_type": "stream",
     "text": [
      "Hawkes+exog @ low covars (Q25)\n",
      "  p=0.30: RL= 398.9s  (90%[ 388.1, 410.2])  ≈ 6.65 min\n",
      "  p=0.20: RL= 591.0s  (90%[ 574.2, 608.2])  ≈ 9.85 min\n",
      "  p=0.10: RL= 945.2s  (90%[ 919.6, 971.6])  ≈ 15.75 min\n",
      "  p=0.05: RL=1308.2s  (90%[1273.5,1342.9])  ≈ 21.80 min\n",
      "\n",
      "Hawkes+exog @ median covars\n",
      "  p=0.30: RL= 436.1s  (90%[ 426.4, 445.9])  ≈ 7.27 min\n",
      "  p=0.20: RL= 651.9s  (90%[ 637.7, 666.3])  ≈ 10.87 min\n",
      "  p=0.10: RL=1047.5s  (90%[1027.8,1067.6])  ≈ 17.46 min\n",
      "  p=0.05: RL=1450.9s  (90%[1426.0,1476.0])  ≈ 24.18 min\n",
      "\n",
      "Hawkes+exog @ high covars (Q75)\n",
      "  p=0.30: RL= 466.8s  (90%[ 454.6, 479.5])  ≈ 7.78 min\n",
      "  p=0.20: RL= 702.7s  (90%[ 684.3, 721.7])  ≈ 11.71 min\n",
      "  p=0.10: RL=1132.9s  (90%[1105.6,1161.0])  ≈ 18.88 min\n",
      "  p=0.05: RL=1569.8s  (90%[1534.0,1606.5])  ≈ 26.16 min\n",
      "\n"
     ]
    }
   ],
   "source": [
    "\n",
    "\n",
    "# Build three covariate scenarios from your design matrix X (standardized features)\n",
    "X_q25 = np.nanpercentile(X, 25, axis=0)\n",
    "X_q50 = np.nanpercentile(X, 50, axis=0)  # median\n",
    "X_q75 = np.nanpercentile(X, 75, axis=0)\n",
    "\n",
    "S_hx_25, bands_25 = S_hawkes_exo(id_hawkes, id_ip, X_q25, times_data, taus)\n",
    "S_hx_50, bands_50 = S_hawkes_exo(id_hawkes, id_ip, X_q50, times_data, taus)\n",
    "S_hx_75, bands_75 = S_hawkes_exo(id_hawkes, id_ip, X_q75, times_data, taus)\n",
    "\n",
    "# Turn into return levels at p = [0.3, 0.2, 0.1, 0.05]\n",
    "p_vec = np.array([0.3, 0.2, 0.1, 0.05])\n",
    "RL_25, med_25, lo_25, hi_25 = RL_from_grid(taus, S_hx_25, p_vec)\n",
    "RL_50, med_50, lo_50, hi_50 = RL_from_grid(taus, S_hx_50, p_vec)\n",
    "RL_75, med_75, lo_75, hi_75 = RL_from_grid(taus, S_hx_75, p_vec)\n",
    "\n",
    "def show_rl(label, med, lo, hi):\n",
    "    print(label)\n",
    "    for p, m, l, h in zip(p_vec, med, lo, hi):\n",
    "        print(f\"  p={p:>4.2f}: RL={m:6.1f}s  (90%[{l:6.1f},{h:6.1f}])  ≈ {m/60:4.2f} min\")\n",
    "    print()\n",
    "\n",
    "show_rl(\"Hawkes+exog @ low covars (Q25)\", med_25, lo_25, hi_25)\n",
    "show_rl(\"Hawkes+exog @ median covars\",    med_50, lo_50, hi_50)\n",
    "show_rl(\"Hawkes+exog @ high covars (Q75)\",med_75, lo_75, hi_75)"
   ]
  },
  {
   "cell_type": "code",
   "execution_count": null,
   "id": "4c102823-9c64-488f-ae07-97872e870090",
   "metadata": {},
   "outputs": [],
   "source": []
  },
  {
   "cell_type": "code",
   "execution_count": null,
   "id": "3a61f20e-487f-4038-92a9-6322c67fe0f0",
   "metadata": {},
   "outputs": [],
   "source": []
  },
  {
   "cell_type": "code",
   "execution_count": null,
   "id": "b398b9c0-4b4b-42c0-a239-9a3934c416b1",
   "metadata": {},
   "outputs": [],
   "source": []
  }
 ],
 "metadata": {
  "kernelspec": {
   "display_name": "Python 3 (ipykernel)",
   "language": "python",
   "name": "python3"
  },
  "language_info": {
   "codemirror_mode": {
    "name": "ipython",
    "version": 3
   },
   "file_extension": ".py",
   "mimetype": "text/x-python",
   "name": "python",
   "nbconvert_exporter": "python",
   "pygments_lexer": "ipython3",
   "version": "3.10.18"
  }
 },
 "nbformat": 4,
 "nbformat_minor": 5
}
