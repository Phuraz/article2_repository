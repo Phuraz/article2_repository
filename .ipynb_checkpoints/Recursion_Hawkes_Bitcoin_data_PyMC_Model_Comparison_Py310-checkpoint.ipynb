{
 "cells": [
  {
   "cell_type": "code",
   "execution_count": 1,
   "id": "16972fb6-d934-4a2f-8805-a5c8e73040b7",
   "metadata": {},
   "outputs": [],
   "source": [
    "import numpy as np\n",
    "import pandas as pd\n",
    "import pymc as pm\n",
    "import numpy as np\n",
    "import pandas as pd\n",
    "import arviz as az\n",
    "from scipy.stats import kstest\n",
    "from sklearn.ensemble import HistGradientBoostingClassifier\n",
    "from sklearn.calibration import CalibratedClassifierCV"
   ]
  },
  {
   "cell_type": "code",
   "execution_count": 2,
   "id": "c8aca3a2-4494-47d1-8bca-64ac52de8863",
   "metadata": {},
   "outputs": [],
   "source": [
    "file_path = 'bitcoin_blocks_and_transactions_sorted.csv'\n",
    "pd.set_option('display.max_columns', None)\n",
    "df = pd.read_csv(file_path,index_col=False)"
   ]
  },
  {
   "cell_type": "code",
   "execution_count": 3,
   "id": "8d791f33-c2c3-4c3c-a60e-94b29b6cda36",
   "metadata": {},
   "outputs": [
    {
     "name": "stdout",
     "output_type": "stream",
     "text": [
      "15000\n"
     ]
    },
    {
     "data": {
      "text/html": [
       "<div>\n",
       "<style scoped>\n",
       "    .dataframe tbody tr th:only-of-type {\n",
       "        vertical-align: middle;\n",
       "    }\n",
       "\n",
       "    .dataframe tbody tr th {\n",
       "        vertical-align: top;\n",
       "    }\n",
       "\n",
       "    .dataframe thead th {\n",
       "        text-align: right;\n",
       "    }\n",
       "</style>\n",
       "<table border=\"1\" class=\"dataframe\">\n",
       "  <thead>\n",
       "    <tr style=\"text-align: right;\">\n",
       "      <th></th>\n",
       "      <th>id</th>\n",
       "      <th>height</th>\n",
       "      <th>version</th>\n",
       "      <th>timestamp</th>\n",
       "      <th>tx_count</th>\n",
       "      <th>size</th>\n",
       "      <th>weight</th>\n",
       "      <th>merkle_root</th>\n",
       "      <th>previousblockhash</th>\n",
       "      <th>mediantime</th>\n",
       "      <th>nonce</th>\n",
       "      <th>bits</th>\n",
       "      <th>difficulty</th>\n",
       "      <th>total_trans_fees</th>\n",
       "      <th>input_count</th>\n",
       "      <th>output_count</th>\n",
       "      <th>input_value</th>\n",
       "    </tr>\n",
       "  </thead>\n",
       "  <tbody>\n",
       "    <tr>\n",
       "      <th>0</th>\n",
       "      <td>00000000000000000001c827e4d9c2360756e5d76e492b...</td>\n",
       "      <td>862501</td>\n",
       "      <td>603979776</td>\n",
       "      <td>1727084204</td>\n",
       "      <td>2277</td>\n",
       "      <td>1856961</td>\n",
       "      <td>3992901</td>\n",
       "      <td>17d01c5d7b8441565de2ccf4db0e8163403b0899007f07...</td>\n",
       "      <td>00000000000000000002d5b4f115ca2458acb75a13422e...</td>\n",
       "      <td>1727081265</td>\n",
       "      <td>978191335</td>\n",
       "      <td>386075020</td>\n",
       "      <td>9.267158e+13</td>\n",
       "      <td>4271007</td>\n",
       "      <td>10932.0</td>\n",
       "      <td>1.021110e+11</td>\n",
       "      <td>1.017980e+11</td>\n",
       "    </tr>\n",
       "    <tr>\n",
       "      <th>1</th>\n",
       "      <td>0000000000000000000165f7b6a0c0ef25ea3cae79c865...</td>\n",
       "      <td>862502</td>\n",
       "      <td>738197504</td>\n",
       "      <td>1727084749</td>\n",
       "      <td>2341</td>\n",
       "      <td>1839000</td>\n",
       "      <td>3993360</td>\n",
       "      <td>47ed70e4da0f302114fc572bab062c99c0bbe3070fd315...</td>\n",
       "      <td>00000000000000000001c827e4d9c2360756e5d76e492b...</td>\n",
       "      <td>1727082238</td>\n",
       "      <td>827544669</td>\n",
       "      <td>386075020</td>\n",
       "      <td>9.267158e+13</td>\n",
       "      <td>4302041</td>\n",
       "      <td>10719.0</td>\n",
       "      <td>7.759630e+11</td>\n",
       "      <td>7.756510e+11</td>\n",
       "    </tr>\n",
       "    <tr>\n",
       "      <th>2</th>\n",
       "      <td>00000000000000000001a519c445c0a3f1319630603560...</td>\n",
       "      <td>862503</td>\n",
       "      <td>823279616</td>\n",
       "      <td>1727085461</td>\n",
       "      <td>3137</td>\n",
       "      <td>1645376</td>\n",
       "      <td>3993413</td>\n",
       "      <td>eeff8b0b686006f32aedbe7d4c0eaaa321b6fd73c8c723...</td>\n",
       "      <td>0000000000000000000165f7b6a0c0ef25ea3cae79c865...</td>\n",
       "      <td>1727082320</td>\n",
       "      <td>871041503</td>\n",
       "      <td>386075020</td>\n",
       "      <td>9.267158e+13</td>\n",
       "      <td>5259048</td>\n",
       "      <td>8704.0</td>\n",
       "      <td>1.899960e+11</td>\n",
       "      <td>1.896830e+11</td>\n",
       "    </tr>\n",
       "    <tr>\n",
       "      <th>3</th>\n",
       "      <td>000000000000000000020bce365f1f28bc4d51779fdb02...</td>\n",
       "      <td>862504</td>\n",
       "      <td>536911872</td>\n",
       "      <td>1727086363</td>\n",
       "      <td>3447</td>\n",
       "      <td>1716979</td>\n",
       "      <td>3993739</td>\n",
       "      <td>dc16c1f3d16552542d1a10894dbcc7fda6464ea7f3f055...</td>\n",
       "      <td>00000000000000000001a519c445c0a3f1319630603560...</td>\n",
       "      <td>1727082730</td>\n",
       "      <td>3106376116</td>\n",
       "      <td>386075020</td>\n",
       "      <td>9.267158e+13</td>\n",
       "      <td>5575404</td>\n",
       "      <td>8815.0</td>\n",
       "      <td>2.577620e+12</td>\n",
       "      <td>2.577300e+12</td>\n",
       "    </tr>\n",
       "    <tr>\n",
       "      <th>4</th>\n",
       "      <td>000000000000000000020a8002a7488358d0a7313a00c9...</td>\n",
       "      <td>862505</td>\n",
       "      <td>1073676288</td>\n",
       "      <td>1727087094</td>\n",
       "      <td>3360</td>\n",
       "      <td>1741490</td>\n",
       "      <td>3997772</td>\n",
       "      <td>e0450adca29bf1be837896b4ea3c8ad693079529bc80e2...</td>\n",
       "      <td>000000000000000000020bce365f1f28bc4d51779fdb02...</td>\n",
       "      <td>1727083818</td>\n",
       "      <td>610837269</td>\n",
       "      <td>386075020</td>\n",
       "      <td>9.267158e+13</td>\n",
       "      <td>5149822</td>\n",
       "      <td>8926.0</td>\n",
       "      <td>5.237330e+11</td>\n",
       "      <td>5.234210e+11</td>\n",
       "    </tr>\n",
       "  </tbody>\n",
       "</table>\n",
       "</div>"
      ],
      "text/plain": [
       "                                                  id  height     version  \\\n",
       "0  00000000000000000001c827e4d9c2360756e5d76e492b...  862501   603979776   \n",
       "1  0000000000000000000165f7b6a0c0ef25ea3cae79c865...  862502   738197504   \n",
       "2  00000000000000000001a519c445c0a3f1319630603560...  862503   823279616   \n",
       "3  000000000000000000020bce365f1f28bc4d51779fdb02...  862504   536911872   \n",
       "4  000000000000000000020a8002a7488358d0a7313a00c9...  862505  1073676288   \n",
       "\n",
       "    timestamp  tx_count     size   weight  \\\n",
       "0  1727084204      2277  1856961  3992901   \n",
       "1  1727084749      2341  1839000  3993360   \n",
       "2  1727085461      3137  1645376  3993413   \n",
       "3  1727086363      3447  1716979  3993739   \n",
       "4  1727087094      3360  1741490  3997772   \n",
       "\n",
       "                                         merkle_root  \\\n",
       "0  17d01c5d7b8441565de2ccf4db0e8163403b0899007f07...   \n",
       "1  47ed70e4da0f302114fc572bab062c99c0bbe3070fd315...   \n",
       "2  eeff8b0b686006f32aedbe7d4c0eaaa321b6fd73c8c723...   \n",
       "3  dc16c1f3d16552542d1a10894dbcc7fda6464ea7f3f055...   \n",
       "4  e0450adca29bf1be837896b4ea3c8ad693079529bc80e2...   \n",
       "\n",
       "                                   previousblockhash  mediantime       nonce  \\\n",
       "0  00000000000000000002d5b4f115ca2458acb75a13422e...  1727081265   978191335   \n",
       "1  00000000000000000001c827e4d9c2360756e5d76e492b...  1727082238   827544669   \n",
       "2  0000000000000000000165f7b6a0c0ef25ea3cae79c865...  1727082320   871041503   \n",
       "3  00000000000000000001a519c445c0a3f1319630603560...  1727082730  3106376116   \n",
       "4  000000000000000000020bce365f1f28bc4d51779fdb02...  1727083818   610837269   \n",
       "\n",
       "        bits    difficulty  total_trans_fees  input_count  output_count  \\\n",
       "0  386075020  9.267158e+13           4271007      10932.0  1.021110e+11   \n",
       "1  386075020  9.267158e+13           4302041      10719.0  7.759630e+11   \n",
       "2  386075020  9.267158e+13           5259048       8704.0  1.899960e+11   \n",
       "3  386075020  9.267158e+13           5575404       8815.0  2.577620e+12   \n",
       "4  386075020  9.267158e+13           5149822       8926.0  5.237330e+11   \n",
       "\n",
       "    input_value  \n",
       "0  1.017980e+11  \n",
       "1  7.756510e+11  \n",
       "2  1.896830e+11  \n",
       "3  2.577300e+12  \n",
       "4  5.234210e+11  "
      ]
     },
     "execution_count": 3,
     "metadata": {},
     "output_type": "execute_result"
    }
   ],
   "source": [
    "print(len(df))\n",
    "df.head()"
   ]
  },
  {
   "cell_type": "code",
   "execution_count": 4,
   "id": "d4827d29-9eed-4506-a5d8-defb6f5cd728",
   "metadata": {},
   "outputs": [],
   "source": [
    "columns_to_drop = ['id','height', 'merkle_root','previousblockhash','mediantime']\n",
    "df = df.drop(columns_to_drop, axis=1)"
   ]
  },
  {
   "cell_type": "code",
   "execution_count": 5,
   "id": "a3a2e2b2-e402-42d0-95d7-331b7a3b8153",
   "metadata": {},
   "outputs": [],
   "source": [
    "df.insert(0, 'formatted_timestamp', pd.to_datetime(df['timestamp'],unit='s'))"
   ]
  },
  {
   "cell_type": "code",
   "execution_count": 6,
   "id": "f5b28622-df9b-4c8c-9b13-c0fe9b50b7e7",
   "metadata": {},
   "outputs": [],
   "source": [
    "df= df.sort_values(by='formatted_timestamp', ascending=True)"
   ]
  },
  {
   "cell_type": "code",
   "execution_count": 7,
   "id": "b73beff2-3595-4785-8d44-c12ee462a42e",
   "metadata": {},
   "outputs": [],
   "source": [
    "#delay_interval = round(pd.to_datetime(df['timestamp'],unit='s').diff().dt.total_seconds() / 60,0)\n",
    "delay_interval = round(pd.to_datetime(df['timestamp'],unit='s').diff().dt.total_seconds())\n",
    "df.insert(0, 'delay_interval', delay_interval)"
   ]
  },
  {
   "cell_type": "code",
   "execution_count": 8,
   "id": "0232b8ee-67be-43b7-b0db-9a4097a61f8e",
   "metadata": {},
   "outputs": [
    {
     "data": {
      "text/html": [
       "<div>\n",
       "<style scoped>\n",
       "    .dataframe tbody tr th:only-of-type {\n",
       "        vertical-align: middle;\n",
       "    }\n",
       "\n",
       "    .dataframe tbody tr th {\n",
       "        vertical-align: top;\n",
       "    }\n",
       "\n",
       "    .dataframe thead th {\n",
       "        text-align: right;\n",
       "    }\n",
       "</style>\n",
       "<table border=\"1\" class=\"dataframe\">\n",
       "  <thead>\n",
       "    <tr style=\"text-align: right;\">\n",
       "      <th></th>\n",
       "      <th>delay_interval</th>\n",
       "      <th>formatted_timestamp</th>\n",
       "      <th>version</th>\n",
       "      <th>timestamp</th>\n",
       "      <th>tx_count</th>\n",
       "      <th>size</th>\n",
       "      <th>weight</th>\n",
       "      <th>nonce</th>\n",
       "      <th>bits</th>\n",
       "      <th>difficulty</th>\n",
       "      <th>total_trans_fees</th>\n",
       "      <th>input_count</th>\n",
       "      <th>output_count</th>\n",
       "      <th>input_value</th>\n",
       "    </tr>\n",
       "  </thead>\n",
       "  <tbody>\n",
       "    <tr>\n",
       "      <th>0</th>\n",
       "      <td>NaN</td>\n",
       "      <td>2024-09-23 09:36:44</td>\n",
       "      <td>603979776</td>\n",
       "      <td>1727084204</td>\n",
       "      <td>2277</td>\n",
       "      <td>1856961</td>\n",
       "      <td>3992901</td>\n",
       "      <td>978191335</td>\n",
       "      <td>386075020</td>\n",
       "      <td>9.267158e+13</td>\n",
       "      <td>4271007</td>\n",
       "      <td>10932.0</td>\n",
       "      <td>1.021110e+11</td>\n",
       "      <td>1.017980e+11</td>\n",
       "    </tr>\n",
       "    <tr>\n",
       "      <th>1</th>\n",
       "      <td>545.0</td>\n",
       "      <td>2024-09-23 09:45:49</td>\n",
       "      <td>738197504</td>\n",
       "      <td>1727084749</td>\n",
       "      <td>2341</td>\n",
       "      <td>1839000</td>\n",
       "      <td>3993360</td>\n",
       "      <td>827544669</td>\n",
       "      <td>386075020</td>\n",
       "      <td>9.267158e+13</td>\n",
       "      <td>4302041</td>\n",
       "      <td>10719.0</td>\n",
       "      <td>7.759630e+11</td>\n",
       "      <td>7.756510e+11</td>\n",
       "    </tr>\n",
       "    <tr>\n",
       "      <th>2</th>\n",
       "      <td>712.0</td>\n",
       "      <td>2024-09-23 09:57:41</td>\n",
       "      <td>823279616</td>\n",
       "      <td>1727085461</td>\n",
       "      <td>3137</td>\n",
       "      <td>1645376</td>\n",
       "      <td>3993413</td>\n",
       "      <td>871041503</td>\n",
       "      <td>386075020</td>\n",
       "      <td>9.267158e+13</td>\n",
       "      <td>5259048</td>\n",
       "      <td>8704.0</td>\n",
       "      <td>1.899960e+11</td>\n",
       "      <td>1.896830e+11</td>\n",
       "    </tr>\n",
       "    <tr>\n",
       "      <th>3</th>\n",
       "      <td>902.0</td>\n",
       "      <td>2024-09-23 10:12:43</td>\n",
       "      <td>536911872</td>\n",
       "      <td>1727086363</td>\n",
       "      <td>3447</td>\n",
       "      <td>1716979</td>\n",
       "      <td>3993739</td>\n",
       "      <td>3106376116</td>\n",
       "      <td>386075020</td>\n",
       "      <td>9.267158e+13</td>\n",
       "      <td>5575404</td>\n",
       "      <td>8815.0</td>\n",
       "      <td>2.577620e+12</td>\n",
       "      <td>2.577300e+12</td>\n",
       "    </tr>\n",
       "    <tr>\n",
       "      <th>4</th>\n",
       "      <td>731.0</td>\n",
       "      <td>2024-09-23 10:24:54</td>\n",
       "      <td>1073676288</td>\n",
       "      <td>1727087094</td>\n",
       "      <td>3360</td>\n",
       "      <td>1741490</td>\n",
       "      <td>3997772</td>\n",
       "      <td>610837269</td>\n",
       "      <td>386075020</td>\n",
       "      <td>9.267158e+13</td>\n",
       "      <td>5149822</td>\n",
       "      <td>8926.0</td>\n",
       "      <td>5.237330e+11</td>\n",
       "      <td>5.234210e+11</td>\n",
       "    </tr>\n",
       "  </tbody>\n",
       "</table>\n",
       "</div>"
      ],
      "text/plain": [
       "   delay_interval formatted_timestamp     version   timestamp  tx_count  \\\n",
       "0             NaN 2024-09-23 09:36:44   603979776  1727084204      2277   \n",
       "1           545.0 2024-09-23 09:45:49   738197504  1727084749      2341   \n",
       "2           712.0 2024-09-23 09:57:41   823279616  1727085461      3137   \n",
       "3           902.0 2024-09-23 10:12:43   536911872  1727086363      3447   \n",
       "4           731.0 2024-09-23 10:24:54  1073676288  1727087094      3360   \n",
       "\n",
       "      size   weight       nonce       bits    difficulty  total_trans_fees  \\\n",
       "0  1856961  3992901   978191335  386075020  9.267158e+13           4271007   \n",
       "1  1839000  3993360   827544669  386075020  9.267158e+13           4302041   \n",
       "2  1645376  3993413   871041503  386075020  9.267158e+13           5259048   \n",
       "3  1716979  3993739  3106376116  386075020  9.267158e+13           5575404   \n",
       "4  1741490  3997772   610837269  386075020  9.267158e+13           5149822   \n",
       "\n",
       "   input_count  output_count   input_value  \n",
       "0      10932.0  1.021110e+11  1.017980e+11  \n",
       "1      10719.0  7.759630e+11  7.756510e+11  \n",
       "2       8704.0  1.899960e+11  1.896830e+11  \n",
       "3       8815.0  2.577620e+12  2.577300e+12  \n",
       "4       8926.0  5.237330e+11  5.234210e+11  "
      ]
     },
     "execution_count": 8,
     "metadata": {},
     "output_type": "execute_result"
    }
   ],
   "source": [
    "df.head()"
   ]
  },
  {
   "cell_type": "code",
   "execution_count": 9,
   "id": "9caf7acb-dbda-4225-ba38-d7eb940eb4c0",
   "metadata": {},
   "outputs": [],
   "source": [
    "df.iat[0, 0] = 0"
   ]
  },
  {
   "cell_type": "code",
   "execution_count": 10,
   "id": "c52c73b7-ffb2-4281-850e-54e39a80bf16",
   "metadata": {},
   "outputs": [],
   "source": [
    "timestamps_to_drop = ['formatted_timestamp','timestamp']\n",
    "#df = df.drop(timestamps_to_drop, axis=1)\n",
    "df['difficulty'] = pd.to_numeric(df['difficulty'], errors='coerce')"
   ]
  },
  {
   "cell_type": "code",
   "execution_count": 11,
   "id": "c76400ec-ddd5-44d0-a0c3-497cf95aaa4a",
   "metadata": {},
   "outputs": [
    {
     "data": {
      "text/html": [
       "<div>\n",
       "<style scoped>\n",
       "    .dataframe tbody tr th:only-of-type {\n",
       "        vertical-align: middle;\n",
       "    }\n",
       "\n",
       "    .dataframe tbody tr th {\n",
       "        vertical-align: top;\n",
       "    }\n",
       "\n",
       "    .dataframe thead th {\n",
       "        text-align: right;\n",
       "    }\n",
       "</style>\n",
       "<table border=\"1\" class=\"dataframe\">\n",
       "  <thead>\n",
       "    <tr style=\"text-align: right;\">\n",
       "      <th></th>\n",
       "      <th>delay_interval</th>\n",
       "      <th>formatted_timestamp</th>\n",
       "      <th>version</th>\n",
       "      <th>timestamp</th>\n",
       "      <th>tx_count</th>\n",
       "      <th>size</th>\n",
       "      <th>weight</th>\n",
       "      <th>nonce</th>\n",
       "      <th>bits</th>\n",
       "      <th>difficulty</th>\n",
       "      <th>total_trans_fees</th>\n",
       "      <th>input_count</th>\n",
       "      <th>output_count</th>\n",
       "      <th>input_value</th>\n",
       "    </tr>\n",
       "  </thead>\n",
       "  <tbody>\n",
       "    <tr>\n",
       "      <th>0</th>\n",
       "      <td>0.0</td>\n",
       "      <td>2024-09-23 09:36:44</td>\n",
       "      <td>603979776</td>\n",
       "      <td>1727084204</td>\n",
       "      <td>2277</td>\n",
       "      <td>1856961</td>\n",
       "      <td>3992901</td>\n",
       "      <td>978191335</td>\n",
       "      <td>386075020</td>\n",
       "      <td>9.267158e+13</td>\n",
       "      <td>4271007</td>\n",
       "      <td>10932.0</td>\n",
       "      <td>1.021110e+11</td>\n",
       "      <td>1.017980e+11</td>\n",
       "    </tr>\n",
       "    <tr>\n",
       "      <th>1</th>\n",
       "      <td>545.0</td>\n",
       "      <td>2024-09-23 09:45:49</td>\n",
       "      <td>738197504</td>\n",
       "      <td>1727084749</td>\n",
       "      <td>2341</td>\n",
       "      <td>1839000</td>\n",
       "      <td>3993360</td>\n",
       "      <td>827544669</td>\n",
       "      <td>386075020</td>\n",
       "      <td>9.267158e+13</td>\n",
       "      <td>4302041</td>\n",
       "      <td>10719.0</td>\n",
       "      <td>7.759630e+11</td>\n",
       "      <td>7.756510e+11</td>\n",
       "    </tr>\n",
       "    <tr>\n",
       "      <th>2</th>\n",
       "      <td>712.0</td>\n",
       "      <td>2024-09-23 09:57:41</td>\n",
       "      <td>823279616</td>\n",
       "      <td>1727085461</td>\n",
       "      <td>3137</td>\n",
       "      <td>1645376</td>\n",
       "      <td>3993413</td>\n",
       "      <td>871041503</td>\n",
       "      <td>386075020</td>\n",
       "      <td>9.267158e+13</td>\n",
       "      <td>5259048</td>\n",
       "      <td>8704.0</td>\n",
       "      <td>1.899960e+11</td>\n",
       "      <td>1.896830e+11</td>\n",
       "    </tr>\n",
       "    <tr>\n",
       "      <th>3</th>\n",
       "      <td>902.0</td>\n",
       "      <td>2024-09-23 10:12:43</td>\n",
       "      <td>536911872</td>\n",
       "      <td>1727086363</td>\n",
       "      <td>3447</td>\n",
       "      <td>1716979</td>\n",
       "      <td>3993739</td>\n",
       "      <td>3106376116</td>\n",
       "      <td>386075020</td>\n",
       "      <td>9.267158e+13</td>\n",
       "      <td>5575404</td>\n",
       "      <td>8815.0</td>\n",
       "      <td>2.577620e+12</td>\n",
       "      <td>2.577300e+12</td>\n",
       "    </tr>\n",
       "    <tr>\n",
       "      <th>4</th>\n",
       "      <td>731.0</td>\n",
       "      <td>2024-09-23 10:24:54</td>\n",
       "      <td>1073676288</td>\n",
       "      <td>1727087094</td>\n",
       "      <td>3360</td>\n",
       "      <td>1741490</td>\n",
       "      <td>3997772</td>\n",
       "      <td>610837269</td>\n",
       "      <td>386075020</td>\n",
       "      <td>9.267158e+13</td>\n",
       "      <td>5149822</td>\n",
       "      <td>8926.0</td>\n",
       "      <td>5.237330e+11</td>\n",
       "      <td>5.234210e+11</td>\n",
       "    </tr>\n",
       "  </tbody>\n",
       "</table>\n",
       "</div>"
      ],
      "text/plain": [
       "   delay_interval formatted_timestamp     version   timestamp  tx_count  \\\n",
       "0             0.0 2024-09-23 09:36:44   603979776  1727084204      2277   \n",
       "1           545.0 2024-09-23 09:45:49   738197504  1727084749      2341   \n",
       "2           712.0 2024-09-23 09:57:41   823279616  1727085461      3137   \n",
       "3           902.0 2024-09-23 10:12:43   536911872  1727086363      3447   \n",
       "4           731.0 2024-09-23 10:24:54  1073676288  1727087094      3360   \n",
       "\n",
       "      size   weight       nonce       bits    difficulty  total_trans_fees  \\\n",
       "0  1856961  3992901   978191335  386075020  9.267158e+13           4271007   \n",
       "1  1839000  3993360   827544669  386075020  9.267158e+13           4302041   \n",
       "2  1645376  3993413   871041503  386075020  9.267158e+13           5259048   \n",
       "3  1716979  3993739  3106376116  386075020  9.267158e+13           5575404   \n",
       "4  1741490  3997772   610837269  386075020  9.267158e+13           5149822   \n",
       "\n",
       "   input_count  output_count   input_value  \n",
       "0      10932.0  1.021110e+11  1.017980e+11  \n",
       "1      10719.0  7.759630e+11  7.756510e+11  \n",
       "2       8704.0  1.899960e+11  1.896830e+11  \n",
       "3       8815.0  2.577620e+12  2.577300e+12  \n",
       "4       8926.0  5.237330e+11  5.234210e+11  "
      ]
     },
     "execution_count": 11,
     "metadata": {},
     "output_type": "execute_result"
    }
   ],
   "source": [
    "df.head()"
   ]
  },
  {
   "cell_type": "code",
   "execution_count": 12,
   "id": "1784f9e7-f03b-4083-b820-b0640a5efe8d",
   "metadata": {
    "scrolled": true
   },
   "outputs": [
    {
     "data": {
      "text/html": [
       "<div>\n",
       "<style scoped>\n",
       "    .dataframe tbody tr th:only-of-type {\n",
       "        vertical-align: middle;\n",
       "    }\n",
       "\n",
       "    .dataframe tbody tr th {\n",
       "        vertical-align: top;\n",
       "    }\n",
       "\n",
       "    .dataframe thead th {\n",
       "        text-align: right;\n",
       "    }\n",
       "</style>\n",
       "<table border=\"1\" class=\"dataframe\">\n",
       "  <thead>\n",
       "    <tr style=\"text-align: right;\">\n",
       "      <th></th>\n",
       "      <th>delay_interval</th>\n",
       "      <th>formatted_timestamp</th>\n",
       "      <th>version</th>\n",
       "      <th>timestamp</th>\n",
       "      <th>tx_count</th>\n",
       "      <th>size</th>\n",
       "      <th>weight</th>\n",
       "      <th>nonce</th>\n",
       "      <th>bits</th>\n",
       "      <th>difficulty</th>\n",
       "      <th>total_trans_fees</th>\n",
       "      <th>input_count</th>\n",
       "      <th>output_count</th>\n",
       "      <th>input_value</th>\n",
       "    </tr>\n",
       "  </thead>\n",
       "  <tbody>\n",
       "    <tr>\n",
       "      <th>0</th>\n",
       "      <td>0.0</td>\n",
       "      <td>2024-09-23 09:36:44</td>\n",
       "      <td>603979776</td>\n",
       "      <td>1727084204</td>\n",
       "      <td>2277</td>\n",
       "      <td>1856961</td>\n",
       "      <td>3992901</td>\n",
       "      <td>978191335</td>\n",
       "      <td>386075020</td>\n",
       "      <td>9.267158e+13</td>\n",
       "      <td>4271007</td>\n",
       "      <td>10932.0</td>\n",
       "      <td>1.021110e+11</td>\n",
       "      <td>1.017980e+11</td>\n",
       "    </tr>\n",
       "    <tr>\n",
       "      <th>1</th>\n",
       "      <td>545.0</td>\n",
       "      <td>2024-09-23 09:45:49</td>\n",
       "      <td>738197504</td>\n",
       "      <td>1727084749</td>\n",
       "      <td>2341</td>\n",
       "      <td>1839000</td>\n",
       "      <td>3993360</td>\n",
       "      <td>827544669</td>\n",
       "      <td>386075020</td>\n",
       "      <td>9.267158e+13</td>\n",
       "      <td>4302041</td>\n",
       "      <td>10719.0</td>\n",
       "      <td>7.759630e+11</td>\n",
       "      <td>7.756510e+11</td>\n",
       "    </tr>\n",
       "    <tr>\n",
       "      <th>2</th>\n",
       "      <td>712.0</td>\n",
       "      <td>2024-09-23 09:57:41</td>\n",
       "      <td>823279616</td>\n",
       "      <td>1727085461</td>\n",
       "      <td>3137</td>\n",
       "      <td>1645376</td>\n",
       "      <td>3993413</td>\n",
       "      <td>871041503</td>\n",
       "      <td>386075020</td>\n",
       "      <td>9.267158e+13</td>\n",
       "      <td>5259048</td>\n",
       "      <td>8704.0</td>\n",
       "      <td>1.899960e+11</td>\n",
       "      <td>1.896830e+11</td>\n",
       "    </tr>\n",
       "    <tr>\n",
       "      <th>3</th>\n",
       "      <td>902.0</td>\n",
       "      <td>2024-09-23 10:12:43</td>\n",
       "      <td>536911872</td>\n",
       "      <td>1727086363</td>\n",
       "      <td>3447</td>\n",
       "      <td>1716979</td>\n",
       "      <td>3993739</td>\n",
       "      <td>3106376116</td>\n",
       "      <td>386075020</td>\n",
       "      <td>9.267158e+13</td>\n",
       "      <td>5575404</td>\n",
       "      <td>8815.0</td>\n",
       "      <td>2.577620e+12</td>\n",
       "      <td>2.577300e+12</td>\n",
       "    </tr>\n",
       "    <tr>\n",
       "      <th>4</th>\n",
       "      <td>731.0</td>\n",
       "      <td>2024-09-23 10:24:54</td>\n",
       "      <td>1073676288</td>\n",
       "      <td>1727087094</td>\n",
       "      <td>3360</td>\n",
       "      <td>1741490</td>\n",
       "      <td>3997772</td>\n",
       "      <td>610837269</td>\n",
       "      <td>386075020</td>\n",
       "      <td>9.267158e+13</td>\n",
       "      <td>5149822</td>\n",
       "      <td>8926.0</td>\n",
       "      <td>5.237330e+11</td>\n",
       "      <td>5.234210e+11</td>\n",
       "    </tr>\n",
       "  </tbody>\n",
       "</table>\n",
       "</div>"
      ],
      "text/plain": [
       "   delay_interval formatted_timestamp     version   timestamp  tx_count  \\\n",
       "0             0.0 2024-09-23 09:36:44   603979776  1727084204      2277   \n",
       "1           545.0 2024-09-23 09:45:49   738197504  1727084749      2341   \n",
       "2           712.0 2024-09-23 09:57:41   823279616  1727085461      3137   \n",
       "3           902.0 2024-09-23 10:12:43   536911872  1727086363      3447   \n",
       "4           731.0 2024-09-23 10:24:54  1073676288  1727087094      3360   \n",
       "\n",
       "      size   weight       nonce       bits    difficulty  total_trans_fees  \\\n",
       "0  1856961  3992901   978191335  386075020  9.267158e+13           4271007   \n",
       "1  1839000  3993360   827544669  386075020  9.267158e+13           4302041   \n",
       "2  1645376  3993413   871041503  386075020  9.267158e+13           5259048   \n",
       "3  1716979  3993739  3106376116  386075020  9.267158e+13           5575404   \n",
       "4  1741490  3997772   610837269  386075020  9.267158e+13           5149822   \n",
       "\n",
       "   input_count  output_count   input_value  \n",
       "0      10932.0  1.021110e+11  1.017980e+11  \n",
       "1      10719.0  7.759630e+11  7.756510e+11  \n",
       "2       8704.0  1.899960e+11  1.896830e+11  \n",
       "3       8815.0  2.577620e+12  2.577300e+12  \n",
       "4       8926.0  5.237330e+11  5.234210e+11  "
      ]
     },
     "execution_count": 12,
     "metadata": {},
     "output_type": "execute_result"
    }
   ],
   "source": [
    "new_df=df.copy()\n",
    "new_df.head()"
   ]
  },
  {
   "cell_type": "code",
   "execution_count": 47,
   "id": "9aa21164-6d9e-4f76-b493-83390acd4918",
   "metadata": {},
   "outputs": [],
   "source": [
    "def zscore(x):\n",
    "    x = np.asarray(x, float)\n",
    "    s = x.std()\n",
    "    return (x - x.mean()) / (s if s > 0 else 1.0)\n",
    "    \n",
    "def zscore_safe(a):\n",
    "    a = np.asarray(a, float)\n",
    "    m = np.nanmean(a)\n",
    "    s = np.nanstd(a)\n",
    "    if not np.isfinite(s) or s == 0:\n",
    "        # column is constant or degenerate -> use zeros (no signal, no NaNs)\n",
    "        return np.zeros_like(a)\n",
    "    return (a - m) / s"
   ]
  },
  {
   "cell_type": "code",
   "execution_count": 51,
   "id": "81259722-59ad-4ee4-8074-5ca0eea28c1f",
   "metadata": {},
   "outputs": [],
   "source": [
    "x_diff = zscore_safe(df['difficulty'])\n",
    "x_tx = zscore_safe(df['tx_count'])\n",
    "x_size = zscore_safe(df['size'])\n",
    "x_weight = zscore_safe(df['weight'])\n",
    "#x_input = zscore(df['input_count'])\n",
    "x_input = zscore_safe(df['input_count'])\n",
    "x_fees = zscore_safe(df['total_trans_fees'])\n"
   ]
  },
  {
   "cell_type": "code",
   "execution_count": 52,
   "id": "3a787e90-302d-4b0d-bdbb-08199783f4fb",
   "metadata": {},
   "outputs": [
    {
     "data": {
      "text/plain": [
       "array([-0.31182272, -0.3103471 , -0.26484278, ..., -0.3643057 ,\n",
       "       -0.28047798, -0.32937651])"
      ]
     },
     "execution_count": 52,
     "metadata": {},
     "output_type": "execute_result"
    }
   ],
   "source": [
    "x_fees"
   ]
  },
  {
   "cell_type": "code",
   "execution_count": 15,
   "id": "997bf10e-2e90-4e16-9bc9-4ef419b73472",
   "metadata": {},
   "outputs": [],
   "source": [
    "times_data = np.cumsum(df['delay_interval']).astype(float)"
   ]
  },
  {
   "cell_type": "code",
   "execution_count": 16,
   "id": "a6faca99-3c76-4560-b387-9919f99ae749",
   "metadata": {},
   "outputs": [],
   "source": [
    "N=len(times_data) \n",
    "\n",
    "T_obs = float(times_data.iloc[-1])"
   ]
  },
  {
   "cell_type": "code",
   "execution_count": 17,
   "id": "657dec61-600b-4192-9b04-f2e7f52cd499",
   "metadata": {},
   "outputs": [],
   "source": [
    "times_data = np.asarray(times_data, dtype=float)\n",
    "x_diff     = np.asarray(x_diff,     dtype=float)\n",
    "x_tx       = np.asarray(x_tx,       dtype=float)\n",
    "\n",
    "# --- gaps between events: length N-1\n",
    "dt = np.diff(times_data)            # shape (N-1,)\n",
    "\n",
    "# --- covariates aligned to the *preceding* event of each gap\n",
    "x_diff_ = x_diff[:-1]               # shape (N-1,)\n",
    "x_tx_   = x_tx[:-1]                 # shape (N-1,)\n",
    "\n",
    "# sanity check (will raise if something’s off)\n",
    "assert dt.shape == x_diff_.shape == x_tx_.shape\n",
    "N = len(times_data)"
   ]
  },
  {
   "cell_type": "code",
   "execution_count": 18,
   "id": "394de7ce-aea5-45f1-9856-52838fddfebd",
   "metadata": {},
   "outputs": [
    {
     "data": {
      "text/plain": [
       "545.0"
      ]
     },
     "execution_count": 18,
     "metadata": {},
     "output_type": "execute_result"
    }
   ],
   "source": [
    "dt[0]"
   ]
  },
  {
   "cell_type": "code",
   "execution_count": 19,
   "id": "9c10eac1-c451-458d-bb93-39c8ae768d86",
   "metadata": {},
   "outputs": [],
   "source": [
    "assert np.all(np.isfinite(times_data)) and np.all(np.diff(times_data)> 0)\n",
    "assert len(x_diff) == len(x_tx) == N"
   ]
  },
  {
   "cell_type": "code",
   "execution_count": 20,
   "id": "48ae127a-8a46-4815-a82d-d294d1c9fd55",
   "metadata": {},
   "outputs": [],
   "source": [
    "def safe_log(x):\n",
    "    return np.log(np.clip(x, 1e-300, 1e300))\n",
    "\n",
    "\n",
    "# Homogeneous Poisson: lambda = mu (constant)\n",
    "def loglik_poisson(T, N, mu):\n",
    "    lam = max(mu, 1e-300)\n",
    "    return N * np.log(lam) - lam * T\n",
    "\n",
    "def loglik_pois_reg(dt, x_diff, x_tx, beta0, b_diff, b_tx):\n",
    "    lin = np.clip(beta0 + b_diff * x_diff + b_tx * x_tx, -40.0, 40.0)\n",
    "    lam = np.exp(lin)\n",
    "    return np.sum(safe_log(lam)) - np.sum(lam * dt)\n",
    "\n",
    "def loglik_hawkes_exp(times, T, mu, alpha, beta):\n",
    "    mu   = max(mu,   1e-12)\n",
    "    beta = max(beta, 1e-12)\n",
    "    dt = np.empty_like(times)\n",
    "    dt[0] = times[0]\n",
    "    dt[1:] = np.diff(times)\n",
    "    dec = np.exp(-beta * dt)\n",
    "    s = 0.0\n",
    "    logsum = 0.0\n",
    "    for i in range(len(times)):\n",
    "        s = dec[i] * (1.0 + s)\n",
    "        lam = mu + alpha * s\n",
    "        logsum += safe_log(lam)\n",
    "    tail = np.sum(1.0 - np.exp(-beta * (T - times)))\n",
    "    integral = mu * T + (alpha / beta) * tail\n",
    "    return logsum - integral\n"
   ]
  },
  {
   "cell_type": "code",
   "execution_count": 21,
   "id": "2e516728-e1d9-430d-a72e-7660ac698fd1",
   "metadata": {},
   "outputs": [],
   "source": [
    "from math import pi\n",
    "\n",
    "def softplus(z):      # >0\n",
    "    return np.log1p(np.exp(-np.abs(z))) + np.maximum(z, 0.0)\n",
    "def d_softplus(z):\n",
    "    s = 1.0 / (1.0 + np.exp(-z))\n",
    "    return s\n",
    "def sigmoid(z):       # (0,1)\n",
    "    return 1.0 / (1.0 + np.exp(-z))\n",
    "\n",
    "\n",
    "# log pdf helpers\n",
    "def log_halfnormal(x, sigma):\n",
    "    # for x>0\n",
    "    if x <= 0.0: return -np.inf\n",
    "    return np.log(np.sqrt(2.0/(pi*sigma**2))) - (x**2)/(2*sigma**2)\n",
    "\n",
    "def log_normal(x, mu, sigma):\n",
    "    return -0.5*np.log(2*pi*sigma**2) - 0.5*((x-mu)/sigma)**2\n",
    "\n",
    "def log_beta_pdf(x, a, b):\n",
    "    if x <= 0.0 or x >= 1.0: return -np.inf\n",
    "    from math import lgamma\n",
    "    return ( (a-1)*np.log(x) + (b-1)*np.log(1-x)\n",
    "           - (lgamma(a)+lgamma(b)-lgamma(a+b)) )\n"
   ]
  },
  {
   "cell_type": "code",
   "execution_count": 22,
   "id": "d3c9f53c-6f0b-4f30-8fc7-89962802f501",
   "metadata": {},
   "outputs": [],
   "source": [
    "# --- Poisson ---\n",
    "def neg_logpost_pois(eta):\n",
    "    eta = float(np.asarray(eta))   # ensure scalar\n",
    "    mu = softplus(eta)\n",
    "    ll = loglik_poisson(T_obs, len(times_data), mu)\n",
    "    lp = log_halfnormal(mu, 0.5) + np.log(d_softplus(eta))\n",
    "    return float(-(ll + lp))\n",
    "\n",
    "def neg_logpost_preg(theta):\n",
    "    beta0, b_diff, b_tx = np.asarray(theta, float)\n",
    "    ll = loglik_pois_reg(dt, x_diff_, x_tx_, beta0, b_diff, b_tx)  # <- use the aligned ones\n",
    "    lp = ( log_normal(beta0, -2.0, 1.0)\n",
    "         + log_normal(b_diff, 0.0, 0.5)\n",
    "         + log_normal(b_tx,   0.0, 0.5) )\n",
    "    return -(ll + lp)\n",
    "\n",
    "def neg_logpost_hawkes(u):\n",
    "    u = np.asarray(u, dtype=float)\n",
    "    eta_mu, eta_beta, zeta = u\n",
    "    mu   = softplus(eta_mu)\n",
    "    beta = softplus(eta_beta)\n",
    "    s    = sigmoid(zeta)          # prior is Beta(2,5) on s in (0,1)\n",
    "    rho  = 0.98 * s               # stability-scaled branching ratio\n",
    "    alpha = rho * beta\n",
    "\n",
    "    ll = loglik_hawkes_exp(times_data, T_obs, mu, alpha, beta)\n",
    "    # priors + Jacobians\n",
    "    lp  = log_halfnormal(mu, 0.5)   + np.log(d_softplus(eta_mu))\n",
    "    lp += log_halfnormal(beta, 0.5) + np.log(d_softplus(eta_beta))\n",
    "    lp += log_beta_pdf(s, 2, 5)     + np.log(s * (1.0 - s) + 1e-300)  # ds/dzeta\n",
    "    return float(-(ll + lp))\n",
    "\n",
    "# ---- scalar wrapper (avoids NumPy-scalar deprecation)\n",
    "def scalarize(f):\n",
    "    def g(x):\n",
    "        return float(np.asarray(f(x)))\n",
    "    return g\n",
    "\n",
    "# ---- numeric Hessian (use scalarized f)\n",
    "def finite_diff_hessian(f, x, eps=1e-4):\n",
    "    f = scalarize(f)\n",
    "    x = np.asarray(x, dtype=float)\n",
    "    n = x.size\n",
    "    H = np.zeros((n, n), dtype=float)\n",
    "    f0 = f(x)\n",
    "    for i in range(n):\n",
    "        ei = np.zeros(n); ei[i] = 1.0\n",
    "        f_ip = f(x + eps*ei)\n",
    "        f_im = f(x - eps*ei)\n",
    "        H[i, i] = (f_ip - 2.0*f0 + f_im) / (eps**2)\n",
    "        for j in range(i+1, n):\n",
    "            ej = np.zeros(n); ej[j] = 1.0\n",
    "            f_pp = f(x + eps*ei + eps*ej)\n",
    "            f_pm = f(x + eps*ei - eps*ej)\n",
    "            f_mp = f(x - eps*ei + eps*ej)\n",
    "            f_mm = f(x - eps*ei - eps*ej)\n",
    "            H_ij = (f_pp - f_pm - f_mp + f_mm) / (4.0 * eps**2)\n",
    "            H[i, j] = H[j, i] = H_ij\n",
    "    return H\n",
    "\n",
    "def laplace_logZ(neg_logpost, x0, bounds=None):\n",
    "    f = scalarize(neg_logpost)\n",
    "    res = minimize(f, np.asarray(x0, dtype=float), method=\"L-BFGS-B\", bounds=bounds)\n",
    "    xhat = res.x\n",
    "    nlp  = f(xhat)                      # scalar float\n",
    "    H    = finite_diff_hessian(f, xhat) # Hessian of neg logpost\n",
    "    # ridge if needed\n",
    "    evals = np.linalg.eigvalsh(H)\n",
    "    if np.any(evals <= 1e-10):\n",
    "        H = H + (1e-6 - min(evals.min(), 0.0)) * np.eye(H.shape[0])\n",
    "    sign, logdet = np.linalg.slogdet(H)\n",
    "    if sign <= 0:\n",
    "        # fall back to a bigger ridge\n",
    "        H = H + 1e-4 * np.eye(H.shape[0])\n",
    "        sign, logdet = np.linalg.slogdet(H)\n",
    "        assert sign > 0\n",
    "    k = len(xhat)\n",
    "    logZ = -nlp + 0.5*k*np.log(2*np.pi) - 0.5*logdet\n",
    "    return float(logZ), xhat, H, res"
   ]
  },
  {
   "cell_type": "code",
   "execution_count": 23,
   "id": "ade73d9b-f85c-4eb5-a8cd-738deba9d159",
   "metadata": {},
   "outputs": [],
   "source": [
    "import numpy as np\n",
    "from scipy.optimize import minimize\n",
    "\n",
    "def finite_diff_hessian(f, x, eps=1e-4):\n",
    "    # symmetric finite-difference Hessian\n",
    "    x = np.asarray(x, dtype=np.float64)\n",
    "    n = x.size\n",
    "    H = np.zeros((n,n), dtype=np.float64)\n",
    "    f0 = f(x)\n",
    "    for i in range(n):\n",
    "        ei = np.zeros(n); ei[i]=1.0\n",
    "        f_ip = f(x + eps*ei)\n",
    "        f_im = f(x - eps*ei)\n",
    "        H[i,i] = (f_ip - 2*f0 + f_im) / (eps**2)\n",
    "        for j in range(i+1, n):\n",
    "            ej = np.zeros(n); ej[j]=1.0\n",
    "            f_pp = f(x + eps*ei + eps*ej)\n",
    "            f_pm = f(x + eps*ei - eps*ej)\n",
    "            f_mp = f(x - eps*ei + eps*ej)\n",
    "            f_mm = f(x - eps*ei - eps*ej)\n",
    "            H_ij = (f_pp - f_pm - f_mp + f_mm) / (4*eps**2)\n",
    "            H[i,j]=H[j,i]=H_ij\n",
    "    return H\n",
    "\n",
    "def laplace_logZ(neg_logpost, x0, bounds=None):\n",
    "    res = minimize(neg_logpost, x0, method=\"L-BFGS-B\", bounds=bounds)\n",
    "    xhat = res.x\n",
    "    nlp  = neg_logpost(xhat)\n",
    "    H    = finite_diff_hessian(neg_logpost, xhat, eps=1e-4)   # Hessian of negative logposterior\n",
    "    # Make sure it's posdef; add a tiny ridge if needed\n",
    "    evals = np.linalg.eigvalsh(H)\n",
    "    if np.any(evals <= 1e-10):\n",
    "        H = H + (1e-6 - min(evals.min(), 0)) * np.eye(H.shape[0])\n",
    "    sign, logdet = np.linalg.slogdet(H)\n",
    "    assert sign > 0.0, \"Hessian not PD even after ridge\"\n",
    "    k = len(xhat)\n",
    "    logZ = -nlp + 0.5*k*np.log(2*np.pi) - 0.5*logdet\n",
    "    return logZ, xhat, H, res\n"
   ]
  },
  {
   "cell_type": "code",
   "execution_count": 24,
   "id": "ec128828-3e05-47bb-af58-606e08aaadd8",
   "metadata": {},
   "outputs": [
    {
     "name": "stderr",
     "output_type": "stream",
     "text": [
      "/tmp/ipykernel_10713/4175128076.py:3: DeprecationWarning: Conversion of an array with ndim > 0 to a scalar is deprecated, and will error in future. Ensure you extract a single element from your array before performing this operation. (Deprecated NumPy 1.25.)\n",
      "  eta = float(np.asarray(eta))   # ensure scalar\n"
     ]
    },
    {
     "name": "stdout",
     "output_type": "stream",
     "text": [
      "log Z: poisson=-110528.78, preg=-110533.85, hawkes=-110540.13\n",
      "BF(hawkes/poisson)  = 1.18e-05  (logBF=-11.35)\n",
      "BF(pois_reg/poisson)= 0.00632   (logBF=-5.06)\n"
     ]
    }
   ],
   "source": [
    "x0_pois   = np.array([np.log((len(times_data)/T_obs) + 1e-6)])\n",
    "x0_preg   = np.array([-2.0, 0.0, 0.0])\n",
    "x0_hawkes = np.array([-3.0, -3.0, -1.0])\n",
    "\n",
    "logZ_pois,   pois_map,   H_pois,   res_pois   = laplace_logZ(neg_logpost_pois,   x0_pois)\n",
    "logZ_preg,   preg_map,   H_preg,   res_preg   = laplace_logZ(neg_logpost_preg,   x0_preg)\n",
    "logZ_hawkes, hawk_map,   H_hawk,   res_hawk   = laplace_logZ(neg_logpost_hawkes, x0_hawkes)\n",
    "\n",
    "logZ_pois   = float(logZ_pois)\n",
    "logZ_preg   = float(logZ_preg)\n",
    "logZ_hawkes = float(logZ_hawkes)\n",
    "\n",
    "logBF_hawkes_vs_poisson = float(logZ_hawkes - logZ_pois)\n",
    "logBF_preg_vs_poisson   = float(logZ_preg   - logZ_pois)\n",
    "\n",
    "BF_hawkes_vs_poisson = float(np.exp(np.clip(logBF_hawkes_vs_poisson, -700, 700)))\n",
    "BF_preg_vs_poisson   = float(np.exp(np.clip(logBF_preg_vs_poisson,   -700, 700)))\n",
    "\n",
    "print(f\"log Z: poisson={logZ_pois:.2f}, preg={logZ_preg:.2f}, hawkes={logZ_hawkes:.2f}\")\n",
    "print(f\"BF(hawkes/poisson)  = {BF_hawkes_vs_poisson:.3g}  (logBF={logBF_hawkes_vs_poisson:.2f})\")\n",
    "print(f\"BF(pois_reg/poisson)= {BF_preg_vs_poisson:.3g}   (logBF={logBF_preg_vs_poisson:.2f})\")\n"
   ]
  },
  {
   "cell_type": "code",
   "execution_count": 25,
   "id": "836f5153-a134-44d5-a090-7fe3ee5f1540",
   "metadata": {},
   "outputs": [
    {
     "name": "stdout",
     "output_type": "stream",
     "text": [
      "{'mu': 0.0017106921945928971, 'beta': 0.005980093804931033, 'rho': 0.003188923189291154, 'alpha': 1.9070059808680942e-05}\n"
     ]
    }
   ],
   "source": [
    "eta_mu, eta_beta, zeta = hawk_map\n",
    "def softplus(z): return np.log1p(np.exp(-np.abs(z))) + np.maximum(z, 0.0)\n",
    "def sigmoid(z):  return 1.0/(1.0+np.exp(-z))\n",
    "\n",
    "mu_hat   = softplus(eta_mu)\n",
    "beta_hat = softplus(eta_beta)\n",
    "rho_hat  = 0.98 * sigmoid(zeta)   # alpha_hat = rho_hat * beta_hat\n",
    "print(dict(mu=mu_hat, beta=beta_hat, rho=rho_hat, alpha=rho_hat*beta_hat))"
   ]
  },
  {
   "cell_type": "code",
   "execution_count": 26,
   "id": "35335678-7bfc-4bd4-bc8a-de8e4e01ab88",
   "metadata": {},
   "outputs": [
    {
     "name": "stdout",
     "output_type": "stream",
     "text": [
      "{'mu_h': 0.0017134501478332437, 'alpha_h': 5.962928901720158e-09, 'beta_h': 5.1845349503138494e-06, 'rho_h': 0.0011501376611144627}\n"
     ]
    }
   ],
   "source": [
    "import numpy as np\n",
    "from scipy.optimize import minimize\n",
    "\n",
    "# Ensure seconds, sorted, numpy array (no pandas broadcasting surprises)\n",
    "times = np.asarray(times_data, float)\n",
    "times = np.sort(times)  # just in case\n",
    "T     = float(times[-1])\n",
    "N     = times.shape[0]\n",
    "\n",
    "def _safe_log(x):\n",
    "    return np.log(np.clip(x, 1e-300, 1e300))\n",
    "\n",
    "def hawkes_loglik_O1(times, T, mu, alpha, beta):\n",
    "    \"\"\"Log-likelihood for exponential Hawkes, O(N), using λ(t_i^-)\"\"\"\n",
    "    dt = np.empty_like(times)\n",
    "    dt[0] = times[0]             # time from 0 to first event\n",
    "    dt[1:] = np.diff(times)\n",
    "    dec = np.exp(-beta * dt)\n",
    "\n",
    "    s = 0.0                      # s at t_0^- (sum of decayed kernels)\n",
    "    logsum = 0.0\n",
    "    for i in range(N):\n",
    "        s = s * dec[i]           # decay from previous event to just before i-th event\n",
    "        lam_i = mu + alpha * s   # intensity just BEFORE the event\n",
    "        logsum += _safe_log(lam_i)\n",
    "        s = s + 1.0              # add the jump from the i-th event\n",
    "\n",
    "    # Integral term\n",
    "    tail = np.sum(1.0 - np.exp(-beta * (T - times)))\n",
    "    integral = mu * T + (alpha / beta) * tail\n",
    "    return logsum - integral\n",
    "\n",
    "def fit_hawkes_mle(times):\n",
    "    T = float(times[-1])\n",
    "    dt = np.diff(np.r_[0.0, times])\n",
    "    mu0   = max(1e-3, (len(times)/T)*0.5)          # cautious start\n",
    "    beta0 = max(1e-3, 1.0 / (np.median(dt) + 1e-9))\n",
    "    rho0  = 0.3                                     # branching ratio in (0,1)\n",
    "\n",
    "    def logit(p):  return np.log(p/(1-p))\n",
    "    def invlogit(z): return 1.0/(1.0+np.exp(-z))\n",
    "\n",
    "    phi0 = np.array([np.log(mu0), np.log(beta0), logit(rho0)])\n",
    "\n",
    "    def nll_phi(phi):\n",
    "        mu   = np.exp(phi[0])\n",
    "        beta = np.exp(phi[1])\n",
    "        rho  = invlogit(phi[2])          # in (0,1)\n",
    "        alpha = rho * beta\n",
    "        return -hawkes_loglik_O1(times, T, mu, alpha, beta)\n",
    "\n",
    "    res = minimize(nll_phi, phi0, method=\"L-BFGS-B\")\n",
    "    mu   = float(np.exp(res.x[0]))\n",
    "    beta = float(np.exp(res.x[1]))\n",
    "    rho  = float(1.0/(1.0+np.exp(-res.x[2])))\n",
    "    alpha = rho * beta\n",
    "    return {\"mu\": mu, \"alpha\": alpha, \"beta\": beta, \"rho\": rho, \"opt\": res}\n",
    "\n",
    "pars = fit_hawkes_mle(times)\n",
    "mu_h, alpha_h, beta_h = pars[\"mu\"], pars[\"alpha\"], pars[\"beta\"]\n",
    "print({\"mu_h\": mu_h, \"alpha_h\": alpha_h, \"beta_h\": beta_h, \"rho_h\": pars[\"rho\"]})\n"
   ]
  },
  {
   "cell_type": "code",
   "execution_count": 27,
   "id": "eaf74d18-7e37-4563-9b38-55072a4a05fc",
   "metadata": {},
   "outputs": [],
   "source": [
    "def rescale_poisson(dt, mu):\n",
    "    z = mu * dt\n",
    "    u = 1.0 - np.exp(-z)\n",
    "    return z, u\n",
    "\n",
    "def rescale_ip(dt, x_diff_, x_tx_, beta0, b_diff, b_tx):\n",
    "    lin = np.clip(beta0 + b_diff * x_diff_ + b_tx * x_tx_, -40, 40)\n",
    "    lam = np.exp(lin)\n",
    "    z   = lam * dt\n",
    "    u   = 1.0 - np.exp(-z)\n",
    "    return z, u, lam\n",
    "\n",
    "def rescale_hawkes(times, mu, alpha, beta):\n",
    "    \"\"\"O(N). Uses the correct integral over each gap:\n",
    "       z_i = μΔ + (α/β)*(1 - e^{-βΔ})*(1 + s_prev),\n",
    "       s_prev update: s_prev <- e^{-βΔ}*(1 + s_prev).\n",
    "       For the event term at t_i: λ_i = μ + α * s_end, s_end = e^{-βΔ}*(1+s_prev_old)\n",
    "    \"\"\"\n",
    "    times = np.asarray(times, float)\n",
    "    dt = np.diff(times)\n",
    "    z  = np.empty_like(dt)\n",
    "    lam_event = np.empty_like(dt)\n",
    "\n",
    "    s_prev = 0.0\n",
    "    for i, Δ in enumerate(dt):\n",
    "        e = np.exp(-beta * Δ)\n",
    "        z[i] = mu * Δ + (alpha / beta) * (1.0 - e) * (1.0 + s_prev)\n",
    "        s_end = e * (1.0 + s_prev)\n",
    "        lam_event[i] = mu + alpha * s_end\n",
    "        s_prev = s_end\n",
    "    u = 1.0 - np.exp(-z)\n",
    "    return z, u, lam_event\n",
    "\n",
    "def ks_uniform(u):\n",
    "    u = np.asarray(u, float)\n",
    "    stat, p = kstest(u, 'uniform', args=(0,1))\n",
    "    return stat, p\n"
   ]
  },
  {
   "cell_type": "code",
   "execution_count": 28,
   "id": "6acfc115-e686-4b38-a81d-a8dab716cace",
   "metadata": {
    "scrolled": true
   },
   "outputs": [
    {
     "ename": "NameError",
     "evalue": "name 'beta0_hat' is not defined",
     "output_type": "error",
     "traceback": [
      "\u001b[0;31m---------------------------------------------------------------------------\u001b[0m",
      "\u001b[0;31mNameError\u001b[0m                                 Traceback (most recent call last)",
      "Cell \u001b[0;32mIn[28], line 6\u001b[0m\n\u001b[1;32m      3\u001b[0m ks_p \u001b[38;5;241m=\u001b[39m ks_uniform(u_p)\n\u001b[1;32m      5\u001b[0m \u001b[38;5;66;03m# IP: beta0_hat, b_diff_hat, b_tx_hat  (covariates are standardized above)\u001b[39;00m\n\u001b[0;32m----> 6\u001b[0m z_r, u_r, lam_r \u001b[38;5;241m=\u001b[39m rescale_ip(dt, x_diff_, x_tx_, \u001b[43mbeta0_hat\u001b[49m, b_diff_hat, b_tx_hat)\n\u001b[1;32m      7\u001b[0m ks_r \u001b[38;5;241m=\u001b[39m ks_uniform(u_r)\n\u001b[1;32m      9\u001b[0m \u001b[38;5;66;03m# Hawkes: mu_h, alpha_h, beta_h\u001b[39;00m\n",
      "\u001b[0;31mNameError\u001b[0m: name 'beta0_hat' is not defined"
     ]
    }
   ],
   "source": [
    "# Poisson: mu_hat\n",
    "z_p, u_p = rescale_poisson(dt, mu_hat)\n",
    "ks_p = ks_uniform(u_p)\n",
    "\n",
    "# IP: beta0_hat, b_diff_hat, b_tx_hat  (covariates are standardized above)\n",
    "z_r, u_r, lam_r = rescale_ip(dt, x_diff_, x_tx_, beta0_hat, b_diff_hat, b_tx_hat)\n",
    "ks_r = ks_uniform(u_r)\n",
    "\n",
    "# Hawkes: mu_h, alpha_h, beta_h\n",
    "z_h, u_h, lam_h = rescale_hawkes(times_data, mu_h, alpha_h, beta_h)\n",
    "ks_h = ks_uniform(u_h)\n",
    "\n",
    "print(\"KS p-values (Uniform[0,1] expected):\",\n",
    "      f\"Poisson={ks_p[1]:.3g}\", f\"IP={ks_r[1]:.3g}\", f\"Hawkes={ks_h[1]:.3g}\")\n"
   ]
  },
  {
   "cell_type": "code",
   "execution_count": null,
   "id": "3307ec77-0dae-4152-80be-277bd564ef80",
   "metadata": {},
   "outputs": [],
   "source": [
    "# times_data: 1D array-like of event times (seconds), strictly increasing\n",
    "times = np.asarray(times_data, float).copy()\n",
    "\n",
    "# basic hygiene\n",
    "if not np.all(np.isfinite(times)):\n",
    "    raise ValueError(\"times_data has non-finite values.\")\n",
    "times = np.sort(times)\n",
    "# drop exact duplicates (zero-length gaps); alternatively jitter by a tiny epsilon\n",
    "times = np.unique(times)\n",
    "\n",
    "dt = np.diff(times)   # (N-1,)\n",
    "if np.any(dt <= 0):\n",
    "    raise ValueError(\"Non-positive inter-arrival time found. Check timestamps.\")\n",
    "\n",
    "print(f\"N events={times.size}, N gaps={dt.size}, median gap={np.median(dt):.2f}s\")"
   ]
  },
  {
   "cell_type": "code",
   "execution_count": 29,
   "id": "7ea68ebc-f689-47d3-9979-ec0c663a5003",
   "metadata": {},
   "outputs": [
    {
     "name": "stderr",
     "output_type": "stream",
     "text": [
      "Initializing NUTS using jitter+adapt_diag...\n",
      "Multiprocess sampling (2 chains in 2 jobs)\n",
      "NUTS: [k, rate]\n"
     ]
    },
    {
     "data": {
      "application/vnd.jupyter.widget-view+json": {
       "model_id": "192475bfe23d42569d73593ecc0f999a",
       "version_major": 2,
       "version_minor": 0
      },
      "text/plain": [
       "Output()"
      ]
     },
     "metadata": {},
     "output_type": "display_data"
    },
    {
     "data": {
      "text/html": [
       "<pre style=\"white-space:pre;overflow-x:auto;line-height:normal;font-family:Menlo,'DejaVu Sans Mono',consolas,'Courier New',monospace\"></pre>\n"
      ],
      "text/plain": []
     },
     "metadata": {},
     "output_type": "display_data"
    },
    {
     "name": "stderr",
     "output_type": "stream",
     "text": [
      "Sampling 2 chains for 1_000 tune and 1_000 draw iterations (2_000 + 2_000 draws total) took 4 seconds.\n",
      "We recommend running at least 4 chains for robust computation of convergence diagnostics\n",
      "Initializing NUTS using jitter+adapt_diag...\n",
      "Multiprocess sampling (2 chains in 2 jobs)\n",
      "NUTS: [k, scale]\n"
     ]
    },
    {
     "data": {
      "application/vnd.jupyter.widget-view+json": {
       "model_id": "57324da3d3e343828dae353d3114e334",
       "version_major": 2,
       "version_minor": 0
      },
      "text/plain": [
       "Output()"
      ]
     },
     "metadata": {},
     "output_type": "display_data"
    },
    {
     "data": {
      "text/html": [
       "<pre style=\"white-space:pre;overflow-x:auto;line-height:normal;font-family:Menlo,'DejaVu Sans Mono',consolas,'Courier New',monospace\"></pre>\n"
      ],
      "text/plain": []
     },
     "metadata": {},
     "output_type": "display_data"
    },
    {
     "name": "stderr",
     "output_type": "stream",
     "text": [
      "Sampling 2 chains for 1_000 tune and 1_000 draw iterations (2_000 + 2_000 draws total) took 16 seconds.\n",
      "We recommend running at least 4 chains for robust computation of convergence diagnostics\n"
     ]
    }
   ],
   "source": [
    "with pm.Model() as gamma_renewal:\n",
    "    k    = pm.HalfNormal(\"k\", sigma=2.0)\n",
    "    rate = pm.HalfNormal(\"rate\", sigma=0.01)\n",
    "    pm.Gamma(\"dt_obs\", alpha=k, beta=rate, observed=dt)\n",
    "\n",
    "    id_gamma = pm.sample(\n",
    "        1000, tune=1000, chains=2, target_accept=0.9, init=\"auto\", random_seed=42,\n",
    "        return_inferencedata=True,\n",
    "        idata_kwargs={\"log_likelihood\": True}\n",
    "    )\n",
    "\n",
    "with pm.Model() as weibull_renewal:\n",
    "    k     = pm.HalfNormal(\"k\", sigma=2.0)\n",
    "    scale = pm.HalfNormal(\"scale\", sigma=1200.)\n",
    "    pm.Weibull(\"dt_obs\", alpha=k, beta=scale, observed=dt)\n",
    "\n",
    "    id_weibull = pm.sample(\n",
    "        1000, tune=1000, chains=2, target_accept=0.9, init=\"auto\", random_seed=43,\n",
    "        return_inferencedata=True,\n",
    "        idata_kwargs={\"log_likelihood\": True}\n",
    "    )\n",
    "\n",
    "# Then:\n",
    "loo_gamma   = az.loo(id_gamma,   var_name=\"dt_obs\")\n",
    "loo_weibull = az.loo(id_weibull, var_name=\"dt_obs\")\n",
    "cmp = az.compare({\"gamma\": id_gamma, \"weibull\": id_weibull},\n",
    "                 ic=\"loo\", method=\"stacking\", var_name=\"dt_obs\")\n"
   ]
  },
  {
   "cell_type": "code",
   "execution_count": 30,
   "id": "bb982700-bb20-400b-b434-4af4be5feba4",
   "metadata": {},
   "outputs": [
    {
     "data": {
      "text/html": [
       "<div>\n",
       "<style scoped>\n",
       "    .dataframe tbody tr th:only-of-type {\n",
       "        vertical-align: middle;\n",
       "    }\n",
       "\n",
       "    .dataframe tbody tr th {\n",
       "        vertical-align: top;\n",
       "    }\n",
       "\n",
       "    .dataframe thead th {\n",
       "        text-align: right;\n",
       "    }\n",
       "</style>\n",
       "<table border=\"1\" class=\"dataframe\">\n",
       "  <thead>\n",
       "    <tr style=\"text-align: right;\">\n",
       "      <th></th>\n",
       "      <th>rank</th>\n",
       "      <th>elpd_loo</th>\n",
       "      <th>p_loo</th>\n",
       "      <th>elpd_diff</th>\n",
       "      <th>weight</th>\n",
       "      <th>se</th>\n",
       "      <th>dse</th>\n",
       "      <th>warning</th>\n",
       "      <th>scale</th>\n",
       "    </tr>\n",
       "  </thead>\n",
       "  <tbody>\n",
       "    <tr>\n",
       "      <th>gamma</th>\n",
       "      <td>0</td>\n",
       "      <td>-110501.478068</td>\n",
       "      <td>1.899172</td>\n",
       "      <td>0.000000</td>\n",
       "      <td>1.000000e+00</td>\n",
       "      <td>120.071560</td>\n",
       "      <td>0.00000</td>\n",
       "      <td>False</td>\n",
       "      <td>log</td>\n",
       "    </tr>\n",
       "    <tr>\n",
       "      <th>weibull</th>\n",
       "      <td>1</td>\n",
       "      <td>-110504.319128</td>\n",
       "      <td>2.046785</td>\n",
       "      <td>2.841059</td>\n",
       "      <td>5.329071e-15</td>\n",
       "      <td>120.028104</td>\n",
       "      <td>1.19152</td>\n",
       "      <td>False</td>\n",
       "      <td>log</td>\n",
       "    </tr>\n",
       "  </tbody>\n",
       "</table>\n",
       "</div>"
      ],
      "text/plain": [
       "         rank       elpd_loo     p_loo  elpd_diff        weight          se  \\\n",
       "gamma       0 -110501.478068  1.899172   0.000000  1.000000e+00  120.071560   \n",
       "weibull     1 -110504.319128  2.046785   2.841059  5.329071e-15  120.028104   \n",
       "\n",
       "             dse  warning scale  \n",
       "gamma    0.00000    False   log  \n",
       "weibull  1.19152    False   log  "
      ]
     },
     "execution_count": 30,
     "metadata": {},
     "output_type": "execute_result"
    }
   ],
   "source": [
    "cmp"
   ]
  },
  {
   "cell_type": "code",
   "execution_count": 31,
   "id": "d304df8f-4a83-43c8-ab30-4128e4a15e52",
   "metadata": {},
   "outputs": [
    {
     "name": "stdout",
     "output_type": "stream",
     "text": [
      "KS p-values: Gamma=0.13, Weibull=0.259\n"
     ]
    }
   ],
   "source": [
    "from scipy import stats\n",
    "\n",
    "def ks_uniform(u):\n",
    "    # Kolmogorov–Smirnov against U(0,1)\n",
    "    return stats.kstest(u, \"uniform\")\n",
    "\n",
    "# --- Gamma PIT\n",
    "k_hat    = float(id_gamma.posterior[\"k\"].mean())\n",
    "rate_hat = float(id_gamma.posterior[\"rate\"].mean())\n",
    "# Gamma(shape=k, rate=β)  == scipy.stats.gamma(a=k, scale=1/β)\n",
    "u_gamma = stats.gamma.cdf(dt, a=k_hat, scale=1.0/rate_hat)\n",
    "ks_gamma = ks_uniform(u_gamma)\n",
    "\n",
    "# --- Weibull PIT\n",
    "k_w_hat     = float(id_weibull.posterior[\"k\"].mean())\n",
    "scale_w_hat = float(id_weibull.posterior[\"scale\"].mean())\n",
    "# Weibull(k, λ) -> scipy: weibull_min(c=k, scale=λ)\n",
    "u_weibull = stats.weibull_min.cdf(dt, c=k_w_hat, scale=scale_w_hat)\n",
    "ks_weibull = ks_uniform(u_weibull)\n",
    "\n",
    "print(f\"KS p-values: Gamma={ks_gamma.pvalue:.3g}, Weibull={ks_weibull.pvalue:.3g}\")"
   ]
  },
  {
   "cell_type": "code",
   "execution_count": 32,
   "id": "5ae18ff4-f3d1-43aa-b8c5-74f63933b30d",
   "metadata": {},
   "outputs": [
    {
     "data": {
      "image/png": "[encoded data removed]",
      "text/plain": [
       "<Figure size 640x480 with 1 Axes>"
      ]
     },
     "metadata": {},
     "output_type": "display_data"
    }
   ],
   "source": [
    "import matplotlib.pyplot as plt\n",
    "\n",
    "plt.hist(u_gamma, bins=40, density=True, alpha=0.6, label=\"Gamma PIT\")\n",
    "plt.hist(u_weibull, bins=40, density=True, alpha=0.6, label=\"Weibull PIT\")\n",
    "plt.axhline(1.0, linestyle=\"--\")\n",
    "plt.legend(); plt.title(\"PIT histograms (ideal = flat at 1.0)\")\n",
    "plt.show()"
   ]
  },
  {
   "cell_type": "code",
   "execution_count": 69,
   "id": "84f996ae-916f-41a4-91f3-128ed247b05a",
   "metadata": {},
   "outputs": [],
   "source": [
    "import numpy as np\n",
    "import pytensor.tensor as pt\n",
    "\n",
    "# 1) common data: inter-arrival intervals (one obs per event)\n",
    "times = np.asarray(times_data, float)\n",
    "dt    = np.empty_like(times)\n",
    "dt[0] = times[0]\n",
    "dt[1:] = np.diff(times)\n",
    "N = len(dt)\n",
    "\n",
    "coords = {\"interval\": np.arange(N)}"
   ]
  },
  {
   "cell_type": "code",
   "execution_count": 70,
   "id": "21084e01-afa8-4a2d-aa81-0dc374fb5465",
   "metadata": {},
   "outputs": [
    {
     "name": "stderr",
     "output_type": "stream",
     "text": [
      "Initializing NUTS using jitter+adapt_diag...\n",
      "Multiprocess sampling (2 chains in 2 jobs)\n",
      "NUTS: [mu]\n"
     ]
    },
    {
     "data": {
      "application/vnd.jupyter.widget-view+json": {
       "model_id": "0914c0c8fe80427fab7a34cc85546e58",
       "version_major": 2,
       "version_minor": 0
      },
      "text/plain": [
       "Output()"
      ]
     },
     "metadata": {},
     "output_type": "display_data"
    },
    {
     "data": {
      "text/html": [
       "<pre style=\"white-space:pre;overflow-x:auto;line-height:normal;font-family:Menlo,'DejaVu Sans Mono',consolas,'Courier New',monospace\"></pre>\n"
      ],
      "text/plain": []
     },
     "metadata": {},
     "output_type": "display_data"
    },
    {
     "name": "stderr",
     "output_type": "stream",
     "text": [
      "Sampling 2 chains for 1_000 tune and 1_000 draw iterations (2_000 + 2_000 draws total) took 6 seconds.\n",
      "We recommend running at least 4 chains for robust computation of convergence diagnostics\n"
     ]
    }
   ],
   "source": [
    "\n",
    "\n",
    "with pm.Model(coords=coords) as pois_m:\n",
    "    dt_c = pm.Data(\"dt\", dt, dims=[\"interval\"])\n",
    "    mu   = pm.HalfNormal(\"mu\", sigma=1.0)\n",
    "\n",
    "    lam  = pm.math.clip(mu, 1e-12, 1e12)\n",
    "    ll_i = pm.Deterministic(\"ll_interval\", pm.math.log(lam) - lam * dt_c, dims=[\"interval\"])\n",
    "    pm.Potential(\"sum_ll\", ll_i.sum())\n",
    "\n",
    "    id_pois = pm.sample(1000, tune=1000, chains=2, target_accept=0.9, return_inferencedata=True)\n",
    "    id_pois.add_groups({\"log_likelihood\": {\"interval\": id_pois.posterior[\"ll_interval\"]}})\n"
   ]
  },
  {
   "cell_type": "code",
   "execution_count": 54,
   "id": "e9d4c78f-d401-476f-b84e-3ede808952db",
   "metadata": {},
   "outputs": [],
   "source": [
    "# Build design matrix (N x 6). Make sure each vector has length N == len(dt)\n",
    "X = np.column_stack([\n",
    "    np.asarray(x_diff,  float),\n",
    "    np.asarray(x_tx,    float),\n",
    "    np.asarray(x_size,  float),\n",
    "    np.asarray(x_weight,float),\n",
    "    np.asarray(x_input, float),\n",
    "    np.asarray(x_fees,  float),\n",
    "])"
   ]
  },
  {
   "cell_type": "code",
   "execution_count": 55,
   "id": "ba8acc88-98a8-429a-89ab-ee6e1584ee51",
   "metadata": {},
   "outputs": [],
   "source": [
    "col_medians = np.nanmedian(X, axis=0)"
   ]
  },
  {
   "cell_type": "code",
   "execution_count": 56,
   "id": "334b976f-8051-450c-936f-0e161b934b4e",
   "metadata": {},
   "outputs": [],
   "source": [
    "X = np.where(np.isfinite(X), X, col_medians)\n",
    "\n",
    "assert np.all(np.isfinite(X))"
   ]
  },
  {
   "cell_type": "code",
   "execution_count": 57,
   "id": "b8691037-12f0-4a4f-9cc0-8cd70f20e51d",
   "metadata": {},
   "outputs": [
    {
     "name": "stderr",
     "output_type": "stream",
     "text": [
      "Initializing NUTS using adapt_diag...\n",
      "Multiprocess sampling (2 chains in 2 jobs)\n",
      "NUTS: [beta0, b]\n"
     ]
    },
    {
     "data": {
      "application/vnd.jupyter.widget-view+json": {
       "model_id": "6334d3f2f8914ec68ba9609043693da5",
       "version_major": 2,
       "version_minor": 0
      },
      "text/plain": [
       "Output()"
      ]
     },
     "metadata": {},
     "output_type": "display_data"
    },
    {
     "data": {
      "text/html": [
       "<pre style=\"white-space:pre;overflow-x:auto;line-height:normal;font-family:Menlo,'DejaVu Sans Mono',consolas,'Courier New',monospace\"></pre>\n"
      ],
      "text/plain": []
     },
     "metadata": {},
     "output_type": "display_data"
    },
    {
     "name": "stderr",
     "output_type": "stream",
     "text": [
      "Sampling 2 chains for 1_000 tune and 1_000 draw iterations (2_000 + 2_000 draws total) took 20 seconds.\n",
      "We recommend running at least 4 chains for robust computation of convergence diagnostics\n"
     ]
    }
   ],
   "source": [
    "\n",
    "feat_names = [\"diff\",\"tx\",\"size\",\"weight\",\"input\",\"fees\"]\n",
    "\n",
    "# If your coords already exist, just ensure they include the 'feat' axis:\n",
    "coords = {\n",
    "    \"interval\": np.arange(len(dt)),\n",
    "    \"feat\": feat_names,\n",
    "}\n",
    "\n",
    "with pm.Model(coords=coords) as ip_m:\n",
    "    # data\n",
    "    dt_c = pm.Data(\"dt\", np.asarray(dt, float), dims=[\"interval\"])\n",
    "    X_c  = pm.Data(\"X\",  X,               dims=[\"interval\", \"feat\"])\n",
    "\n",
    "    # priors\n",
    "    beta0 = pm.Normal(\"beta0\", 0.0, 1.0)          # intercept\n",
    "    b     = pm.Normal(\"b\", 0.0, 1.0, dims=[\"feat\"])  # slopes for all 6 features\n",
    "\n",
    "    # intensity and per-interval log-likelihood\n",
    "    lin   = pm.math.clip(beta0 + (X_c @ b), -40.0, 40.0)  # (N,)\n",
    "    lam_i = pm.math.exp(lin)\n",
    "    ll_i  = pm.Deterministic(\n",
    "        \"ll_interval\",\n",
    "        pm.math.log(lam_i) - lam_i * dt_c,\n",
    "        dims=[\"interval\"]\n",
    "    )\n",
    "\n",
    "    # sum of pointwise log-likelihoods is the model likelihood\n",
    "    pm.Potential(\"sum_ll\", ll_i.sum())\n",
    "\n",
    "    id_ip = pm.sample(\n",
    "        1000, tune=1000, chains=2, target_accept=0.9,\n",
    "        return_inferencedata=True, init=\"adapt_diag\", random_seed=42\n",
    "    )\n",
    "\n",
    "# Expose pointwise log-lik for ArviZ (idempotent)\n",
    "try:\n",
    "    id_ip.add_groups({\"log_likelihood\": {\"interval\": id_ip.posterior[\"ll_interval\"]}})\n",
    "except ValueError:\n",
    "    # group exists -> just assign/overwrite the variable\n",
    "    id_ip.log_likelihood[\"interval\"] = id_ip.posterior[\"ll_interval\"]\n"
   ]
  },
  {
   "cell_type": "code",
   "execution_count": 58,
   "id": "e95ff99e-90b6-4350-8a8d-7f0256c047d6",
   "metadata": {},
   "outputs": [
    {
     "data": {
      "text/plain": [
       "array([[-0.9590873 , -0.87962238,  0.92534694,  0.04987307,  2.40490286,\n",
       "        -0.31182272],\n",
       "       [-0.9590873 , -0.83694578,  0.85333421,  0.0519989 ,  2.24820673,\n",
       "        -0.3103471 ],\n",
       "       [-0.9590873 , -0.3061556 ,  0.07701921,  0.05224437,  0.76584663,\n",
       "        -0.26484278],\n",
       "       ...,\n",
       "       [ 1.56389029,  0.44935355,  0.38512113,  0.05196648, -0.93279828,\n",
       "        -0.3643057 ],\n",
       "       [ 1.56389029,  0.31532236,  0.44475686,  0.05200816, -0.43475471,\n",
       "        -0.28047798],\n",
       "       [ 1.56389029,  0.89212325,  0.74279921,  0.05141997, -0.02940463,\n",
       "        -0.32937651]])"
      ]
     },
     "execution_count": 58,
     "metadata": {},
     "output_type": "execute_result"
    }
   ],
   "source": [
    "X"
   ]
  },
  {
   "cell_type": "code",
   "execution_count": 72,
   "id": "f4013b10-f45b-401c-b0a2-b6e9df3ba75e",
   "metadata": {},
   "outputs": [
    {
     "name": "stdout",
     "output_type": "stream",
     "text": [
      "[diag] dt size=14999, NaN/Inf=0, non-positive=0, min=1.0\n"
     ]
    },
    {
     "name": "stderr",
     "output_type": "stream",
     "text": [
      "Initializing NUTS using jitter+adapt_diag...\n",
      "Multiprocess sampling (4 chains in 4 jobs)\n",
      "NUTS: [k, m]\n"
     ]
    },
    {
     "data": {
      "application/vnd.jupyter.widget-view+json": {
       "model_id": "eff9547862f14c4684d53224d4bf69f0",
       "version_major": 2,
       "version_minor": 0
      },
      "text/plain": [
       "Output()"
      ]
     },
     "metadata": {},
     "output_type": "display_data"
    },
    {
     "data": {
      "text/html": [
       "<pre style=\"white-space:pre;overflow-x:auto;line-height:normal;font-family:Menlo,'DejaVu Sans Mono',consolas,'Courier New',monospace\"></pre>\n"
      ],
      "text/plain": []
     },
     "metadata": {},
     "output_type": "display_data"
    },
    {
     "name": "stderr",
     "output_type": "stream",
     "text": [
      "Sampling 4 chains for 1_500 tune and 1_500 draw iterations (6_000 + 6_000 draws total) took 22 seconds.\n"
     ]
    }
   ],
   "source": [
    "from pytensor.tensor.special import gammaln \n",
    "\n",
    "# --- 1) Build clean inter-arrivals (seconds) ---\n",
    "times = np.asarray(times_data, float)               # your event times (seconds), increasing\n",
    "times = times[np.isfinite(times)]                   # drop any NaNs/Infs just in case\n",
    "times = np.sort(times)\n",
    "\n",
    "dt = np.diff(times)                                 # raw gaps\n",
    "# detect problems\n",
    "n_nan   = np.sum(~np.isfinite(dt))\n",
    "n_nonpos= np.sum(~(dt > 0))\n",
    "print(f\"[diag] dt size={dt.size}, NaN/Inf={n_nan}, non-positive={n_nonpos}, \"\n",
    "      f\"min={np.nanmin(dt) if dt.size else np.nan}\")\n",
    "\n",
    "# replace any bad gaps by tiny positive epsilon (keeps counts & order)\n",
    "median_gap = np.nanmedian(dt) if np.isfinite(np.nanmedian(dt)) else 600.0\n",
    "eps = max(1e-9, 1e-6 * median_gap)                  # ~ micro-fraction of typical gap\n",
    "dt_fix = np.where(dt > 0, dt, eps)\n",
    "\n",
    "# --- 2) Scale to ~O(1) for friendly geometry ---\n",
    "dt_scale = np.median(dt_fix)\n",
    "dt_s = dt_fix / dt_scale\n",
    "\n",
    "coords = {\"interval\": np.arange(dt_s.size)}\n",
    "\n",
    "# --- 3) Gamma renewal in mean–shape parameterization ---\n",
    "with pm.Model(coords=coords) as gam_m:\n",
    "    k = pm.Exponential(\"k\", 1.0)                    # shape > 0, away from 0\n",
    "    m = pm.LogNormal(\"m\", 0.0, 0.5)                 # mean in *scaled* units (~1)\n",
    "    rate = pm.Deterministic(\"rate\", k / m)          # PyMC Gamma(alpha=k, beta=rate)\n",
    "\n",
    "    y = pm.Gamma(\"y\", alpha=k, beta=rate, observed=dt_s, dims=[\"interval\"])\n",
    "\n",
    "    id_gamma = pm.sample(\n",
    "        draws=1500, tune=1500, chains=4, target_accept=0.98,\n",
    "        init=\"jitter+adapt_diag\", return_inferencedata=True,\n",
    "        idata_kwargs={\"log_likelihood\": True}, random_seed=42\n",
    "    )\n"
   ]
  },
  {
   "cell_type": "code",
   "execution_count": 73,
   "id": "5d3158c0-8b03-4ced-b83e-3b221b2b05ae",
   "metadata": {},
   "outputs": [
    {
     "name": "stdout",
     "output_type": "stream",
     "text": [
      "{'k': -1.0, 'm': -0.26, 'y': -20785.35}\n",
      "total logp: -20786.609999999997\n",
      "point={'k_log__': array(0.), 'm_log__': array(0.12499998)}\n",
      "\n",
      "No problems found\n"
     ]
    }
   ],
   "source": [
    "with gam_m:\n",
    "    # 1) Build a concrete starting point (the “test point”)\n",
    "    ip = gam_m.initial_point()   # dict of value variables → arrays\n",
    "\n",
    "    # 2) Check it’s valid (raises if anything is -inf / nan)\n",
    "    gam_m.check_start_vals(ip)\n",
    "\n",
    "    # 3) See each term’s logp at the start\n",
    "    contribs = gam_m.point_logps(point=ip)  # dict: var name -> logp contribution\n",
    "    print({k: float(v) for k, v in contribs.items()})\n",
    "    print(\"total logp:\", float(sum(contribs.values())))\n",
    "\n",
    "    # 4) For a fuller report:\n",
    "    gam_m.debug()   # prints shapes, transforms, and logp diagnostics"
   ]
  },
  {
   "cell_type": "code",
   "execution_count": 74,
   "id": "39d6b0ec-ca3f-423b-a69d-f7aec4632ee2",
   "metadata": {},
   "outputs": [
    {
     "name": "stderr",
     "output_type": "stream",
     "text": [
      "Initializing NUTS using jitter+adapt_diag...\n",
      "Multiprocess sampling (4 chains in 4 jobs)\n",
      "NUTS: [alpha, scale]\n"
     ]
    },
    {
     "data": {
      "application/vnd.jupyter.widget-view+json": {
       "model_id": "e0c1b626ad6846a0ba9aaef525ea7923",
       "version_major": 2,
       "version_minor": 0
      },
      "text/plain": [
       "Output()"
      ]
     },
     "metadata": {},
     "output_type": "display_data"
    },
    {
     "data": {
      "text/html": [
       "<pre style=\"white-space:pre;overflow-x:auto;line-height:normal;font-family:Menlo,'DejaVu Sans Mono',consolas,'Courier New',monospace\"></pre>\n"
      ],
      "text/plain": []
     },
     "metadata": {},
     "output_type": "display_data"
    },
    {
     "name": "stderr",
     "output_type": "stream",
     "text": [
      "Sampling 4 chains for 1_500 tune and 1_500 draw iterations (6_000 + 6_000 draws total) took 81 seconds.\n"
     ]
    }
   ],
   "source": [
    "with pm.Model(coords=coords) as wei_m:\n",
    "    alpha = pm.Exponential(\"alpha\", 1.0)       # shape > 0\n",
    "    scale = pm.LogNormal(\"scale\", 0.0, 0.5)    # scale ~ 1 in scaled units\n",
    "\n",
    "    y = pm.Weibull(\"y\", alpha=alpha, beta=scale, observed=dt_s, dims=[\"interval\"])\n",
    "\n",
    "    id_weibull = pm.sample(\n",
    "        1500, tune=1500, chains=4, target_accept=0.98, init=\"jitter+adapt_diag\",\n",
    "        return_inferencedata=True, idata_kwargs={\"log_likelihood\": True}, random_seed=42\n",
    "    )"
   ]
  },
  {
   "cell_type": "code",
   "execution_count": 38,
   "id": "b6a8143c-c4b6-47bd-9ae5-a07e8340707b",
   "metadata": {},
   "outputs": [],
   "source": [
    "import pytensor.tensor as pt\n",
    "from pytensor.scan.basic import scan as pt_scan\n",
    "\n",
    "def hawkes_ll_interval_vector(times, T, mu, alpha, beta, eps=1e-30):\n",
    "    \"\"\"\n",
    "    Per-event log-likelihood for Hawkes(exp). Length N vector whose sum is the full log-lik on [0,T].\n",
    "    The last element includes the tail integral (t_N, T].\n",
    "    \"\"\"\n",
    "    # Cast to graph vars / floatX\n",
    "    times = pt.as_tensor_variable(times).astype(pytensor.config.floatX)\n",
    "    T     = pt.as_tensor_variable(T).astype(pytensor.config.floatX)\n",
    "    mu    = pt.as_tensor_variable(mu).astype(pytensor.config.floatX)\n",
    "    alpha = pt.as_tensor_variable(alpha).astype(pytensor.config.floatX)\n",
    "    beta  = pt.as_tensor_variable(beta).astype(pytensor.config.floatX)\n",
    "\n",
    "    # Δt: (t1-0), (t2-t1), ..., (tN - t_{N-1})\n",
    "    dts = pt.concatenate([times[:1], times[1:] - times[:-1]], axis=0)\n",
    "\n",
    "    def step(dt, s_post_prev, mu, alpha, beta):\n",
    "        # state just BEFORE event i\n",
    "        s_pre  = s_post_prev * pt.exp(-beta * dt)\n",
    "        lam    = mu + alpha * s_pre\n",
    "        integ  = mu * dt + (alpha / beta) * (1.0 - pt.exp(-beta * dt)) * s_post_prev\n",
    "        contrib = pt.log(pt.clip(lam, eps, 1e30)) - integ\n",
    "        s_post = s_pre + 1.0  # add the new event\n",
    "        return s_post, contrib\n",
    "\n",
    "    (s_post_seq, contrib_seq), _ = pt_scan(\n",
    "        fn=step,\n",
    "        sequences=[dts],\n",
    "        outputs_info=[pt.as_tensor_variable(0.0).astype(pytensor.config.floatX), None],\n",
    "        non_sequences=[mu, alpha, beta],\n",
    "    )\n",
    "\n",
    "    # Tail integral (t_N, T]\n",
    "    tail_dt = pt.maximum(T - times[-1], 0.0)\n",
    "    tail    = mu * tail_dt + (alpha / beta) * (1.0 - pt.exp(-beta * tail_dt)) * s_post_seq[-1]\n",
    "\n",
    "    # Put the tail into the last element so sum(contrib_seq) is the joint log-lik\n",
    "    contrib_seq = pt.concatenate([contrib_seq[:-1], contrib_seq[-1:] - tail], axis=0)\n",
    "    return contrib_seq"
   ]
  },
  {
   "cell_type": "code",
   "execution_count": 39,
   "id": "92bfd9d8-8551-44ae-ba55-3056854bfb08",
   "metadata": {},
   "outputs": [
    {
     "name": "stderr",
     "output_type": "stream",
     "text": [
      "Initializing NUTS using adapt_diag...\n",
      "Multiprocess sampling (2 chains in 2 jobs)\n",
      "NUTS: [mu, beta, rho]\n"
     ]
    },
    {
     "data": {
      "application/vnd.jupyter.widget-view+json": {
       "model_id": "65bee202f12244e3a28532ac0f559d54",
       "version_major": 2,
       "version_minor": 0
      },
      "text/plain": [
       "Output()"
      ]
     },
     "metadata": {},
     "output_type": "display_data"
    },
    {
     "data": {
      "text/html": [
       "<pre style=\"white-space:pre;overflow-x:auto;line-height:normal;font-family:Menlo,'DejaVu Sans Mono',consolas,'Courier New',monospace\"></pre>\n"
      ],
      "text/plain": []
     },
     "metadata": {},
     "output_type": "display_data"
    },
    {
     "name": "stderr",
     "output_type": "stream",
     "text": [
      "Sampling 2 chains for 200 tune and 200 draw iterations (400 + 400 draws total) took 6168 seconds.\n",
      "We recommend running at least 4 chains for robust computation of convergence diagnostics\n",
      "The rhat statistic is larger than 1.01 for some parameters. This indicates problems during sampling. See https://arxiv.org/abs/1903.08008 for details\n",
      "The effective sample size per chain is smaller than 100 for some parameters.  A higher number is needed for reliable rhat and ess computation. See https://arxiv.org/abs/1903.08008 for details\n"
     ]
    }
   ],
   "source": [
    "import pytensor\n",
    "import pytensor.tensor as pt\n",
    "\n",
    "import pymc as pm\n",
    "\n",
    "# Ensure these are in consistent units and strictly increasing\n",
    "times_np = np.asarray(times_data, float)\n",
    "assert np.all(np.diff(times_np) > 0), \"times_data must be strictly increasing\"\n",
    "T_obs_np = float(T_obs)\n",
    "\n",
    "coords = {\"interval\": np.arange(times_np.size)}\n",
    "\n",
    "with pm.Model(coords=coords) as hawkes_m:\n",
    "    times_c = pm.Data(\"times\", times_np, dims=[\"interval\"])\n",
    "    T_c     = pm.Data(\"T\",     np.array(T_obs_np, dtype=times_np.dtype))\n",
    "\n",
    "    mu    = pm.HalfNormal(\"mu\", 1.0)\n",
    "    beta  = pm.HalfNormal(\"beta\", 1.0)\n",
    "    rho   = pm.Beta(\"rho\", 2, 5)\n",
    "    alpha = pm.Deterministic(\"alpha\", rho * beta)\n",
    "\n",
    "    # Optional stationarity soft-constraint\n",
    "    pm.Potential(\"stability\", pm.math.switch(alpha / beta < 0.98, 0.0, -np.inf))\n",
    "\n",
    "    ll_i = hawkes_ll_interval_vector(times_c, T_c, mu, alpha, beta)\n",
    "    pm.Deterministic(\"ll_interval\", ll_i, dims=[\"interval\"])\n",
    "    pm.Potential(\"sum_ll\", ll_i.sum())\n",
    "\n",
    "    id_hawkes = pm.sample(\n",
    "        200, tune=200, chains=2, target_accept=0.9, init=\"adapt_diag\",\n",
    "        return_inferencedata=True, random_seed=123\n",
    "    )\n",
    "\n",
    "# Register pointwise loglik for ArviZ\n",
    "id_hawkes.add_groups({\"log_likelihood\": {\"interval\": id_hawkes.posterior[\"ll_interval\"]}})"
   ]
  },
  {
   "cell_type": "code",
   "execution_count": 62,
   "id": "b2a9f64a-7a89-41dd-bd0e-b1647aaa2c70",
   "metadata": {},
   "outputs": [],
   "source": [
    "import xarray as xr\n",
    "\n",
    "def ensure_ll_varname(idata, target=\"interval\", source=None):\n",
    "    \"\"\"\n",
    "    Ensure idata.log_likelihood[target] exists and has dims ('chain','draw','interval').\n",
    "    If `source` is None, tries 'y' (for Gamma/Weibull) then 'll_interval' (posterior deterministic).\n",
    "    \"\"\"\n",
    "    # Already there\n",
    "    if hasattr(idata, \"log_likelihood\") and target in idata.log_likelihood.data_vars:\n",
    "        return idata\n",
    "\n",
    "    # pick a source\n",
    "    if source is None:\n",
    "        if hasattr(idata, \"log_likelihood\") and \"y\" in idata.log_likelihood.data_vars:\n",
    "            source = (\"log_likelihood\", \"y\")          # Gamma/Weibull\n",
    "        elif hasattr(idata, \"posterior\") and \"ll_interval\" in idata.posterior.data_vars:\n",
    "            source = (\"posterior\", \"ll_interval\")     # custom models\n",
    "        else:\n",
    "            raise ValueError(\"No suitable source loglik ('y' or 'll_interval') found.\")\n",
    "\n",
    "    grp, var = source\n",
    "\n",
    "    # get the DataArray\n",
    "    if grp == \"log_likelihood\":\n",
    "        ll = idata.log_likelihood[var]\n",
    "    elif grp == \"posterior\":\n",
    "        ll = idata.posterior[var]\n",
    "    else:\n",
    "        raise ValueError(f\"Unknown group {grp}\")\n",
    "\n",
    "    # Make sure dims are ('chain','draw','interval') and the event dim is named 'interval'\n",
    "    dims = list(ll.dims)\n",
    "    if {\"chain\",\"draw\"}.issubset(dims):\n",
    "        # find the non chain/draw dim\n",
    "        rest = [d for d in dims if d not in (\"chain\",\"draw\")]\n",
    "        if len(rest) != 1:\n",
    "            raise ValueError(f\"Ambiguous event dims for loglik: {dims}\")\n",
    "        evdim = rest[0]\n",
    "        if evdim != \"interval\":\n",
    "            ll = ll.rename({evdim: \"interval\"})\n",
    "        ll = ll.transpose(\"chain\",\"draw\",\"interval\")\n",
    "    else:\n",
    "        # If someone saved pointwise ll without chain/draw, expand using posterior sizes\n",
    "        n_chain = idata.posterior.dims.get(\"chain\", None)\n",
    "        n_draw  = idata.posterior.dims.get(\"draw\",  None)\n",
    "        if n_chain is None or n_draw is None:\n",
    "            raise ValueError(\"Cannot infer chain/draw sizes to expand loglik.\")\n",
    "        if \"interval\" not in ll.dims:\n",
    "            # assume it's 1D and rename its only dim to 'interval'\n",
    "            if ll.ndim != 1:\n",
    "                raise ValueError(f\"Unexpected loglik dims: {ll.dims}\")\n",
    "            ll = ll.rename({ll.dims[0]: \"interval\"})\n",
    "        ll = ll.expand_dims(chain=n_chain, draw=n_draw).transpose(\"chain\",\"draw\",\"interval\")\n",
    "\n",
    "    # Write into group (create group if needed)\n",
    "    if hasattr(idata, \"log_likelihood\"):\n",
    "        idata.log_likelihood[target] = ll\n",
    "    else:\n",
    "        idata.add_groups({\"log_likelihood\": xr.Dataset({target: ll})})\n",
    "    return idata\n",
    "\n"
   ]
  },
  {
   "cell_type": "code",
   "execution_count": 59,
   "id": "310b7b6b-3c80-4b6f-821d-efb7eacdf654",
   "metadata": {},
   "outputs": [
    {
     "ename": "NameError",
     "evalue": "name 'ensure_ll_varname' is not defined",
     "output_type": "error",
     "traceback": [
      "\u001b[0;31m---------------------------------------------------------------------------\u001b[0m",
      "\u001b[0;31mNameError\u001b[0m                                 Traceback (most recent call last)",
      "Cell \u001b[0;32mIn[59], line 1\u001b[0m\n\u001b[0;32m----> 1\u001b[0m id_pois   \u001b[38;5;241m=\u001b[39m \u001b[43mensure_ll_varname\u001b[49m(id_pois)                     \u001b[38;5;66;03m# expects posterior['ll_interval'] or log_lik['y']\u001b[39;00m\n\u001b[1;32m      2\u001b[0m id_ip     \u001b[38;5;241m=\u001b[39m ensure_ll_varname(id_ip)\n\u001b[1;32m      3\u001b[0m id_hawkes \u001b[38;5;241m=\u001b[39m ensure_ll_varname(id_hawkes)\n",
      "\u001b[0;31mNameError\u001b[0m: name 'ensure_ll_varname' is not defined"
     ]
    }
   ],
   "source": [
    "id_pois   = ensure_ll_varname(id_pois)                     # expects posterior['ll_interval'] or log_lik['y']\n",
    "id_ip     = ensure_ll_varname(id_ip)\n",
    "id_hawkes = ensure_ll_varname(id_hawkes)\n",
    "id_gamma  = ensure_ll_varname(id_gamma,  source=(\"log_likelihood\",\"y\"))\n",
    "id_weib   = ensure_ll_varname(id_weib,   source=(\"log_likelihood\",\"y\"))"
   ]
  },
  {
   "cell_type": "code",
   "execution_count": 64,
   "id": "1d7b01a0-7a59-485c-b361-ab1b99fa1d2d",
   "metadata": {},
   "outputs": [
    {
     "name": "stdout",
     "output_type": "stream",
     "text": [
      "pois ('chain', 'draw', 'interval_dim_0') (2, 1000, 15000)\n",
      "ip ('chain', 'draw', 'interval_dim_0') (2, 1000, 15000)\n",
      "hawkes ('chain', 'draw', 'interval_dim_0') (2, 200, 15000)\n",
      "gamma ('chain', 'draw', 'interval') (4, 1500, 14999)\n",
      "weibull ('chain', 'draw', 'interval_dim_0') (2, 1000, 15000)\n"
     ]
    }
   ],
   "source": [
    "def check(idata, name):\n",
    "    ll = idata.log_likelihood[\"interval\"]\n",
    "    print(name, ll.dims, ll.shape)\n",
    "\n",
    "for nm, idt in [(\"pois\", id_pois), (\"ip\", id_ip), (\"hawkes\", id_hawkes),\n",
    "                (\"gamma\", id_gamma), (\"weibull\", id_weib)]:\n",
    "    check(idt, nm)"
   ]
  },
  {
   "cell_type": "code",
   "execution_count": 65,
   "id": "0c87d8a5-4c50-4a14-8821-4014d8142458",
   "metadata": {},
   "outputs": [
    {
     "ename": "ValueError",
     "evalue": "The number of observations should be the same across all models",
     "output_type": "error",
     "traceback": [
      "\u001b[0;31m---------------------------------------------------------------------------\u001b[0m",
      "\u001b[0;31mValueError\u001b[0m                                Traceback (most recent call last)",
      "Cell \u001b[0;32mIn[65], line 1\u001b[0m\n\u001b[0;32m----> 1\u001b[0m cmp \u001b[38;5;241m=\u001b[39m \u001b[43maz\u001b[49m\u001b[38;5;241;43m.\u001b[39;49m\u001b[43mcompare\u001b[49m\u001b[43m(\u001b[49m\n\u001b[1;32m      2\u001b[0m \u001b[43m    \u001b[49m\u001b[43m{\u001b[49m\u001b[38;5;124;43m\"\u001b[39;49m\u001b[38;5;124;43mpoisson\u001b[39;49m\u001b[38;5;124;43m\"\u001b[39;49m\u001b[43m:\u001b[49m\u001b[43m \u001b[49m\u001b[43mid_pois\u001b[49m\u001b[43m,\u001b[49m\u001b[43m \u001b[49m\u001b[38;5;124;43m\"\u001b[39;49m\u001b[38;5;124;43mip\u001b[39;49m\u001b[38;5;124;43m\"\u001b[39;49m\u001b[43m:\u001b[49m\u001b[43m \u001b[49m\u001b[43mid_ip\u001b[49m\u001b[43m,\u001b[49m\u001b[43m \u001b[49m\u001b[38;5;124;43m\"\u001b[39;49m\u001b[38;5;124;43mgamma\u001b[39;49m\u001b[38;5;124;43m\"\u001b[39;49m\u001b[43m:\u001b[49m\u001b[43m \u001b[49m\u001b[43mid_gamma\u001b[49m\u001b[43m,\u001b[49m\u001b[43m \u001b[49m\u001b[38;5;124;43m\"\u001b[39;49m\u001b[38;5;124;43mweibull\u001b[39;49m\u001b[38;5;124;43m\"\u001b[39;49m\u001b[43m:\u001b[49m\u001b[43m \u001b[49m\u001b[43mid_weib\u001b[49m\u001b[43m,\u001b[49m\u001b[43m \u001b[49m\u001b[38;5;124;43m\"\u001b[39;49m\u001b[38;5;124;43mhawkes\u001b[39;49m\u001b[38;5;124;43m\"\u001b[39;49m\u001b[43m:\u001b[49m\u001b[43m \u001b[49m\u001b[43mid_hawkes\u001b[49m\u001b[43m}\u001b[49m\u001b[43m,\u001b[49m\n\u001b[1;32m      3\u001b[0m \u001b[43m    \u001b[49m\u001b[43mic\u001b[49m\u001b[38;5;241;43m=\u001b[39;49m\u001b[38;5;124;43m\"\u001b[39;49m\u001b[38;5;124;43mloo\u001b[39;49m\u001b[38;5;124;43m\"\u001b[39;49m\u001b[43m,\u001b[49m\u001b[43m \u001b[49m\u001b[43mmethod\u001b[49m\u001b[38;5;241;43m=\u001b[39;49m\u001b[38;5;124;43m\"\u001b[39;49m\u001b[38;5;124;43mstacking\u001b[39;49m\u001b[38;5;124;43m\"\u001b[39;49m\u001b[43m,\u001b[49m\u001b[43m \u001b[49m\u001b[43mvar_name\u001b[49m\u001b[38;5;241;43m=\u001b[39;49m\u001b[38;5;124;43m\"\u001b[39;49m\u001b[38;5;124;43minterval\u001b[39;49m\u001b[38;5;124;43m\"\u001b[39;49m\n\u001b[1;32m      4\u001b[0m \u001b[43m)\u001b[49m\n\u001b[1;32m      5\u001b[0m cmp\n",
      "File \u001b[0;32m~/miniconda3/envs/bayes310/lib/python3.10/site-packages/arviz/stats/stats.py:226\u001b[0m, in \u001b[0;36mcompare\u001b[0;34m(compare_dict, ic, method, b_samples, alpha, seed, scale, var_name)\u001b[0m\n\u001b[1;32m    223\u001b[0m ics[ic_i] \u001b[38;5;241m=\u001b[39m ics[ic_i]\u001b[38;5;241m.\u001b[39mapply(\u001b[38;5;28;01mlambda\u001b[39;00m x: x\u001b[38;5;241m.\u001b[39mvalues\u001b[38;5;241m.\u001b[39mflatten())\n\u001b[1;32m    225\u001b[0m \u001b[38;5;28;01mif\u001b[39;00m method\u001b[38;5;241m.\u001b[39mlower() \u001b[38;5;241m==\u001b[39m \u001b[38;5;124m\"\u001b[39m\u001b[38;5;124mstacking\u001b[39m\u001b[38;5;124m\"\u001b[39m:\n\u001b[0;32m--> 226\u001b[0m     rows, cols, ic_i_val \u001b[38;5;241m=\u001b[39m \u001b[43m_ic_matrix\u001b[49m\u001b[43m(\u001b[49m\u001b[43mics\u001b[49m\u001b[43m,\u001b[49m\u001b[43m \u001b[49m\u001b[43mic_i\u001b[49m\u001b[43m)\u001b[49m\n\u001b[1;32m    227\u001b[0m     exp_ic_i \u001b[38;5;241m=\u001b[39m np\u001b[38;5;241m.\u001b[39mexp(ic_i_val \u001b[38;5;241m/\u001b[39m scale_value)\n\u001b[1;32m    228\u001b[0m     km1 \u001b[38;5;241m=\u001b[39m cols \u001b[38;5;241m-\u001b[39m \u001b[38;5;241m1\u001b[39m\n",
      "File \u001b[0;32m~/miniconda3/envs/bayes310/lib/python3.10/site-packages/arviz/stats/stats.py:322\u001b[0m, in \u001b[0;36m_ic_matrix\u001b[0;34m(ics, ic_i)\u001b[0m\n\u001b[1;32m    319\u001b[0m     ic \u001b[38;5;241m=\u001b[39m ics\u001b[38;5;241m.\u001b[39mloc[val][ic_i]\n\u001b[1;32m    321\u001b[0m     \u001b[38;5;28;01mif\u001b[39;00m \u001b[38;5;28mlen\u001b[39m(ic) \u001b[38;5;241m!=\u001b[39m rows:\n\u001b[0;32m--> 322\u001b[0m         \u001b[38;5;28;01mraise\u001b[39;00m \u001b[38;5;167;01mValueError\u001b[39;00m(\u001b[38;5;124m\"\u001b[39m\u001b[38;5;124mThe number of observations should be the same across all models\u001b[39m\u001b[38;5;124m\"\u001b[39m)\n\u001b[1;32m    324\u001b[0m     ic_i_val[:, idx] \u001b[38;5;241m=\u001b[39m ic\n\u001b[1;32m    326\u001b[0m \u001b[38;5;28;01mreturn\u001b[39;00m rows, cols, ic_i_val\n",
      "\u001b[0;31mValueError\u001b[0m: The number of observations should be the same across all models"
     ]
    }
   ],
   "source": [
    "cmp = az.compare(\n",
    "    {\"poisson\": id_pois, \"ip\": id_ip, \"gamma\": id_gamma, \"weibull\": id_weib, \"hawkes\": id_hawkes},\n",
    "    ic=\"loo\", method=\"stacking\", var_name=\"interval\"\n",
    ")\n",
    "cmp"
   ]
  },
  {
   "cell_type": "code",
   "execution_count": 16,
   "id": "8104c68d-3d07-4686-ba66-61019d80f3ab",
   "metadata": {},
   "outputs": [],
   "source": [
    "def make_intervals(times_data):\n",
    "    t = np.asarray(times_data, float)\n",
    "    t = t[np.isfinite(t)]\n",
    "    t = np.sort(t)\n",
    "    if t.size == 0:\n",
    "        raise ValueError(\"No events\")\n",
    "\n",
    "    # gaps: from 0→t0, then between events\n",
    "    dt = np.empty_like(t)\n",
    "    dt[0]  = t[0]                 # gap from 0 to first event\n",
    "    di     = np.diff(t)\n",
    "    # robust tiny epsilon to avoid zeros/negatives everywhere\n",
    "    med    = np.median(di[di>0]) if np.any(di>0) else max(t[0], 600.0)\n",
    "    eps    = max(1e-12, 1e-9*med)\n",
    "    dt[1:] = np.where(di > 0, di, eps)\n",
    "    # clip the first gap too (in case t[0]==0)\n",
    "    dt[0]  = max(dt[0], eps)\n",
    "\n",
    "    return t, dt, eps\n",
    "\n",
    "times, dt, eps = make_intervals(times_data)   # <-- use your times_data here\n",
    "N = dt.size\n",
    "coords = {\"interval\": np.arange(N)}"
   ]
  },
  {
   "cell_type": "code",
   "execution_count": 17,
   "id": "cf259eba-01a1-472b-959f-0d8286b228b7",
   "metadata": {},
   "outputs": [
    {
     "name": "stderr",
     "output_type": "stream",
     "text": [
      "Initializing NUTS using adapt_diag...\n",
      "Multiprocess sampling (2 chains in 2 jobs)\n",
      "NUTS: [mu]\n"
     ]
    },
    {
     "data": {
      "application/vnd.jupyter.widget-view+json": {
       "model_id": "ad8af6646cd243a4ac1642c08413d895",
       "version_major": 2,
       "version_minor": 0
      },
      "text/plain": [
       "Output()"
      ]
     },
     "metadata": {},
     "output_type": "display_data"
    },
    {
     "data": {
      "text/html": [
       "<pre style=\"white-space:pre;overflow-x:auto;line-height:normal;font-family:Menlo,'DejaVu Sans Mono',consolas,'Courier New',monospace\"></pre>\n"
      ],
      "text/plain": []
     },
     "metadata": {},
     "output_type": "display_data"
    },
    {
     "name": "stderr",
     "output_type": "stream",
     "text": [
      "Sampling 2 chains for 1_000 tune and 1_000 draw iterations (2_000 + 2_000 draws total) took 3 seconds.\n",
      "We recommend running at least 4 chains for robust computation of convergence diagnostics\n"
     ]
    }
   ],
   "source": [
    "with pm.Model(coords=coords) as pois_m:\n",
    "    dt_c = pm.Data(\"dt\", dt, dims=[\"interval\"])\n",
    "    mu   = pm.HalfNormal(\"mu\", 1.0)\n",
    "    lam  = pm.math.clip(mu, 1e-12, 1e12)\n",
    "    ll_i = pm.math.log(lam) - lam * dt_c\n",
    "    pm.Deterministic(\"ll_interval\", ll_i, dims=[\"interval\"])\n",
    "    pm.Potential(\"sum_ll\", ll_i.sum())\n",
    "    id_pois = pm.sample(1000, tune=1000, chains=2, target_accept=0.9,\n",
    "                        return_inferencedata=True, init=\"adapt_diag\", random_seed=42)\n",
    "\n",
    "# expose pointwise loglik for ArviZ\n",
    "id_pois.add_groups({\"log_likelihood\": {\"interval\": id_pois.posterior[\"ll_interval\"]}})\n"
   ]
  },
  {
   "cell_type": "code",
   "execution_count": 1,
   "id": "85cc4766-c911-4e73-9ca4-52b445826cd2",
   "metadata": {},
   "outputs": [
    {
     "ename": "NameError",
     "evalue": "name 'pm' is not defined",
     "output_type": "error",
     "traceback": [
      "\u001b[0;31m---------------------------------------------------------------------------\u001b[0m",
      "\u001b[0;31mNameError\u001b[0m                                 Traceback (most recent call last)",
      "Cell \u001b[0;32mIn[1], line 1\u001b[0m\n\u001b[0;32m----> 1\u001b[0m \u001b[38;5;28;01mwith\u001b[39;00m \u001b[43mpm\u001b[49m\u001b[38;5;241m.\u001b[39mModel(coords\u001b[38;5;241m=\u001b[39mcoords) \u001b[38;5;28;01mas\u001b[39;00m ip_m:\n\u001b[1;32m      2\u001b[0m     dt_c   \u001b[38;5;241m=\u001b[39m pm\u001b[38;5;241m.\u001b[39mData(\u001b[38;5;124m\"\u001b[39m\u001b[38;5;124mdt\u001b[39m\u001b[38;5;124m\"\u001b[39m, dt, dims\u001b[38;5;241m=\u001b[39m[\u001b[38;5;124m\"\u001b[39m\u001b[38;5;124minterval\u001b[39m\u001b[38;5;124m\"\u001b[39m])\n\u001b[1;32m      3\u001b[0m     xdiff  \u001b[38;5;241m=\u001b[39m pm\u001b[38;5;241m.\u001b[39mData(\u001b[38;5;124m\"\u001b[39m\u001b[38;5;124mx_diff\u001b[39m\u001b[38;5;124m\"\u001b[39m, x_diff, dims\u001b[38;5;241m=\u001b[39m[\u001b[38;5;124m\"\u001b[39m\u001b[38;5;124minterval\u001b[39m\u001b[38;5;124m\"\u001b[39m])\n",
      "\u001b[0;31mNameError\u001b[0m: name 'pm' is not defined"
     ]
    }
   ],
   "source": [
    "with pm.Model(coords=coords) as ip_m:\n",
    "    dt_c   = pm.Data(\"dt\", dt, dims=[\"interval\"])\n",
    "    xdiff  = pm.Data(\"x_diff\", x_diff, dims=[\"interval\"])\n",
    "    xtx    = pm.Data(\"x_tx\",   x_tx,   dims=[\"interval\"])\n",
    "\n",
    "    beta0  = pm.Normal(\"beta0\", 0, 2)\n",
    "    b_diff = pm.Normal(\"b_diff\", 0, 1)\n",
    "    b_tx   = pm.Normal(\"b_tx\",   0, 1)\n",
    "\n",
    "    lin  = beta0 + b_diff*xdiff + b_tx*xtx\n",
    "    lin  = pm.math.clip(lin, -20, 20)             # numeric safety\n",
    "    lam  = pm.math.exp(lin)\n",
    "\n",
    "    ll_i = pm.math.log(lam) - lam * dt_c\n",
    "    pm.Deterministic(\"ll_interval\", ll_i, dims=[\"interval\"])\n",
    "    pm.Potential(\"sum_ll\", ll_i.sum())\n",
    "    id_ip = pm.sample(1000, tune=1000, chains=2, target_accept=0.9,\n",
    "                      return_inferencedata=True, init=\"adapt_diag\", random_seed=42)\n",
    "\n",
    "    id_ip.add_groups({\"log_likelihood\": {\"interval\": id_ip.posterior[\"ll_interval\"]}})"
   ]
  },
  {
   "cell_type": "code",
   "execution_count": 19,
   "id": "bab46a20-22d3-4118-a661-5e244e5ae007",
   "metadata": {},
   "outputs": [
    {
     "name": "stderr",
     "output_type": "stream",
     "text": [
      "Initializing NUTS using adapt_diag...\n",
      "Multiprocess sampling (2 chains in 2 jobs)\n",
      "NUTS: [k, scale]\n"
     ]
    },
    {
     "data": {
      "application/vnd.jupyter.widget-view+json": {
       "model_id": "979d612486754d80ad0ff62adcd35bba",
       "version_major": 2,
       "version_minor": 0
      },
      "text/plain": [
       "Output()"
      ]
     },
     "metadata": {},
     "output_type": "display_data"
    },
    {
     "data": {
      "text/html": [
       "<pre style=\"white-space:pre;overflow-x:auto;line-height:normal;font-family:Menlo,'DejaVu Sans Mono',consolas,'Courier New',monospace\"></pre>\n"
      ],
      "text/plain": []
     },
     "metadata": {},
     "output_type": "display_data"
    },
    {
     "name": "stderr",
     "output_type": "stream",
     "text": [
      "Sampling 2 chains for 1_000 tune and 1_000 draw iterations (2_000 + 2_000 draws total) took 28 seconds.\n",
      "We recommend running at least 4 chains for robust computation of convergence diagnostics\n"
     ]
    }
   ],
   "source": [
    "with pm.Model(coords=coords) as weib_m:\n",
    "    k     = pm.Exponential(\"k\", 1.0)        # shape > 0\n",
    "    scale = pm.Exponential(\"scale\", 1.0)    # scale > 0\n",
    "    y     = pm.Weibull(\"y\", alpha=k, beta=scale, observed=dt, dims=[\"interval\"])\n",
    "    id_weib = pm.sample(1000, tune=1000, chains=2, target_accept=0.95,\n",
    "                        return_inferencedata=True, init=\"adapt_diag\",idata_kwargs={\"log_likelihood\": True}, random_seed=42)\n",
    "\n",
    "id_weib.log_likelihood[\"interval\"] = id_weib.log_likelihood[\"y\"]"
   ]
  },
  {
   "cell_type": "code",
   "execution_count": 20,
   "id": "613965c6-e2a4-437f-8e9c-9b1d49b57061",
   "metadata": {},
   "outputs": [
    {
     "name": "stderr",
     "output_type": "stream",
     "text": [
      "Initializing NUTS using adapt_diag...\n",
      "Multiprocess sampling (2 chains in 2 jobs)\n",
      "NUTS: [k, rate]\n"
     ]
    },
    {
     "data": {
      "application/vnd.jupyter.widget-view+json": {
       "model_id": "e5f4ecb464494d28a991faafade3f391",
       "version_major": 2,
       "version_minor": 0
      },
      "text/plain": [
       "Output()"
      ]
     },
     "metadata": {},
     "output_type": "display_data"
    },
    {
     "data": {
      "text/html": [
       "<pre style=\"white-space:pre;overflow-x:auto;line-height:normal;font-family:Menlo,'DejaVu Sans Mono',consolas,'Courier New',monospace\"></pre>\n"
      ],
      "text/plain": []
     },
     "metadata": {},
     "output_type": "display_data"
    },
    {
     "name": "stderr",
     "output_type": "stream",
     "text": [
      "Sampling 2 chains for 1_000 tune and 1_000 draw iterations (2_000 + 2_000 draws total) took 5 seconds.\n",
      "We recommend running at least 4 chains for robust computation of convergence diagnostics\n",
      "The rhat statistic is larger than 1.01 for some parameters. This indicates problems during sampling. See https://arxiv.org/abs/1903.08008 for details\n"
     ]
    }
   ],
   "source": [
    "with pm.Model(coords=coords) as gam_m:\n",
    "    # use built-in likelihood so ArviZ records ll per obs automatically\n",
    "    k    = pm.Exponential(\"k\", 1.0)         # shape > 0\n",
    "    rate = pm.Exponential(\"rate\", 1.0)      # rate > 0  (1/scale)\n",
    "    y    = pm.Gamma(\"y\", alpha=k, beta=rate, observed=dt, dims=[\"interval\"])\n",
    "    id_gamma = pm.sample(1000, tune=1000, chains=2, target_accept=0.95,\n",
    "                         return_inferencedata=True, init=\"adapt_diag\", idata_kwargs={\"log_likelihood\": True}, random_seed=42)\n",
    "\n",
    "# alias to a common name\n",
    "id_gamma.log_likelihood[\"interval\"] = id_gamma.log_likelihood[\"y\"]"
   ]
  },
  {
   "cell_type": "code",
   "execution_count": 21,
   "id": "cb412e97-95d3-4d5a-b224-96e727a06c1b",
   "metadata": {},
   "outputs": [
    {
     "name": "stderr",
     "output_type": "stream",
     "text": [
      "Initializing NUTS using adapt_diag...\n",
      "Multiprocess sampling (2 chains in 2 jobs)\n",
      "NUTS: [k, scale]\n"
     ]
    },
    {
     "data": {
      "application/vnd.jupyter.widget-view+json": {
       "model_id": "1436dba8c904419f81d20ac3f86d693c",
       "version_major": 2,
       "version_minor": 0
      },
      "text/plain": [
       "Output()"
      ]
     },
     "metadata": {},
     "output_type": "display_data"
    },
    {
     "data": {
      "text/html": [
       "<pre style=\"white-space:pre;overflow-x:auto;line-height:normal;font-family:Menlo,'DejaVu Sans Mono',consolas,'Courier New',monospace\"></pre>\n"
      ],
      "text/plain": []
     },
     "metadata": {},
     "output_type": "display_data"
    },
    {
     "name": "stderr",
     "output_type": "stream",
     "text": [
      "Sampling 2 chains for 1_000 tune and 1_000 draw iterations (2_000 + 2_000 draws total) took 30 seconds.\n",
      "We recommend running at least 4 chains for robust computation of convergence diagnostics\n"
     ]
    }
   ],
   "source": [
    "with pm.Model(coords=coords) as weib_m:\n",
    "    k     = pm.Exponential(\"k\", 1.0)        # shape > 0\n",
    "    scale = pm.Exponential(\"scale\", 1.0)    # scale > 0\n",
    "    y     = pm.Weibull(\"y\", alpha=k, beta=scale, observed=dt, dims=[\"interval\"])\n",
    "    id_weib = pm.sample(1000, tune=1000, chains=2, target_accept=0.95,\n",
    "                        return_inferencedata=True, init=\"adapt_diag\", idata_kwargs={\"log_likelihood\": True}, random_seed=42)\n",
    "\n",
    "id_weib.log_likelihood[\"interval\"] = id_weib.log_likelihood[\"y\"]"
   ]
  },
  {
   "cell_type": "code",
   "execution_count": 26,
   "id": "759df4f6-0563-494f-97cd-9dd682e016b9",
   "metadata": {},
   "outputs": [
    {
     "name": "stderr",
     "output_type": "stream",
     "text": [
      "Multiprocess sampling (2 chains in 2 jobs)\n",
      "CompoundStep\n",
      ">Metropolis: [mu]\n",
      ">Metropolis: [beta]\n",
      ">Metropolis: [rho]\n"
     ]
    },
    {
     "data": {
      "application/vnd.jupyter.widget-view+json": {
       "model_id": "537327c013944f2ea34b2e30cb1e5dd3",
       "version_major": 2,
       "version_minor": 0
      },
      "text/plain": [
       "Output()"
      ]
     },
     "metadata": {},
     "output_type": "display_data"
    },
    {
     "name": "stderr",
     "output_type": "stream",
     "text": [
      "/home/phumz/miniconda3/envs/bayes310/lib/python3.10/site-packages/pymc/step_methods/metropolis.py:321: RuntimeWarning: overflow encountered in exp\n",
      "  \"accept\": np.mean(np.exp(self.accept_rate_iter)),\n"
     ]
    },
    {
     "data": {
      "text/html": [
       "<pre style=\"white-space:pre;overflow-x:auto;line-height:normal;font-family:Menlo,'DejaVu Sans Mono',consolas,'Courier New',monospace\"></pre>\n"
      ],
      "text/plain": []
     },
     "metadata": {},
     "output_type": "display_data"
    },
    {
     "name": "stderr",
     "output_type": "stream",
     "text": [
      "Sampling 2 chains for 1_000 tune and 1_000 draw iterations (2_000 + 2_000 draws total) took 594 seconds.\n",
      "We recommend running at least 4 chains for robust computation of convergence diagnostics\n",
      "The rhat statistic is larger than 1.01 for some parameters. This indicates problems during sampling. See https://arxiv.org/abs/1903.08008 for details\n",
      "The effective sample size per chain is smaller than 100 for some parameters.  A higher number is needed for reliable rhat and ess computation. See https://arxiv.org/abs/1903.08008 for details\n"
     ]
    }
   ],
   "source": [
    "import pytensor.tensor as pt\n",
    "from pytensor.scan.basic import scan\n",
    "\n",
    "def hawkes_ll_interval_pt(dt, mu, alpha, beta, eps=1e-12):\n",
    "    dt = pt.as_tensor_variable(dt)\n",
    "    mu    = pt.clip(mu, eps, 1e12)\n",
    "    alpha = pt.clip(alpha, eps, 1e12)\n",
    "    beta  = pt.clip(beta, eps, 1e12)\n",
    "\n",
    "    def step(dti, s_prev, mu, alpha, beta):\n",
    "        s_i   = pt.exp(-beta*dti) * (s_prev + 1.0)\n",
    "        lam_i = mu + alpha*s_i\n",
    "        log_term = pt.log(pt.clip(lam_i, eps, 1e12))\n",
    "        integ    = mu*dti + (alpha/beta) * s_prev * (1.0 - pt.exp(-beta*dti))\n",
    "        return s_i, (log_term - integ)\n",
    "\n",
    "    (s_seq, contrib_seq), _ = scan(\n",
    "        fn=step,\n",
    "        sequences=[dt],\n",
    "        outputs_info=[pt.as_tensor_variable(0.0).astype(dt.dtype), None],\n",
    "        non_sequences=[mu, alpha, beta],\n",
    "    )\n",
    "    return contrib_seq\n",
    "\n",
    "with pm.Model(coords=coords) as hawkes_m:\n",
    "    dt_c  = pm.Data(\"dt\", dt, dims=[\"interval\"])\n",
    "    mu    = pm.HalfNormal(\"mu\", 1.0)\n",
    "    beta  = pm.HalfNormal(\"beta\", 1.0)\n",
    "    rho   = pm.Beta(\"rho\", 2, 5)\n",
    "    alpha = pm.Deterministic(\"alpha\", rho*beta)\n",
    "\n",
    "    # optional soft stationarity constraint (alpha/beta < 1)\n",
    "    pm.Potential(\"stability\", pm.math.switch(alpha/beta < 0.98, 0.0, -np.inf))\n",
    "\n",
    "    ll_i = hawkes_ll_interval_pt(dt_c, mu, alpha, beta)\n",
    "    pm.Deterministic(\"ll_interval\", ll_i, dims=[\"interval\"])\n",
    "    pm.Potential(\"sum_ll\", ll_i.sum())\n",
    "\n",
    "    # Use Metropolis for robustness (no gradients through scan)\n",
    "    id_hawkes = pm.sample(1000, tune=1000, chains=2, step=pm.Metropolis(),\n",
    "                          return_inferencedata=True, init=\"adapt_diag\",idata_kwargs={\"log_likelihood\": True}, random_seed=42)\n",
    "\n",
    "#id_hawkes.log_likelihood[\"interval\"] = id_hawkes.posterior[\"ll_interval\"]\n",
    "id_hawkes.add_groups({\"log_likelihood\": {\"interval\": id_hawkes.posterior[\"ll_interval\"]}})"
   ]
  },
  {
   "cell_type": "code",
   "execution_count": 60,
   "id": "6b1a0499-7d06-429d-9b09-eafc4351125b",
   "metadata": {},
   "outputs": [
    {
     "name": "stdout",
     "output_type": "stream",
     "text": [
      "pois ('chain', 'draw', 'interval_dim_0') (2, 1000, 15000)\n",
      "ip ('chain', 'draw', 'interval_dim_0') (2, 1000, 15000)\n",
      "gamma ('chain', 'draw', 'interval') (2, 1000, 15000)\n",
      "weibull ('chain', 'draw', 'interval') (2, 1000, 15000)\n",
      "hawkes ('chain', 'draw', 'interval_dim_0') (2, 1000, 15000)\n"
     ]
    }
   ],
   "source": [
    "def show_shape(name, idata):\n",
    "    ll = idata.log_likelihood[\"interval\"]\n",
    "    print(name, ll.dims, ll.shape)\n",
    "\n",
    "for nm, idt in [(\"pois\", id_pois), (\"ip\", id_ip), (\"gamma\", id_gamma),\n",
    "                (\"weibull\", id_weib), (\"hawkes\", id_hawkes)]:\n",
    "    show_shape(nm, idt)"
   ]
  },
  {
   "cell_type": "code",
   "execution_count": 61,
   "id": "033aaf93-6a45-4aaf-870c-f2330d48cea5",
   "metadata": {},
   "outputs": [
    {
     "name": "stderr",
     "output_type": "stream",
     "text": [
      "/home/phumz/miniconda3/envs/bayes310/lib/python3.10/site-packages/arviz/stats/stats.py:797: UserWarning: Estimated shape parameter of Pareto distribution is greater than 0.70 for one or more samples. You should consider using a more robust model, this is because importance sampling is less likely to work well if the marginal posterior and LOO posterior are very different. This is more likely to happen with a non-robust model and highly influential observations.\n",
      "  warnings.warn(\n"
     ]
    },
    {
     "data": {
      "text/html": [
       "<div>\n",
       "<style scoped>\n",
       "    .dataframe tbody tr th:only-of-type {\n",
       "        vertical-align: middle;\n",
       "    }\n",
       "\n",
       "    .dataframe tbody tr th {\n",
       "        vertical-align: top;\n",
       "    }\n",
       "\n",
       "    .dataframe thead th {\n",
       "        text-align: right;\n",
       "    }\n",
       "</style>\n",
       "<table border=\"1\" class=\"dataframe\">\n",
       "  <thead>\n",
       "    <tr style=\"text-align: right;\">\n",
       "      <th></th>\n",
       "      <th>rank</th>\n",
       "      <th>elpd_loo</th>\n",
       "      <th>p_loo</th>\n",
       "      <th>elpd_diff</th>\n",
       "      <th>weight</th>\n",
       "      <th>se</th>\n",
       "      <th>dse</th>\n",
       "      <th>warning</th>\n",
       "      <th>scale</th>\n",
       "    </tr>\n",
       "  </thead>\n",
       "  <tbody>\n",
       "    <tr>\n",
       "      <th>hawkes</th>\n",
       "      <td>0</td>\n",
       "      <td>-104990.806061</td>\n",
       "      <td>1.359907</td>\n",
       "      <td>0.000000</td>\n",
       "      <td>1.000000e+00</td>\n",
       "      <td>152.940672</td>\n",
       "      <td>0.000000</td>\n",
       "      <td>False</td>\n",
       "      <td>log</td>\n",
       "    </tr>\n",
       "    <tr>\n",
       "      <th>ip</th>\n",
       "      <td>1</td>\n",
       "      <td>-109544.113737</td>\n",
       "      <td>17.676066</td>\n",
       "      <td>4553.307676</td>\n",
       "      <td>2.234954e-07</td>\n",
       "      <td>127.754971</td>\n",
       "      <td>80.865807</td>\n",
       "      <td>True</td>\n",
       "      <td>log</td>\n",
       "    </tr>\n",
       "    <tr>\n",
       "      <th>gamma</th>\n",
       "      <td>2</td>\n",
       "      <td>-110509.046199</td>\n",
       "      <td>2.075028</td>\n",
       "      <td>5518.240138</td>\n",
       "      <td>9.380840e-08</td>\n",
       "      <td>120.070543</td>\n",
       "      <td>72.432015</td>\n",
       "      <td>False</td>\n",
       "      <td>log</td>\n",
       "    </tr>\n",
       "    <tr>\n",
       "      <th>poisson</th>\n",
       "      <td>3</td>\n",
       "      <td>-110520.008073</td>\n",
       "      <td>0.990718</td>\n",
       "      <td>5529.202012</td>\n",
       "      <td>7.217620e-09</td>\n",
       "      <td>119.890321</td>\n",
       "      <td>68.901712</td>\n",
       "      <td>False</td>\n",
       "      <td>log</td>\n",
       "    </tr>\n",
       "    <tr>\n",
       "      <th>weibull</th>\n",
       "      <td>4</td>\n",
       "      <td>-110522.457509</td>\n",
       "      <td>1.865062</td>\n",
       "      <td>5531.651447</td>\n",
       "      <td>0.000000e+00</td>\n",
       "      <td>124.495873</td>\n",
       "      <td>70.110131</td>\n",
       "      <td>False</td>\n",
       "      <td>log</td>\n",
       "    </tr>\n",
       "  </tbody>\n",
       "</table>\n",
       "</div>"
      ],
      "text/plain": [
       "         rank       elpd_loo      p_loo    elpd_diff        weight  \\\n",
       "hawkes      0 -104990.806061   1.359907     0.000000  1.000000e+00   \n",
       "ip          1 -109544.113737  17.676066  4553.307676  2.234954e-07   \n",
       "gamma       2 -110509.046199   2.075028  5518.240138  9.380840e-08   \n",
       "poisson     3 -110520.008073   0.990718  5529.202012  7.217620e-09   \n",
       "weibull     4 -110522.457509   1.865062  5531.651447  0.000000e+00   \n",
       "\n",
       "                 se        dse  warning scale  \n",
       "hawkes   152.940672   0.000000    False   log  \n",
       "ip       127.754971  80.865807     True   log  \n",
       "gamma    120.070543  72.432015    False   log  \n",
       "poisson  119.890321  68.901712    False   log  \n",
       "weibull  124.495873  70.110131    False   log  "
      ]
     },
     "execution_count": 61,
     "metadata": {},
     "output_type": "execute_result"
    }
   ],
   "source": [
    "import arviz as az\n",
    "cmp = az.compare(\n",
    "    {\"poisson\": id_pois, \"ip\": id_ip, \"gamma\": id_gamma, \"weibull\": id_weib, \"hawkes\": id_hawkes},\n",
    "    ic=\"loo\", method=\"stacking\", var_name=\"interval\"\n",
    ")\n",
    "cmp"
   ]
  },
  {
   "cell_type": "code",
   "execution_count": null,
   "id": "5666a2f9-74f3-47e7-bb0f-4f5527131aff",
   "metadata": {},
   "outputs": [],
   "source": []
  }
 ],
 "metadata": {
  "kernelspec": {
   "display_name": "Python 3 (ipykernel)",
   "language": "python",
   "name": "python3"
  },
  "language_info": {
   "codemirror_mode": {
    "name": "ipython",
    "version": 3
   },
   "file_extension": ".py",
   "mimetype": "text/x-python",
   "name": "python",
   "nbconvert_exporter": "python",
   "pygments_lexer": "ipython3",
   "version": "3.10.18"
  }
 },
 "nbformat": 4,
 "nbformat_minor": 5
}
